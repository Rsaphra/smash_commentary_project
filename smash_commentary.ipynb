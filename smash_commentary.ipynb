{
 "cells": [
  {
   "cell_type": "code",
   "execution_count": 1,
   "metadata": {},
   "outputs": [
    {
     "name": "stderr",
     "output_type": "stream",
     "text": [
      "[nltk_data] Downloading package punkt to /Users/dsaphra/nltk_data...\n",
      "[nltk_data]   Package punkt is already up-to-date!\n"
     ]
    },
    {
     "data": {
      "text/plain": [
       "True"
      ]
     },
     "execution_count": 1,
     "metadata": {},
     "output_type": "execute_result"
    }
   ],
   "source": [
    "import pandas as pd\n",
    "import numpy as np\n",
    "from youtube_transcript_api import YouTubeTranscriptApi as yttapi\n",
    "from selenium import webdriver\n",
    "import re\n",
    "import matplotlib.pyplot as plt\n",
    "%matplotlib inline\n",
    "import time \n",
    "\n",
    "\n",
    "import nltk\n",
    "nltk.download('punkt')"
   ]
  },
  {
   "cell_type": "code",
   "execution_count": 2,
   "metadata": {},
   "outputs": [],
   "source": [
    "test_script = yttapi.get_transcript('b82JR0k33Ho')"
   ]
  },
  {
   "cell_type": "code",
   "execution_count": 3,
   "metadata": {},
   "outputs": [],
   "source": [
    "def get_texts_from_transcript(text: list):\n",
    "    \"\"\"\n",
    "        The transcript returned by the transcript api is a list of dictionaries which contain irrelevant info \n",
    "        This method returns only the text of the entire transcript, returned as one concatonated string\n",
    "        \n",
    "        @Params: text as a list of dictionaries\n",
    "        @Returns: full text as a single string\n",
    "    \"\"\"\n",
    "    full_text = ''\n",
    "    for time_block in text:\n",
    "        # add whitespace at the end for concatonation later\n",
    "        text_block = time_block['text'] + ' '\n",
    "        full_text += text_block\n",
    "    return full_text"
   ]
  },
  {
   "cell_type": "code",
   "execution_count": 4,
   "metadata": {},
   "outputs": [
    {
     "data": {
      "text/plain": [
       "\"all right anyway next game is gonna be dark wizzy versus Marlow's my favorite teenagers yeah two good kids actually this season what's interesting is that Mars has the advantage they were both at big house and as you're gonna see in this head-to-head graphic displayed beautifully on this production number three versus number 31 so three times the rank but this tournament it doesn't necessarily matter because wizzy has the ability to eliminate mars but at big house wizzy of course DQ'd feeling personal reasons again not gonna hold it against them didn't suffer any penalties Mars got night shine it was v wizzy fourth Mars and it smash con it was 17th whizzie fourth bars but Evo was 65th wizzy and 13th Mars we're gonna go and I didn't jump into this game not dark blue zero so we got a red serious we won't have to pay attention that for the topographic I think that's for the that's for Breast Cancer Awareness Month which is October oh yeah this one yeah that is actually going back yeah that's what he said are you ever on Twitter bro come on do your job 54% on Dirk wizzy and what's interesting about this is that dark fizzy and Mars were actually projected to play earlier on in the tournament but Mars actually falling to larry lourve very early on what was that what saw bears no losing the Larry oh oh yeah did you see the set I never eat ours play like that that was god-awful but but I proud of Larry though okay no dude Larry played phenomenal don't get me wrong miss Mars brought it back you know he's here here the top please but when asked about resume what he would do take 300 him and he did just that through in a handshake so I think Mars is on a path of destruction this is clash of the pandas past the embarrassments again a guy who a panda literally no cap look ask Google ask Siri what I'm gonna look and then I will be embarrassed because I know your memeing was it sort of the biggie I to the DI a little questionable right turn around it's up smash I feel like I'm in round 2 again against Larry this is ridiculous stop lighting hate stop wasting a lot to prove though okay Lizzy's definitely playing next level for this tournament we can't even ignore me he'd be MVD he did beat Larry Laura's wall it's the deductr power of he got second at the last one this one he wants to turn that second jewel one potentially I mean come on like right now was just looking very impressive this season of course Mars I mean Mars is Martin baby super good Lizzie always comes the Thunder smash and shows up be surprised if he got picked up maybe sometime soon who knows yeah you never know I mean also having your banner in the stadium here is also just very nice feeling just being able to look around and see the buzz an epi deal on the banners from the last two thunders match events pretty hype owner Twizy refuses to parish up throw might do it know you're all annoying up throw but eventually he did take the KO right now Mars at a hundred and twenty three percent he's got to find a way back down to the ground he's boxed up in the corner and he uses down air and that's the Mars weirdness sort of the Mars factor that we see a bunch of his like that shouldn't have worked and yet oh we tape that trade for Mars wizzy though I know feeling a little upset but he'd even decided to contest that all right here we go - and just like that the momentum is just utterly shifted what was the story in the scent was dark was he just kind of running over Mars and Mars having trouble keeping pace now the opposite is happening is era Quincy is struggling to get this kale off of Mars who just consistently gets back off the ledge in the most creative ways possible I also feel like he just puts respect on his options his aggressive options that then I feel like it makes a lot of players just try to second-guess whether they really want to over extend in a way that they don't have to let's see if he's gonna get the first pick it's the up there of it nothing off it Mars playing with a little a little bit more confidence now he's like jumping into wizzy try to get these aerials the problem is if you're playing with Mario when you're that close to his hands you can't you grab was he able to get out of it though it gets a little bit of percent I like my spacing for Mars that's why you see not trying over fall on his shield we're gonna see a fourth Oh kids right back into the ledge avoiding that fair was he trying to go deep for that one yeah if the neutral air and Mars once again with the downer that should not be hitting so consistently but keeps getting away with it dark was you with the blue go upbeat not enough to KO though fireball flat out stage so great it does that beautiful big kick you have no reason to you actually have no reason to do that that's Marth babe we're talking to aggression man well sometimes when you want to go off safe like that paralyzer barely missing the mark 105 at 90 Mars here trying to close it out quickly so he doesn't have to deal with wizzy shenanigans now on stage please stop I do want to add that he is not in his default black Mario garb he's a true original yeah and 64 mario SNES well at sentient have clothes oh right I mean when were you born alright I'm actually disease lady net1 but no he usually plays a black color yes he does he does and this is the Breast Cancer Awareness Mario this no that's pink this is your you're not allowed to do that right now game to though town in cities Susan G Komen Mario here we go big Ford over there from Mars boxing the ledge you know I never noticed like you can't say it Mars but like when I look at in a certain way that I noticed today oh no the barre oh good and that was quite interesting because the camera looked a little wonky there it looked like he had fast fall and passed the stage and then had to flip pick to get back and just dark was he hadn't ran right into that to get grounded yeah both players are playing very clean the movement from both everything that they're doing the beer reversal is getting back to stage I really like her right now yeah well they're both so mobile like both these players are known for just sort of highlighting their character through all this danger and all these bad situations and they're so good at getting around it just very talented very evasive we saw it with dark Lindsey against MVD earlier but now Mars is cooking rare misstep though goes for the grab on a weird play gets punished a little bit but not too bad close for another down here I mean you were talking about that Kony you shouldn't be working as often as it does but whenever Maher starts to throw it out it sometimes works and undeniable ways yeah 20 percent neutral really quick each other's time lots of rows coming off on Mars here team rolling back to the legend will in the center stage unfortunately to get punished for that with an up smash yeah eventually I think the thing is Mars kind of shifts between these two styles one where he's just absolutely just always on you and then he just kind of backs up waits for you to come to him plays sort of like camps in your face a lot of people would say brush down camping yeah just two wolves living inside Mars it goes for the upbeat doesn't let okay two times three why not Mars is having a giggle - I don't know if you saw the K music I did that marvelous sir Mars definitely seems like one of the players that enjoys playing yes yeah in his high stress situations you see him crack smiles even when he's getting cheese that I really feel like it's just because the options that he decides you see very unorthodox so a lot of players that are usually just trying to look out for certain habits and I feel like it's difficult with Mars because you can't really predict well he's trying to go for a lot of times like the double LP that we saw coming in for him yeah of course they also the five empty hops and he just threw out in dark wizzy space well who is he just looked at him holding shield waiting for him to just do something first oh the last hit of the up smash getting here with that the other night Cody but yeah definitely active disjoints but now when to stocks and to one weight trend is happen it just keeps landing with these zeros I think he's trying to catch their cool is he jumping oh there we go finally catches him jumping and that's what Morris does he kind of like he pushes you to the edge over and over it keeps chasing you and then eventually he'll just like start backing up and you start chasing him and he just punishes you for holding forward they're moving so well to other spaces there too you don't want to overcome it right there inside just fell with our Twizy so that way you can extend and get extra percent such a prescient stuff 108 now big Wow 83 was he did the Morris jumps right into his face just waited to see what Mars are gonna do he didn't go for 5 ft up since I'm the only one for once held shield afterwards Oh owners really needs instead one boost kick but now Lizzy has sort of earned another shot here because if he does get that one throw combo or one up here he might be able to take this back if the tech in place tries to flood him off survive though this is doable yeah if he keeps like pushing Mars like boxing into the ledge it should be ok yes your suit definitely does great at the early-to-mid percents the later percents with less confers being available but the Rockhill power being on deck definitely not impossible but also right now Perris didn't get anything out of it into the grab jumped right into it managed to get back onto the stage the movement Mars doing that a lot to calling out their Twizy whenever he happens to just jump into him yeah you goddamn I love the foxtrot there I think he tried to Tek onto the ground and then he didn't fall as fast as he thought so he air dodge either way he was gonna get covered by that run-up good stuff by Mars getting the up smash very well done it's one one now high that goes honestly I'm just impressed with the way that both these players I've been moving and it's just the way that Mars at the very end there I feel like you just turned it up between him having fun at the very beginning till the very ends his movement I felt like just shifted and not only just a more aggressive way but patient way where he was literally waiting for dark wizzy to commit to something first before he felt confident enough to throw out the option that was actually gonna be able to beat that example very end there you saw how he went for the foxtrot on purpose to not just throw something that would could potentially be a read no instead he waited to see what was gonna happen in the moment he saw the window of opportunity he took advantage of that yeah there's definitely another flow right now both these players are showing and the movement the fluidity it's all working how and when it barely works out for whizzie I mean Mars was just there to take advantage again with this tight game I mean the set could honestly go either way take the jab not gonna Tek leave it'll land just fine oh is a pop right now yeah this is my trash Missa Bob you ever planned a stage here like I've never heard this song before in my life every day a good song with all the music that's in this game over 900 tracks is named $60 not all of the music Oh big SAP boom busca eat time quantity really okay Lizzie Lizzie's kind of surprised - he kind of reel back he's like wait what would have been a miss input on the DI but doubtful from someone as expert as wizzy right now though trying to fire back with some I bear commas with the platform resets both these players gaining so much advantage for the platforms yep not gonna I mean I'm not surprised that a Mario would pick this stage obviously you get the affairs into essentially that upbeat all the way at the top of the stage but Mars playing I threw it so adeptly all right here we go one up there yet but even scared to connect watch not downward facing forward smash I obviously look like Mars also was in the middle of trying to jump - oh he definitely jumped into that that was through the stage like yeah it was angled downwards but like definitely it doesn't leave Jones right here we go see if Dirk Boise can convert anything up this downer no and you can see he gives Martin so much respect like he hits it and he just ran to the other side of the stage grab a good dynamic matchup to watch I really enjoyed it when it was caused by some wizard it's also really interesting to see the way that Darko is he plays Mario since it's just not the type of gameplay that we're used to seeing from many Mario's I know prodigies out there playing you know getting results and playing really aggressive but I wouldn't say that Dirk was he's the only Mario that's been able to push the character as far as he has that was popular even Master Mario - I mean prodigy and was of course getting results but Master Mario was the one that beat dark wizzy the last time they met which is awkward he's waiting for the air dodge they're into the obsession didn't happen and Mario's again despite being a kill percent he would have died if he missed that grab but he still just throws it out why not I guess he figures he has a stock advantage so if you start to question Mars you're making your first mistake and I can shift up gameplay now for Mars you see used to actually slowing it down kind of doing what you were mentioning Konya came and literally in your face he's just baiting him with grabs no because remember he did the grab and then he started jabbing right after and was he's like re I'm I'm not gonna touch that that's gonna hurt Porter there Nick's app yeah wins he gets to use a little bit more discipline I think you can see like shades of it like when he's not going to grabs but no reason to be hit by some of these things good turnaround obsession finally getting that sock off 78% we are on battlefields we know that Mario can do some big stuff here this is the moment where the momentum definitely can shift into Izzy's favor but right now Mars is sitting with a very hefty lead you try to read that a tech roll out to hit that - tag this is the moment this is the shift I thought he was at least gonna be able to di into the state of tech it but that was not that was not allowed he won the game with an air dodge he felt through the platform air dodge through the attack and then got the grab like having the timing to do that and not just shielding on the platform is just expert level execution awesome stuff too dark wizzy just kind of stealing that game away from Mars that was super good rushing rows superhero name I mean imagine having a name with two letters they're the same first and last name that's crazy Stephen souls and sexy town and city again next town and city lots of platforms here so you're gonna see a lot of the same thing that we saw before this matchup is so dynamic it's so fun to watch very polished players making use of all of their ridiculous up tilton right now he's got the 75% on wizzy 87 now obviously trying to get back and Mars is probably not happy about that last one absolute I mean if he was winning the whole thing I feel like the momentum shift and dark was he actually trying to cope again by the ledge try to go for that falling fare Mars not having it jumping right over that getting back onto the stage I mean we know that mr. Rose has the powerup of doing well at these Thunder events but this is a clash of the pandas and Mars is just that so we're gonna see is going to be able to utilize that momentum or you're just gonna fade away from them I think Mars is trying to ice them out a little bit here play a little bit more evasive gets in with the whole whip not enough to KO though 131 what's the play another one great paddle so good on the rolls so good on the get up anything that happens it's just a disjoint in your face that has three separate head boxes so awesome play by bars total down there and he got away with it finally you got hit what is a save option twice just as a fact jacket if it doesn't work the second time that's one thing move on to the next move oh okay well hold on cuz there's a sub developments going on right now and bars is starting to run away they're out of here we're actually like a minute and a half in and the game is almost over this this is mad fast they're playing like with happy notes in between each like everything they're doing is one step ahead but also preparing for the next one it's so interesting to sleep of these players develop their style yeah like an arpeggio you know okay Adagio great DeSimone fortissimo okay we can speak Italian anyways back to the battery it's Mario bro it's true that's actual n64 palette version throw odors out here stop doing that it's giving away you don't need salt to himself I'm too far up man who's gonna react I love there it's a back arrow are it's so good on zero suit try relax oh yeah you tried to back your Trump I love that sound whoo it's the sound of a shell turtle there you go four there no no - Louis by the up here now 99 to 138 could be the moment where wizzy takes that Lisa stock down air shield poking right there all right there we go Mars is fishing I don't think was he wants to get caught and he holds down to get the upward Titan from that up yeah that diner takes it that move is so weirdly powerful yeah especially at like the top public catches you all the way at the top and the first thing that was he noticed when this game came out I mean it was good at the last game - it was just harder to hit at least like up there you know you needed like some rage but yeah the knock back though is what catches a lot of people off-guard Oh God was he a so dangerous playing in a lot of situations you would see this you'd be like alright Mars wrap it up but busy it's so dangerous especially at the ledge yeah that's why you saw mark over that spot dodge you cannot afford to take any more % otherwise the mental the mental games are tickets so here we're going hi oh no it's not no it's not no it's not he's fine daddy icons back 98 to 151 now Mars is back Darla's he throws pop stage 190 blast me through I think dark was he just has rage in real life 157 no he's he's coming back tried his happening he wants it so bad he needs to get away from the ledge Mars Needs the whole Center the warm that he's just kind of sitting around the ledge is just it's so dangerous gets the update is going Game five game 5 situation really Mars the dark wizard Rose Tyler Barnes this is the moment this is the moment where it's all made the sigh of relief - I mean that was a situation I feel like whenever dark woods he's on his last stalk some sort of power comes through that just is we cannot see and it's extra scary I mean I'd matter if you could play like that all three stalks that's true but now it's the fifth game so is that going to come into effect or did he just spend all his cash of the bank we'll see I mean it seemed like he was still in good spirits if you saw the end of that game at the can we saw the reaction from artists and he was just like I got you and it felt like was he was like yeah you caught me jumping just kind of that's what Moria does he's jumping in right so Marta's just kind of getting under him getting the up air and getting game five where I'm ps2 ps2 make the best games so I'm really excited to see this one here Oh a mediately with an air into up smash Mars game 37% on the board over throw into a tech change got an air instead like a patient from dark Boise - he's also just slowed down his gameplay in general I know we're watching of them throw out smash attacks twice in a row last game but if you see right now you see he's honest he's just trying to space out back here and if he doesn't get it he either walks away and that's another thing dirt boys he walks a lot as a player no and I feel like walking is very underrated it wasn't a read in this match for an I think he's also under reading all this game but as I said that jumped right into the paralyzer dashed right under him to get the opposite side of the up be taking that stock a little bit earlier he would have done down the original side he would not have killed him now went away to 6% 1527 Mars he's starting to rack it up here in this game 5 and actually the head on to that walking is also a great thing to do them realize it's an excellent way to burn calories and it's fun to get off the couch especially after eating that delicious Pizza Hut pizza which I'm sure you guys bought for $7.99 for a 3 topping carryout deal one night linnaeus 119 on Mars why don't you play that's an immaculate blessing that comes into a pool it's a play there's a real more yes in New England if you are 119 if you're part of the state you get blessed and the next hit will not kill you see right there yeah you didn't down the fourth row but not from New England and your hit at 119 it's 118 cursed in the will next it will kill you so I think the cons outweigh the pros of moving is a very expensive problem we have some chowder it requires a lot of coordination that just to another stat region mad cold wait Vicki I forgot you're from Florida so you think New England is a state transit with Mars about the three star at our Quincy here all right Rollo's god it's not gonna be a three stock release in stock here at least in the next one 150 coming back to stage regime takes it with a dash attack and flood that has actually dashed through now we're sitting at 105 the two stops also really surprised to find out that Mars doesn't doesn't speak with an English accent oh very very impressed but New England not the holding he probably spent a lot of time here 110 watch the UH ferries he's just got it he's gotta get down from over a dark wizzy but I feel like despite everything that we've seen this set despite seeing dark Lizzie's gumption is bigger oh wait a minute got him right out of the typical say that literally in the middle of the I got the past literally in the middle of my sentence was he might have earned another chance here we saw this happen in the last match well he needs a little bit more this cannot be it this would break Mars right now 131 it's 150 what no the DI didn't make it okay the whole venue can hear you applause from the crowd though give it up for dark wizzy exiting with a respectable placement here at thunder Spanish 3 Mars advancing clash of the Panda special \""
      ]
     },
     "execution_count": 4,
     "metadata": {},
     "output_type": "execute_result"
    }
   ],
   "source": [
    "get_texts_from_transcript(test_script)"
   ]
  },
  {
   "cell_type": "code",
   "execution_count": 5,
   "metadata": {},
   "outputs": [],
   "source": [
    "driver = webdriver.Chrome('/Users/dsaphra/Downloads/chromedriver')"
   ]
  },
  {
   "cell_type": "code",
   "execution_count": 6,
   "metadata": {},
   "outputs": [],
   "source": [
    "# driver.get('https://www.youtube.com/watch?index=2&t=0s&v=rjXcqJQGPXc&list=PLcMdMmtHkPpSa30s-FIWt4QdlGIgavbR_')\n",
    "# items_block = driver.find_element_by_id('items')\n",
    "\n",
    "# container = driver.find_element_by_id('container')\n",
    "# title = container.find_elements_by_class_name('title style-scope ytd-video-primary-info-renderer')"
   ]
  },
  {
   "cell_type": "code",
   "execution_count": 7,
   "metadata": {},
   "outputs": [],
   "source": [
    "\n",
    "\n",
    "\n",
    "# for vid in playlist:\n",
    "#     print(vid.text)\n",
    "\n",
    "# # ----------------------------------------------------------------------------------------------------\n",
    "\n",
    "# driver.get('https://www.youtube.com/user/VideoGameBootCamp/playlists?view=50&flow=grid&shelf_id=48')\n",
    "# items_block = driver.find_element_by_id('items')\n",
    "# playlist = items_block.find_elements_by_id('thumbnail')\n",
    "\n",
    "# for play in playlist:\n",
    "#     print(play.get_attribute('href'))"
   ]
  },
  {
   "cell_type": "code",
   "execution_count": 8,
   "metadata": {},
   "outputs": [],
   "source": [
    "\n",
    "# This is a global variable that will contain a list of all the urls that couldn't have info retrieved from them.\n",
    "failed_urls = []"
   ]
  },
  {
   "cell_type": "code",
   "execution_count": 9,
   "metadata": {},
   "outputs": [],
   "source": [
    "# driver.get('https://www.youtube.com/watch?v=d7RYtC1XsrQ')\n",
    "# title = driver.find_element_by_class_name('title')\n",
    "\n",
    "# info = driver.find_element_by_id('info-text')\n",
    "\n",
    "# view_count = info.find_element_by_id('count')"
   ]
  },
  {
   "cell_type": "code",
   "execution_count": 10,
   "metadata": {},
   "outputs": [],
   "source": [
    "# menu = driver.find_element_by_id('menu')\n",
    "\n",
    "# buttons = menu.find_elements_by_id('button')\n",
    "\n",
    "# like_buttons = driver.find_elements_by_class_name('yt-simple-endpoint')[:2]\n",
    "\n",
    "# like_buttons[0]"
   ]
  },
  {
   "cell_type": "code",
   "execution_count": 11,
   "metadata": {},
   "outputs": [],
   "source": [
    "vgbootcamp_playlists = 'https://www.youtube.com/user/VideoGameBootCamp/playlists?view=50&flow=grid&shelf_id=48'\n",
    "\n",
    "driver.get(vgbootcamp_playlists)"
   ]
  },
  {
   "cell_type": "markdown",
   "metadata": {},
   "source": [
    "# Getting Playlist Urls from YT List"
   ]
  },
  {
   "cell_type": "code",
   "execution_count": 12,
   "metadata": {},
   "outputs": [],
   "source": [
    "def convert_yt_endpoints_to_urls_lc(blocks):\n",
    "    \"\"\"\n",
    "        identical function to 'convert_yt_endpoints_to urls', but using list comprehension/\n",
    "    \"\"\"\n",
    "    \n",
    "    links = [block.find_element_by_class_name('yt-simple-endpoint').get_attribute('href') for block in blocks]\n",
    "    return links\n",
    "\n",
    "def convert_yt_endpoints_to_urls(blocks):\n",
    "    links = []\n",
    "    for block in blocks:\n",
    "        end = block.find_element_by_class_name('yt-simple-endpoint')\n",
    "        links.append(end.get_attribute('href'))\n",
    "#         print('i')\n",
    "    return links\n",
    "\n",
    "\n",
    "def get_all_yt_links_from_thumbnails(playlist_page):\n",
    "    \"\"\"\n",
    "        Given the selenium driver to a playlist from youtube, use the thumbnail id on the page to\n",
    "        get all the hrefs for all the videos contained in the playlist\n",
    "        \n",
    "        @Params the playlist page as a selenium driver\n",
    "        @returns: list of all youtube video urls as strings\n",
    "    \"\"\"\n",
    "    \n",
    "    thumbnails = playlist_page.find_elements_by_id('thumbnail')\n",
    "    \n",
    "    all_links = []\n",
    "    for thumbnail in thumbnails:\n",
    "#         img = thumbnail.find_element_by_class_name('')\n",
    "        all_links.append(thumbnail.get_attribute('href'))\n",
    "    return all_links\n",
    "\n",
    "def get_all_playlist_urls(playlist_page):\n",
    "    \"\"\"\n",
    "        given a Youtube page containing a bunch of playlists,\n",
    "        isolate the url links to each of those playlists and return it as a list\n",
    "    \"\"\"\n",
    "    view_mores = playlist_page.find_elements_by_id('view-more')\n",
    "        \n",
    "    links = convert_yt_endpoints_to_urls(view_mores)\n",
    "    return links"
   ]
  },
  {
   "cell_type": "code",
   "execution_count": 13,
   "metadata": {},
   "outputs": [],
   "source": [
    "playlist_links = get_all_playlist_urls(driver)"
   ]
  },
  {
   "cell_type": "code",
   "execution_count": 43,
   "metadata": {},
   "outputs": [],
   "source": [
    "test_playlist = playlist_links[-8]"
   ]
  },
  {
   "cell_type": "code",
   "execution_count": null,
   "metadata": {},
   "outputs": [],
   "source": []
  },
  {
   "cell_type": "code",
   "execution_count": 44,
   "metadata": {},
   "outputs": [],
   "source": [
    "driver.get(test_playlist)"
   ]
  },
  {
   "cell_type": "code",
   "execution_count": 45,
   "metadata": {},
   "outputs": [],
   "source": [
    "contents = driver.find_elements_by_id('content')"
   ]
  },
  {
   "cell_type": "code",
   "execution_count": 46,
   "metadata": {},
   "outputs": [],
   "source": [
    "# video_urls_from_playlist = get_all_yt_links_from_thumbnails(driver)\n",
    "# video_urls_from_playlist"
   ]
  },
  {
   "cell_type": "code",
   "execution_count": 47,
   "metadata": {},
   "outputs": [
    {
     "data": {
      "text/plain": [
       "['https://www.youtube.com/watch?v=15VUWmKBw64&list=PLcMdMmtHkPpQX3Gkwse0Ptgkmzm5OhoHZ&index=2&t=0s',\n",
       " 'https://www.youtube.com/watch?v=5wDl1u_7Ieg&list=PLcMdMmtHkPpQX3Gkwse0Ptgkmzm5OhoHZ&index=3&t=0s',\n",
       " 'https://www.youtube.com/watch?v=myD-0FTbRMc&list=PLcMdMmtHkPpQX3Gkwse0Ptgkmzm5OhoHZ&index=4&t=0s',\n",
       " 'https://www.youtube.com/watch?v=ZcXtbRDm6ng&list=PLcMdMmtHkPpQX3Gkwse0Ptgkmzm5OhoHZ&index=5&t=0s',\n",
       " 'https://www.youtube.com/watch?v=d4_tb6nZZi0&list=PLcMdMmtHkPpQX3Gkwse0Ptgkmzm5OhoHZ&index=6&t=0s']"
      ]
     },
     "execution_count": 47,
     "metadata": {},
     "output_type": "execute_result"
    }
   ],
   "source": [
    "#the first one was always none, so we just excise the index 0\n",
    "video_urls_from_playlist = convert_yt_endpoints_to_urls(contents)[1:]\n",
    "video_urls_from_playlist[:5]"
   ]
  },
  {
   "cell_type": "code",
   "execution_count": 48,
   "metadata": {},
   "outputs": [],
   "source": [
    "def get_yt_without_playlist(yt_url: str):\n",
    "    \"\"\"\n",
    "        given a yt video link that has the playlist embedded, extract only the base part of the url,\n",
    "        so that the link refers to the video sans playlist. Does so by splitting at the first '&'\n",
    "        \n",
    "        @Params: the youtube url as a string\n",
    "        @Returns: the substring of the url\n",
    "    \"\"\"\n",
    "    split_url = yt_url.split('&')\n",
    "    return split_url[0]\n",
    "\n",
    "def format_all_videos(yt_list: list):\n",
    "    \"\"\"\n",
    "        given a list of yt links, formats each url by truncated the url and removing the embedded playlist\n",
    "        \n",
    "        @params: list of youtube video urls\n",
    "        @returns: list of yt video urls, each without the extraneous part that embeds the playlist\n",
    "    \"\"\"\n",
    "    formatted_videos = [get_yt_without_playlist(yt_vid) for yt_vid in yt_list]\n",
    "    return formatted_videos"
   ]
  },
  {
   "cell_type": "code",
   "execution_count": 49,
   "metadata": {},
   "outputs": [
    {
     "data": {
      "text/plain": [
       "'https://www.youtube.com/watch?v=d4_tb6nZZi0'"
      ]
     },
     "execution_count": 49,
     "metadata": {},
     "output_type": "execute_result"
    }
   ],
   "source": [
    "video_urls = format_all_videos(video_urls_from_playlist)\n",
    "test_video = video_urls[4]\n",
    "test_video"
   ]
  },
  {
   "cell_type": "code",
   "execution_count": 50,
   "metadata": {},
   "outputs": [
    {
     "data": {
      "text/plain": [
       "['https://www.youtube.com/watch?v=15VUWmKBw64',\n",
       " 'https://www.youtube.com/watch?v=5wDl1u_7Ieg',\n",
       " 'https://www.youtube.com/watch?v=myD-0FTbRMc',\n",
       " 'https://www.youtube.com/watch?v=ZcXtbRDm6ng',\n",
       " 'https://www.youtube.com/watch?v=d4_tb6nZZi0',\n",
       " 'https://www.youtube.com/watch?v=JYdJbJgd3po',\n",
       " 'https://www.youtube.com/watch?v=POKjf_H8EDM',\n",
       " 'https://www.youtube.com/watch?v=hoL9AQHoz7I',\n",
       " 'https://www.youtube.com/watch?v=bEyFPLMVkeA',\n",
       " 'https://www.youtube.com/watch?v=62IMLiCX2f0',\n",
       " 'https://www.youtube.com/watch?v=zDnVXik1z9w',\n",
       " 'https://www.youtube.com/watch?v=ZzVP_YNVPfE',\n",
       " 'https://www.youtube.com/watch?v=QtHeJtMQoz0',\n",
       " 'https://www.youtube.com/watch?v=ycc6bfiFK7E',\n",
       " 'https://www.youtube.com/watch?v=x-7N2DuCHa4',\n",
       " 'https://www.youtube.com/watch?v=kl_FHjbZQvs',\n",
       " 'https://www.youtube.com/watch?v=2abMFAo1JZ8',\n",
       " 'https://www.youtube.com/watch?v=sM3be--dHXg',\n",
       " 'https://www.youtube.com/watch?v=7DkHkEFahqQ',\n",
       " 'https://www.youtube.com/watch?v=k56oVr0oWm4',\n",
       " 'https://www.youtube.com/watch?v=Cd_-Wv9XjM4',\n",
       " 'https://www.youtube.com/watch?v=spJpB2x3Ya0',\n",
       " 'https://www.youtube.com/watch?v=iEZ7FZxJ0Ok',\n",
       " 'https://www.youtube.com/watch?v=BsagQr2dsOo',\n",
       " 'https://www.youtube.com/watch?v=Moh8J-y8mLE',\n",
       " 'https://www.youtube.com/watch?v=oxqQhj66RxI',\n",
       " 'https://www.youtube.com/watch?v=YF0zSo-04G8',\n",
       " 'https://www.youtube.com/watch?v=1PyagQ49YuE',\n",
       " 'https://www.youtube.com/watch?v=muPq5mlTO2E',\n",
       " 'https://www.youtube.com/watch?v=5HhECJLQfwc',\n",
       " 'https://www.youtube.com/watch?v=3KXPeDI3iIA',\n",
       " 'https://www.youtube.com/watch?v=L_VdVpzd_gw',\n",
       " 'https://www.youtube.com/watch?v=kopj7doFz8E',\n",
       " 'https://www.youtube.com/watch?v=QWCucPQLGtM',\n",
       " 'https://www.youtube.com/watch?v=hRx6pNR2V_k',\n",
       " 'https://www.youtube.com/watch?v=OqjsF98QN9U',\n",
       " 'https://www.youtube.com/watch?v=gXSTaoVgxlw',\n",
       " 'https://www.youtube.com/watch?v=j7TcklWhzCc',\n",
       " 'https://www.youtube.com/watch?v=ZxStgqNSEx8',\n",
       " 'https://www.youtube.com/watch?v=_CMfXoRGa94',\n",
       " 'https://www.youtube.com/watch?v=r-6Z2SZNw-U',\n",
       " 'https://www.youtube.com/watch?v=PVyMoO0ejEs',\n",
       " 'https://www.youtube.com/watch?v=teUtHvzghmw',\n",
       " 'https://www.youtube.com/watch?v=nKPBqsMbAJ4',\n",
       " 'https://www.youtube.com/watch?v=n4S6yAsLBOc',\n",
       " 'https://www.youtube.com/watch?v=WIaa5kBRnOg',\n",
       " 'https://www.youtube.com/watch?v=onNelaMWx1Y',\n",
       " 'https://www.youtube.com/watch?v=yLBPMsj-Mb8',\n",
       " 'https://www.youtube.com/watch?v=3rT0M7XfS6Q',\n",
       " 'https://www.youtube.com/watch?v=6y23x1y3dbc',\n",
       " 'https://www.youtube.com/watch?v=e4_Xs8ySoWY',\n",
       " 'https://www.youtube.com/watch?v=bpRryqOrInM',\n",
       " 'https://www.youtube.com/watch?v=LVWuS2HrUy8',\n",
       " 'https://www.youtube.com/watch?v=MyNeffVePoc',\n",
       " 'https://www.youtube.com/watch?v=XYsWpzbzAbk',\n",
       " 'https://www.youtube.com/watch?v=_HjvdGq-uBo',\n",
       " 'https://www.youtube.com/watch?v=EvhxVaaqApE',\n",
       " 'https://www.youtube.com/watch?v=PTacxvJiJng',\n",
       " 'https://www.youtube.com/watch?v=rJiJ8DS4dDU',\n",
       " 'https://www.youtube.com/watch?v=5GCGyZJhdDw',\n",
       " 'https://www.youtube.com/watch?v=4Q_ID59NwIU',\n",
       " 'https://www.youtube.com/watch?v=m2_jcFftx0k',\n",
       " 'https://www.youtube.com/watch?v=MwXcVHTZ0Tg',\n",
       " 'https://www.youtube.com/watch?v=n-8dm6OyHB8',\n",
       " 'https://www.youtube.com/watch?v=q0rzU2ffBcs',\n",
       " 'https://www.youtube.com/watch?v=Y5_oAgE5taY',\n",
       " 'https://www.youtube.com/watch?v=0bjjlSg9DYk',\n",
       " 'https://www.youtube.com/watch?v=mCEJono24zk',\n",
       " 'https://www.youtube.com/watch?v=-3XF1O0DZ8k',\n",
       " 'https://www.youtube.com/watch?v=_8gmrGXrk6c',\n",
       " 'https://www.youtube.com/watch?v=llpHoGFg-IQ',\n",
       " 'https://www.youtube.com/watch?v=m6CrWBOxecY']"
      ]
     },
     "execution_count": 50,
     "metadata": {},
     "output_type": "execute_result"
    }
   ],
   "source": [
    "video_urls"
   ]
  },
  {
   "cell_type": "code",
   "execution_count": 22,
   "metadata": {},
   "outputs": [],
   "source": [
    "def get_all_video_urls_from_playlist(playlist_url: str):\n",
    "    \"\"\"\n",
    "        given the url of a playlist, returns a list of all the urls for all the videos containing within\n",
    "        that playlist\n",
    "        \n",
    "        @params the playlist url as a string\n",
    "        @returns a list of strings of the youtube videos in that playlist\n",
    "    \"\"\"\n",
    "    time.sleep(.5)\n",
    "    driver.get(playlist_url)\n",
    "    contents = driver.find_elements_by_id('content')\n",
    "    \n",
    "    #the first one was always none, so we just excise the index 0\n",
    "    video_urls_from_playlist = convert_yt_endpoints_to_urls(contents)[1:]\n",
    "    return video_urls_from_playlist"
   ]
  },
  {
   "cell_type": "code",
   "execution_count": 23,
   "metadata": {},
   "outputs": [],
   "source": [
    "def get_youtube_id_from_url(url: str):\n",
    "    \"\"\"\n",
    "        given a youtube url from a playlist, isolate the unique id that can be used to get \n",
    "        the transcript from the youtubetranscrpt api\n",
    "        \n",
    "        @params the url as a string\n",
    "        @returns the substring of url that is the unique id\n",
    "    \"\"\"\n",
    "    \n",
    "    split_url = url.split('=')\n",
    "    return split_url[-1]\n",
    "    "
   ]
  },
  {
   "cell_type": "markdown",
   "metadata": {},
   "source": [
    "### Methods used for debugging"
   ]
  },
  {
   "cell_type": "code",
   "execution_count": 24,
   "metadata": {},
   "outputs": [],
   "source": [
    "def display_all_children(webelement):\n",
    "    all_children_by_css = webelement.find_elements_by_css_selector(\"*\") \n",
    "    for child in all_children_by_css:\n",
    "        print(child.text)\n",
    "        \n",
    "def display_page_source(driver):\n",
    "    print(driver.page_source)\n",
    "\n",
    "def get_info_from_yt_no_except(yt_url):\n",
    "    \"\"\"\n",
    "        identical to get info from yt method, but does not have the try-except block. Meant to show where errors\n",
    "        are happening.\n",
    "        \n",
    "        @params: the url for the youtube video\n",
    "        @returns: all data encapsulated in a list\n",
    "    \"\"\"\n",
    "    time.sleep(1)\n",
    "    driver.get(yt_url)\n",
    "    #Getting the title and view count\n",
    "    title = driver.find_element_by_tag_name('h1').text\n",
    "    \n",
    "    #if the title is an empty string, we can't get meaningful data, treat as error\n",
    "    if title == '':\n",
    "        failed_urls.append(yt_url)\n",
    "        print('No Title')\n",
    "        return []\n",
    "\n",
    "    view_count = driver.find_element_by_class_name('view-count').text\n",
    "\n",
    "    #getting the likes and dislikes\n",
    "    buttons = driver.find_element_by_id('top-level-buttons')\n",
    "    button_texts = buttons.find_elements_by_id('text')\n",
    "    likes = button_texts[0].text\n",
    "    dislikes = button_texts[1].text\n",
    "\n",
    "    #getting the transcript for the yt video from closed captioning\n",
    "    yt_id = get_youtube_id_from_url(yt_url)\n",
    "    vid_cc = yttapi.get_transcript(yt_id)\n",
    "    vid_script = get_texts_from_transcript(vid_cc)\n",
    "\n",
    "    return [title, view_count, likes, dislikes, vid_script]"
   ]
  },
  {
   "cell_type": "markdown",
   "metadata": {},
   "source": [
    "# Getting Data from Youtube Webpage"
   ]
  },
  {
   "cell_type": "code",
   "execution_count": 25,
   "metadata": {},
   "outputs": [],
   "source": [
    "\n",
    "def get_likes_dislikes(driver):\n",
    "    \"\"\"\n",
    "        get number of likes/dislikes from yt video\n",
    "        \n",
    "        @params webpage as a webdriver object of selenium\n",
    "        @returns a length 2 list, where first element is likes, and second is dislikes as ints\n",
    "    \"\"\"\n",
    "    buttons = driver.find_element_by_id('top-level-buttons')\n",
    "    button_texts = buttons.find_elements_by_id('text')\n",
    "    like_dislikes = [int(block.text) for block in button_texts[:2]]\n",
    "    return like_dislikes\n",
    "    \n",
    "def display_all_texts(ele_list):\n",
    "    \"\"\"\n",
    "        given a list of webelement objects, iterates through that list and displays the .text for each element\n",
    "    \"\"\"\n",
    "    for ele in ele_list:\n",
    "        print(ele.text)\n",
    "\n",
    "        \n",
    "def get_all_info_from_yt(yt_url):\n",
    "    \"\"\"\n",
    "        given the exact youtube page, save and store all the necessary data that we want to glean from it. \n",
    "        current data being extracted:\n",
    "            -Title\n",
    "            -view count\n",
    "            -Date\n",
    "            -yt transcript\n",
    "            -likes\n",
    "            -dislikes\n",
    "            \n",
    "        \n",
    "        @params: the url for the youtube video\n",
    "        @returns: all data encapsulated in a list\n",
    "    \"\"\"\n",
    "    try:\n",
    "        time.sleep(1)\n",
    "        driver.get(yt_url)\n",
    "        #Getting the title and view count\n",
    "        title = driver.find_element_by_tag_name('h1').text\n",
    "        \n",
    "        #if the title is an empty string, we can't get meaningful data, treat as error\n",
    "        if title == '':\n",
    "            failed_urls.append(yt_url)\n",
    "            return []\n",
    "        \n",
    "        view_count = driver.find_element_by_class_name('view-count').text\n",
    "\n",
    "        #getting the likes and dislikes\n",
    "        buttons = driver.find_element_by_id('top-level-buttons')\n",
    "        button_texts = buttons.find_elements_by_id('text')\n",
    "        likes = button_texts[0].text\n",
    "        dislikes = button_texts[1].text\n",
    "\n",
    "        #getting the transcript for the yt video from closed captioning\n",
    "        yt_id = get_youtube_id_from_url(yt_url)\n",
    "        vid_cc = yttapi.get_transcript(yt_id)\n",
    "        vid_script = get_texts_from_transcript(vid_cc)\n",
    "\n",
    "        return [title, view_count, likes, dislikes, vid_script]\n",
    "    except:\n",
    "#         print(f\"couldn't get info for: {yt_url}\")\n",
    "        failed_urls.append(yt_url)\n",
    "        return []"
   ]
  },
  {
   "cell_type": "code",
   "execution_count": 26,
   "metadata": {},
   "outputs": [
    {
     "name": "stdout",
     "output_type": "stream",
     "text": [
      "No Title\n"
     ]
    },
    {
     "data": {
      "text/plain": [
       "[]"
      ]
     },
     "execution_count": 26,
     "metadata": {},
     "output_type": "execute_result"
    }
   ],
   "source": [
    "get_info_from_yt_no_except('https://www.youtube.com/watch?v=bUPEu8ZMeI0')"
   ]
  },
  {
   "cell_type": "code",
   "execution_count": 28,
   "metadata": {},
   "outputs": [
    {
     "name": "stdout",
     "output_type": "stream",
     "text": [
      "https://www.youtube.com/watch?v=n9nV2fU9VuU\n",
      "https://www.youtube.com/watch?v=NLTRTHcifrg\n",
      "https://www.youtube.com/watch?v=YYWQ5dAQhVE\n",
      "https://www.youtube.com/watch?v=HpKxjxPnCPo\n",
      "https://www.youtube.com/watch?v=9p7U89FNBtA\n",
      "https://www.youtube.com/watch?v=HxMPpQJ3-I8\n",
      "https://www.youtube.com/watch?v=AjW4hezW43E\n",
      "https://www.youtube.com/watch?v=VEfMQDAR9zU\n",
      "https://www.youtube.com/watch?v=9QqxL1cRlzU\n",
      "https://www.youtube.com/watch?v=FHvrQ8-UK3w\n",
      "https://www.youtube.com/watch?v=aiSuRKs7bCg\n",
      "https://www.youtube.com/watch?v=3_jbdLlvXiY\n",
      "https://www.youtube.com/watch?v=_eUP6DJMkaw\n",
      "https://www.youtube.com/watch?v=W0m2wj1NTLA\n",
      "7\n"
     ]
    }
   ],
   "source": [
    "i = 0\n",
    "all_vid_info = []\n",
    "for url in video_urls:\n",
    "    print(url)\n",
    "    vid_info = get_all_info_from_yt(url)\n",
    "\n",
    "    #if the get_info method ends up failing, it returns an empty array\n",
    "    if len(vid_info)==0:\n",
    "        i += 1\n",
    "    else:\n",
    "        all_vid_info.append(vid_info)\n",
    "        \n",
    "print(i)"
   ]
  },
  {
   "cell_type": "code",
   "execution_count": null,
   "metadata": {},
   "outputs": [],
   "source": []
  },
  {
   "cell_type": "code",
   "execution_count": 29,
   "metadata": {},
   "outputs": [
    {
     "name": "stdout",
     "output_type": "stream",
     "text": [
      "7\n"
     ]
    }
   ],
   "source": [
    "j = 0\n",
    "for vid_info in all_vid_info:\n",
    "    if vid_info[0] == '':\n",
    "        j += 1\n",
    "print(len(all_vid_info))"
   ]
  },
  {
   "cell_type": "markdown",
   "metadata": {},
   "source": [
    "# Getting info from Title"
   ]
  },
  {
   "cell_type": "code",
   "execution_count": 31,
   "metadata": {},
   "outputs": [],
   "source": [
    "test_vid = all_vid_info[4]\n",
    "test_title = test_vid[0].lower()"
   ]
  },
  {
   "cell_type": "code",
   "execution_count": 32,
   "metadata": {
    "collapsed": true
   },
   "outputs": [
    {
     "data": {
      "text/plain": [
       "[['Glitch 8 SSBU - Bankai & Tarik Vs. Yetey & Blacktwins - Smash Ultimate Tournament Winners Quarters',\n",
       "  '748 views',\n",
       "  '17',\n",
       "  '0',\n",
       "  \"so so I'm seeing that double peachy that I pointed out before tarik is gonna be rolling with a greninja bankai rolling with the zero suit like you pointed out before we about to see some sucks Billy same this is gonna be stress because you got two characters who are used to dealing like normal brawler archetype bigger brain bodies and then you got to peach juice yeah delete the broken Matt Hardy right now delete to see it I'm ready to see it man because it's gonna be someone is going to die in the first five minute and a half free possibly the first minute that's the ID over on the right hand side they're doing exactly what we pointed out before it just holding down that ledge trap if you can continuously force that good set up the image up the rod right then black twins can run in and steal one of those stocks with that with that down there the meanwhile but again he just holding down the right side of the stage once again going they were able to get themselves back to centre putting Senko in court right there again both these characters but features not a character then shy from going down to let are going offstage really chasing with those four tears those back there as much like Pikachu so you might see that a lot but it again it's kind of difficult o against for ninja greninja surprisingly slippery is dead yeah good mental awareness from bankai to running as soon as he saw that fourth row setup that's gonna cost another stock I'm the blue team side so we're at excuse me knock knock on signs that you went for you went for a - grab and and future which if this was too short that's that's what yeah these small bodies break character please open another please ban all small character that's a fact we play we play heavies out here down please ban plus weeks right please get me out of here like I'm just trying to play outside a live I'm just trying to play the game man but you out here right Ryan Ryan's you're too too short to ride burrowing all you see Yeti already was reacting to the roll that's just so solid at these tech changes and black swings system setting them up I really like how they've kind of gotten ahold of that like I'm gonna set them up for you so you don't miss their defensive options then Oh looking for the downbeat good fourth tilt separate them trying to break up the party one of the good things on for the blue team is that even open for the yellow team is able to get all these quick combo damage they always kill much earlier however that down smash is going to get the flip kick and take them up but stop looking for the boost can punish him only on 12 percent let's see is just being 21% pretty decent mute Eric you got to be careful we're putting those hip boxes out on your recovery like that you give up the fact that you just got em like but you can always just read the rollo option on the other side afford smashing it's gonna smack me get you out of here that for special zone D he just knew you would be on that side he just knew looking for the side B gonna pick up the stock n1 stock up piece for Yeti and black twins good job right now sometimes you just gotta feelin that tonight's gonna be a good night you just got to go out and throw that out on the other side bankai I see is putting on a lot of anticipation hitboxes versus actually seeing a read so if he can start to adjust it or timing instead of just kind of putting hair boxes out there hoping that they approach I think that the blue team is gonna be taking a much better leave here well they're gonna need to secure the stock you can't allow can't allow CSS to die right now exists B too much pressure there just be too much pressure for this team yeah even though tarik is still on his second stock yeah is that 171 like any one of these straight back hairs can't close it out as he was looking for right there yeah I wanted him to jump watch it yep tarik just trying to play center stage gelareh bankai playing in the spot where he knew that he was fortunately that's gonna be a recovery mishap so now that we're looking at a spot where bankai is a 117 this is winnable don't FF o punish him oh wow Nika thunders they can tumble down there right there they're gonna double thunder right there oh and the doubt he's gonna beat enough and the chop-chop we gotta hurry up aqua Blaine boards smash on the right side that crazy estate is that even though the blue t1 they looked like they were losing like the entire match the yellow team had so much advantage on it but the thing was the blue team was able to just hold onto those stocks just a bit longer in the weight of peach who really coming in and showing its ugly face for the yellow team there they died some 100 few little stocks absolutely I see if Yeti in black hoods can make the adjustment going in again number two here no switches ah let's say monk I don't don't bold votes look I'm always a big fan of pig bodies but don't go ahead and switch over it's kinky to do Jimmy Choos my friend and then that's rough so that's a to be one and a spectator they're going on to smash smash though really the smaller stage saying let them have this okay so what do you think about this big um I do think that honestly because of the positioning of the platform it will be advantageous to get even black twins just because they're able to extend these combos a little bit more specifically in the air it's gonna be get to make it a lot more difficult for a Getty or for Tarek and bankai to kind of land and Oh mice we get a landing you tied it ten what game we'll replay it again a lot of times we've seen that in the past few weeks I'm starting to get to ask some questions but he's gonna catch him off the top meanwhile the yellow team's just trying to pick out some answers that down here almost one of them funny he went for the back here but he ended up giving up a stock in the mix of it okay well maybe hopefully they'll be able to bring this back but already the two stock deficit before the first minute this is looking this is looking rough skin right now and the country hero of Austria trying to show his stuff but currently having a few mishaps might end up costing them they're winners side or run here it doubles the blue team gotta be feeling good about that especially with it's so hard to get the stocks on these people smash yep yep secure that right now once one of you need to be securing stocks before 1:30 at the very minimum ideally you want a secure starts much earlier than that but if you want to stay on pace to be able to can close out this game to take take it to a game for it you got to be secure those stocks you can't let them look forever yeah that Roberto I especially when you have two peaches well so light maybe go taking em of the one out on the obspec I like how tarik he's so confident going so deep cuz he waits for you to have to pull that out that the quick attack out or the the Jodi excuse me the hydro pump is gonna set him up in a weird yeah and if you go too early he can always pull on it back here okay he's gonna thunder write them to pop him I'm about a neutral air hydro pump not gonna get punched in there back here will get punished there we go now all of a sudden you're looking at an even game even though Yeti is at 125 if he can make up for this game if he gave up those two early stocks charged what a madman what a degenerate okay Oh wrong side with the fourth man that's those anticipation hitboxes else talked about before like bar guys got in a lot of stocks but he also has been putting out spots where he's just waiting for the east we tried to read early on the approach that's hard to do on the peach juice oh yeah getting caught right there take it yep you gotta take it this is mine now yeah no other choice you're looking at possibly being knocked into losers went with what could be the first o2o of Arcadia Terry block you gotta you gotta do it for the do it for the culture right there share that stock I really like home he faded away because he noticed right today there was no way he could go for to jazz Barca was right on top of him ready to try and cover that star that job lock okay backer good stuff on the right side yep oh my and they brought it back yo these guys are over d and that's why you can never fall asleep in doubles because even though you may have a good lead if black twins is able to hold on to it cuz he hasn't given up a stock yet is that all the stocks loss pretty much have been because of Yeti I stress duty ever pollutes one yeah so he's just done a much better job of holding on to it so this one 13 isn't really bit as much of a problem for him 120 right there let's see who's gonna be good stop oh yes I need some more of that yeah more than protects have more than neutral be short off neutral beat make him commit to an option to approach he has to approach exactly either you stay grounded and you take these or you have to come in on me and then try and break this up but Yeti is waiting in the back ready to do it the more they do it though they're eventually this up though can't kill because they aren't damaging themselves okay this is so steric this is very winnable he might do it okay okay oh can you land today oh he tried to go for a cross up on that spot dodge but no spot was dodge was given Tarek looking for just one mistake just one over commitment so he could get himself to sake get it back to one one one myth yeah scoop nope was Terry gonna do the crowd getting into it seein if he can make this 2v1 you see the yellow - what are you looking for there Oh the cap and gown taking it off the top and this is what happens oh my god man he pumped out always have me Tarek looking at a chance to make the first two v1 we see no sleep so far back - what's he gonna do he goes oh please please please oh okay get out of it one up throw from terror could possibly take this out or an F or a read on what it was gonna do oh my god and he's just continuing to damage himself the war of attrition will not be in the favor he's still alive after that what on top of the living crap you're a bad bad to be one that it takes it they take it to old lunch reflectors did Yeti not feel too good about that we toss that boy up like a cap and gown bro oh my goodness graduation ceremonies \"],\n",
       " ['Glitch 8 SSBU - Jw & Stroder Vs. Yetey & Blacktwins - Smash Ultimate Tournament Losers Eighths',\n",
       "  '1,064 views',\n",
       "  '31',\n",
       "  '0',\n",
       "  \"was game one yogurt oh by the way just another no I am a huge fan of the fact that all of the trophies are actual game cartridges oh that is one of the coolest medals I have every don't work full-blown gameplay why is your meta level lanyard alright again it's an actual game number one here we got double green ninjas vs. that double feature who do you think has a better advantage I mean it's gonna be it's gonna be really important it's kind of evident here in the early going I will give the avenge to getting blocked with that damaged help what's early is gonna be really insane gonna be able to pick up kales are gonna be fairly easily run the 90% raging enough but they obviously the weight advantage obviously is gonna go to that so they're gonna be able to live a little bit longer but also I would honestly give a mobility advantage to double the ninja I think that mobility thing greninja is one of if not one of the most Bo bonkers is the entirety of the game 100 or so it's just being able to eat that's a smooth and character so that we have them in two Spears for sure yeah and you gotta respect that because if you're the double peaches you think you can just blitt to everybody but instead you end up getting caught because all that damage you put on was for not because the killers in the three stalks going within seconds alright yo you will not run upon me I grown up on you psyche and you will not 95% though strode around here stock tanking greninja max HP what's he gonna do and that's another thing you have to be worried about if you missed out ledge that for its Mac it'll make you pay up towards him as well TRAI foretold as well even with the being slightly weaker again it's not the heaviest person he does have a high I mean everyone has a weight advantage over beat you yeah but it's really important to note that specifically when you're playing double greninja that when you have the mobility and the weight advantage it's going even though you lose a little bit damage Department you're able to live a lot longer so your stocks over the longer the game goes the more likely you are to win one of the things that is normally such a strength of your ninjas when you have the 50/50 mix ups constantly is that you don't really get that in this team because if you go for that Nash attacker that down so the other piece you can just don't break and get in and shut it down real quick it's on the other contingent player to make sure you you cash out what would normally be a 50/50 but the only people capture name that money of the peach shoes right now taking the first lead of the set who stalks the piece forgetty Buckman's oh my god my boy was sending at the I thought what gross angle okay now I don't know what I'm talking about exactly that was a perfectly placed erred landing right there to avoid getting hit by downtown smash to land in red team looking at a deficit right now but when you stare at the two peaches you know just one straight hitbox you gonna take those stocks out okay don't get me out of here Oh break up the party Hey get a move on keep them locked down in the corner make sure they don't get a chance to play and like we saw with Terry you have to be afraid of that fourth row or the UM throw at any time because greninja does have the two killer options but you want Mac go out there my boy I'm gonna close out not one but two of these stocks and we're looking at what stock apiece yeah here we go early percentage though I like I said early on at the early percentage I will give to the advantage over to Pichu here especially since since you know being such a small character is really harder confirming up a lot of things for most characters yeah and that's usually just one of the greatest strengths of the credenzas but I like the fact that the red team has really just been out playing that part it's like if I set up the - attack you go close oh I'm good I'm good I'm gonna beat you I'm good bro max speed this book attack is nice I gotta be careful with those Jodie's do because they catch him what one of the hydro pumps on the side they just blow it away and then the other one can cover them oh my god yeah that town it would have been nice but it's not next good fit away there so avoid that trying to get a counter but it's gonna cost him there's no hitbox on the agility he was trying to get him what this r2 meanwhile we got up smash that's gonna bring it back to one character a piece yeah good stuff right they using them smash hitting both a dog should have provided a little bit of a missed timing here from Yeti was actually getting him the last hit of the novice master was not able to punish with an else pressure or anything of his own yeah you know yet he's looking for redemption right now - he already lost the 2v1 for goat be careful at how many times you've dropped those those to the hitbox looking for anticipation you might get punished feel like I've seen this before oh yeah try to make sure this don't happen again but he's he's doing the same thing and I think that you know he's taking a page from a oh you just wait into the - we're good 1:21 center stage as well be we're good at max HP bro focus sash alone show me what's up oh yeah one more hit to take out only one HP left us get it shut you down that was the I think angry speech you ever seen in my life you see that angry don't trust them looking all like happy and adorable they're that those are evil evil little beings ready to destroy everything I want to hear something that I learned the courtesy of the official Pokemon anime that Ash's Pikachu got lost from its pack and it was raised by Kangas cons they made evolved it evolved into a Pikachu when it walked away so the mom wouldn't feel bad that it wasn't weak enough to take care of itself and then intima - I'm gonna with I have no idea whether that's true not know every single would fit into the first episode it's so wholesome okay throw my water all over the place yeah I'm ready to box all right game number two ladies and gentlemen Schroeder and get it yeah he actually you know clutching that out game came number one here man I got it - you're going down bow you got me caught me in the fields at that store first a second episode so go watch that hook my anime nice anyway watch that right now no watch it's nice alright continuing to shut down the same gameplay just try to make sure that the canoe just don't get a chance to go for the 1550s in the cobbles but when everybody's in the Scramble see homie where you can end up taking out is your own teammate 5 so for the toys smashing accidentally killing Josh JW yeah I mean Gideon black sirs are getting so much mileage out of this back there like it's just so disruptive you know I'm trying to break up the party with that it's just it's a problem and another thing too is as a teammate you hear the sound cue of the backyard yeah you know you could go in and try and get some damage if you're in position yeah you can change them you could train them you train or even you know if you know where he's gonna go and be like oh I can back it I can forward over here and start that string as well so we got to take you for a ride yeah just a Marvel okay yes here we go oh God Hootie soul keeps able to get back on stage here cuz if he did now if you tried to fade away and then down here was in place that could have led to a double dip yeah gunship French right there good challenge right there maestro derp I like the confidence of the red team still because even though they've been losing a lot of like these like the world's big scramble situations they understand that they still have it advantage of the fact that if they get come to 70 or so that's killed that that's kill precent not peaches that's enough it's not it's not uh you know it doesn't take a lot to get there yep you know you just gotta cross the finish line just keep that in your mind too especially when you're getting kind of hampered like that yeah that down smash just get to take it out not another one but now they're going for some thunder jokes and I like how he just ran them back out just create that space with you just Oh good challenge right there I'll take that any time and now for great daddy a black teens looking off much more comfortable here double peaches with two stalks up and one more game left to play possibly 4jw in schroederd service reaching a little bit with these substitutes as well and then get any bucks once you're kind of looking at that andrian reading and really stopping there doing the string and then stop it again you're gonna do it now you never want to over commit when you have two peaches words who can engines for that matter of fact but then they have to stock up to be able to do so right now and yet he doing a good job of holding on to the last one currently living once again off of that scatting the tip with these jumps from legend he's done in the past few times you know that GW is gonna look for it if this back dog has a kilt that is going to be it oh and the Thunder from deep good option right there and it will be in Getty and black twins excellent mental awareness and also good risk management because if he happens to SD there you had another stock and black twins out of fresh stock so you go for that you get that you get that hit done yeah you don't get that hit it's okay I'm on the angel platform yetis excuse me blacks ones already at the ledge and now JW has to worry about getting past that ledge trap we are already coming \"],\n",
       " ['Glitch 8 SSBU - ESAM & MVD Vs. Bankai & Tarik - Smash Ultimate Tournament Winners Semis',\n",
       "  '2,112 views',\n",
       "  '63',\n",
       "  '1',\n",
       "  \"I'm actually not even getting that we're getting a pokémon trainer instead okay I'll kind of like that switch a little bit better you know what I'm with it yeah all right let's get it man game at number one as you guys kick it off with us here top six smash ultimate almost said smash 4 man the drinks is calling the shots it's my ultimate dog I mean we've been sipping a little bit but it's all good bro we'll have a good time here in this winter semies and things topped all right bye guys all right start off like this easy my name get to get the full intro out before we got a thot gone arty 10 seconds 10 it might have been nine PM Cena that slide about speed running say I got you fam say less say unless I'm if I put me in bracket it's got to feel good for the team though that's got to put some confidence on you you know under both y'all how you taking thought today oh yeah you know saying getting spiked by Eastern bedevi put some hair on your chest too man a very smart right there for NVD to go ahead and use a grenade get themselves so covered as he gets back to the ledge very good man even though there's no platforms right here MVP not struggling to links I know like if you typically when these two team that's kind of like I don't necessarily say the bane of this combination but it's really dependent on like how long a beedi could stay alive sometimes yeah I can see that I mean snake does have an issue chontal in every now and then especially playing against someone who's not gonna fall for the all to be reverse the tricks of shenanigans and things like that uh-huh so he said Oh clear the ground eight kids have been a little bit of an issue I like that em smash daddy thing he's like he was standing perfectly on a range of any throw and so as long as a MPD decided to mash out you know we were out even if each I know told it good stuff right wonderful stuff man somewhere throughout the course of explaining what was going on man Ziya says already down to the final stocking of course ECM has always meant in a very typical young-sam type of fashion I'm saying still to restock sin and just call to plea ham right now not allowing the pressure to be put onto him off stage very good there to use the Thunder till to give himself a little bit of breathing space as he gets back on stage here oh good bye okay but not yeah hold on mate maybe hello my bad way back hold on oh heck a big sense of all the way to the left side but still not gonna go ahead and finish finish that stock off 1 through 124 though stock is definitely in danger but oh wait he just dug him can we just talk about how Charlie I got sandwich right there for a moment I mean I was like you know each time short hop they're chars are obviously not really any good buttons on the shield to stop that and then you got the MUB tilt on the other side he what are you to do he's a man actually he's giving a lot of chaos right now as this match has been playing out so let's the others one way you know usually you're expecting to snake me get the chaos because he has more kill power like I guess that universal cure power working progress like easier to throw out like the up till it's gonna be way easier throughout than like say an F smash or enough smash or something for pikachu i'll go away i'm telling nobody punishes that the pokemon so it's quite like issa augustine is specifically back at battle battle of bc he's playing against Pandaren I'm pretty sure and I was just like he'll just do this Oh deep bro like you need to watch out yeah he's got a might be kind of the best Pikachu in the world I don't know type knife so that was a five stop bro that is that was a spanking I'm sad that was a fraternity thank you master may I have another that's like right over to me I'm trying to make sure I'm pledging right anybody gonna say I wasn't for this that's Thank You Big Brother Almighty may I have another alright well that was gaming number one and it definitely went down in a typical ECM MVD type of fashion but we got the switch off a pokemon trainer to some different starters here greninja to be exact so again I'm very interested to see how the greninja pickers want to work here weird up lose the SS opposite those are two very set up very combo based characters but maybe you take like that setup aspect on one end and the other and maybe they can come together and just do something really sexy on the stays I don't know man let's let's see yeah I'm actually brave see how this one plays out now it's gonna give greninja the space that he needs so you know - run around stuff cringes are you know obviously gonna be looking down to the - tax I like this stuff but what I will say is that like honestly playing with ninja against MPD I don't know what it is about him but he's pretty much ended almost every greninja to run into a top bait like he makes top 8 over greninja I agree so now here he is playing yet another greninja but this time his team so it's a little different right yeah dynamics a little bit different in a course you know if some of the areas where greninja kind of faltered Falls afar obviously has a teammate right there doctor give him some good coverage because again I'm not gonna be seeing the last game not to his highest extent but we did see it to some degree what's the the the punishment on how he decides to land on stage again like you said you know you know snake if you can't quite get your beaver verses on on point you know you can't throw off the opponent they're gonna punish you and Xia says she gets up there yeah oh okay get up off man wait you broke the shield Oh duck kill Oh what were you doing even standing over there yo that's just like you'll just feel first drive-by you just close your eyes and shoot he just just let this close I'm not the double ko this I feel like that that might have been stealing stealing deal for the gg but hey sometimes man you get down like this and you think bro I got to get back into this game and that's when y'all start playing even harder than before so we'll see we will see I mean they're not playing so great right now but they have kept it at least someone almost almost even you know think of this knock off a SAM Center sooner than later he's a 66 but he is Pikachu so and they can always take that approach where like even if we can't get that stalk off of you we'll just jump your teammate because again it's not like you know even though you mvd is a phenomenal player you're going up against two characters on the blue team that combo very very well and punish poor landing on just so I mean you know I'm saying MVP if he's not you know position character you can find myself getting jumped out here most definitely oh there's an up tilt and nuts like you know what political hand do the dirty work on my teammate or my opponent excuse me I'm gonna go ahead and take my teammate stock right there on that one yeah yeah so the thing is like so the stocks are even obviously but look at the damage of incentives that's that's the real story right here 163 on the CSS very light character that gets up to pitch a wild say two characters have some pretty nice kill power if you get you stamp - attack or the up tilt but he actually finished him up with her up here it's not really known the KO like that way it worked hey we take those you misunderstand percentage shots you don't take mistletoe she's got to shoot it nice I like that MVD kind of going over here to aid his teammate just in case you know they SDI to that down smash you be able to catch the right earth up till means taking a lot of stocks here thinking about added some math back when that up so to be honest that was how some great spacing on that and everything either way time we gonna play this one out man one stock left on the blue team three stocks left on the green team this is still I mean there's no pausing for the blue team they can find this stock off of pot potential Sam or NVDA doesn't really matter they just want to make sure the stop can't be stolen cuz then things would be a little bit more back up to their end of the things I like you know in this stage to obviously it almost kind of helps green engine and zss us a little bit because you know you have so much space to work with and obviously they're not shorten the speed category by any means this or they can kind of be everywhere at once nice and here we go but it's the turn around we need this that this is the thing right here where it's like right one is three stalks the two but the lead is not really there's no real lead there until someone that either the two of two stalks become one or the three sides become two and then it's like ISO but what was the percentage and okay Sam happy to do a a to be one game the lead by the way so here we go let's see if he can uh go ahead and take the lead back right now a blue team has the lead on ISA or on the green team just purely off stocks but a lot of percentage on here so it's not impossible pretty oh no better I was just getting ready to say 2k like on stage you can do it everyone to to you on off stage that is e Sims category could be 2v2 3v3 for before I don't matter man ECM has you covered all right man so I mean in Pokemon this canonically doesn't really go greninja sway but let's see if smashed a little bit different okay okay yeah all right okay buddy all right turn around look at the audience relax okay nice using the retreating Thunder Joe's trying to bait him in but slowly but surely you know I'm saying Tariq is kinda started chiseling his way back into this man that's just kind of the greninja play styling just what it kind of elects when they break when it's brought to the table you know Grenada and not the most explosive character the world needs that one opening weight you know he might a loss of effect yeah hold on you better calm down one more down oh [Applause] that's your fault that stuff oh you know Ethan this is impede easy to be looking straightening him straight in the eyes like wide shot yes M / like a regular person or just Oh smashing right there I'm saying but the thing is the thing is though I think he actually need that charge to secure the stock yeah if he hit it we would've thought he was a genius that's for sure that's for sure that's fair you know there's only one game see my pretty short top well whatever the hell this is doubles is only best of five top six right now this better three until you get to win top top-4 yeah yeah so yeah you can't really don't say you gotta tighten up a little bit more right here okay one more game let's see how it's all gonna go down here I think this one's back to greninja maybe in in the rules of doubles might not be the best thing on paper but just in to in the realm of comfortability I feel like that's a whole undefined matter right there I really need some more tapping into because sometimes the comfortable pick might not be the most optimal piglet it gets the job done here we are man Pokemon a state and what a fit right here man this is like glitch number a you know I'm saying pokemon theme you know I'm saying pokemon trainer you don't say y'all get where I'm going with it all right bro I just I cannot believe this like the set is still going off because cuz my man wanted to try to go get crazy give it up though let's hear it yeah so uh or tarik no no this is territory in the hood we say - Raph - Rico that's my boy everybody tarik ves ube time yesterday - so you know it's a little a little bit history on ECM right now all right Oh up - ok gets the scoop obviously no sprinkles right there but there's the sticky there on the east side now this is where things get kind of tricky because now Easton becomes even more dangerous because he just used that great maneuverability not great nimbleness that pikachu has to his advantage he's kind of like a traveling projectile at that point nice back here again back up I mean I'm actually very see how this one plays out now that we have this third game you know hopefully the greens team does not lose me confidence but it doesn't seem like they were to lose a bunch or relief mvd might be playing with a little more anger he's like bro why are we still playing yes we actually should be in the next game right now yeah I should be I should be sitting watching someone else play but not you know you want to mess around now I got it now daddy gotta come through handler to handle some Fitness young man I saw the MVP handling business on Twitter and IRL man the man's work is never done I got to say man I really gotta give it to a snake here in this game obviously not not the most projectile orientated snake here in this game definitely more the hands-on let me get my hands dirty type is type of stuff and what I mean by that is like we've been saying like zss jump around snake a lot any other character would be like you know I'm saying I can't really do it this but snake is just like you know this up tilt though like get anti-area if you really want to back her belt gets back down hold on hey very good right there give him social coverage shield drops a grenade just in case of my charges char come up underneath and look at the way I like the way that Eric is playing to you see that he keeps coming back like stepping back he's doing a bunch of chickens but every time anybody steps in on him to kind of step back and drop that F tilt it's not really a move that you see a lot of greninja do oh wow cannot believe that work but not a move that she a crazy amount of when a nurse is touring out like that but it's working out for him okay that's it that's a pretty decent move uh-huh okay hold on speaking of decent moves right here you Sam has all the decent movement oh it fell off yeah but that's still kind of a dangerous spot for it to be versus ESS yeah go ahead gets rid of it very good how we try to get back to the well you saw a media actually walking over there trying to stick up again so but you said rolling out the way now but you want to do that it has to blow it one more time get it off of the stage and this is tough I feel like at what point in time do you have to tell yourself okay I can't quite get oh wow the double fairy okay but what point time you got Terry something I can't quite get the stock taken let me just elect to get you off of stages ESS because I know it takes forever for you to recover pull them up tilt and let me just jump your teammate but in regards it doesn't even matter here at this point because five spots right here to the blue team's one on those ESS has defeated a lot of enemies I heard Dave lit yeah I mean this is a huge bounty for you to take on right now that's all on fans yeah I don't know man this is got to be the pound you retire off of you don't mean Oh [Music] I [Music] \"],\n",
       " ['Glitch 8 SSBU - Bankai & Tarik Vs. Cosmos & Maister - Smash Ultimate Tournament Losers Quarters',\n",
       "  '983 views',\n",
       "  '23',\n",
       "  '0',\n",
       "  \"player in general not so much sure how great he is in teams but obviously he's been popping off since he's all the way in losers you know lose quarters yes there's been a lot of talk around Meister here these last couple events more specifically this one here I mean he finds himself being the first see for obvious reasons matt has been just kicking ass all over the globe and obviously you know what's being so close to Genesis I think being the top seed at the super regional before you know Genesis I think that's something to brag about that I think it also puts a little bit of confidence in in your end of things so this in mind let's say I just was gonna play out we got zss and of course we got pokemons tourniquet now we remember we've seen the Pokemon chariot didn't quite work it was the immediate frame one switch back to the ninja stuff I mean a squirtle gets sauced up I be circus awesome Charizard you know gets thrown in a blender greninja is gonna come out to play yeah yeah so I'm good I'm Leslie still trying to the Ivysaur here or the the pokemon trainer here just see what it's like but yeah I feel like greninja this is the one character I feel like he would have a problem with you know oh you can't - tech game watch a shield even the cross up is not gonna matter like I'm still going to get that up be off however though just find a ko out there all that given watch hopefully get thrown to the right side some I I think you find them back here maybe a four-tier there on the left side and see I kind of like this a prospective renters taking they have to respect the fact that you know game watch is gonna go from smash and of course in the craziest of doubles is really easy to just walk into that that move is just like nutty okay we've seen it claimed the lives of many so I think they're kind of going light like physically they know that there are a lot longer than game watcher sort of trying to use that approach I'm pretty sure I've just seen a moment to go a short hop tether come out just to try to kind of poke you know I'm saying as they're right there up there cuz you know the CSS it's their homie does air came out kind of poke the game of wipes out of that so I kind of like that tactic man I think they're kind of more focused on gamer whites trying to understand like what he can and can't do in doubles they kind of know how Inklings gonna play and say they know that matter but gaben watches just like means a wild card in oh no bro plus the draw for you no I'm saying he just does whatever he wants actually using that upbeat earlier so he can get a little extra distance and he tries up yet again gets to grab the ledge that second time this is up it's pretty even pretty even game right here except for that game watch looking a lower hurt on at 1:04 another light character in this game a lot to worry about specially with chars our big tail you know I'm saying he if you even if it's our spot you might actually be gone oh absolutely man just a big target as well man and of course you know the bread team you know regards with the common with each other there calmly by themselves they're just not strong on combos period so you really gotta make sure you get your Pokemon switches correct there's the back here but unfortunately on the wrong target fact if it's right there on the upbeat turns it up and then speaking of turning it up man on the left side of the screen man I'm I still just turning it all the way up and then some yeah my sir he just he knows how to get those tails with it with the panic now man he keeps hitting with the oil emergency we out that we out actually means just knock us out so alright so it looks like they got a flight slightly here just face off for a percentage and who kiddos or stock next soon I mean the CSS a little more hurt and then cosmos his uh his inkling yes most definitely one hundred thirty four percent deftly nothing to sneeze at but you know on the opposite end of that tomb and we can kind of look at it for the beauty of this situation you know she's working with a little bit of rays now so I mean I'm not saying that she's hitting like an actual character but she could kind of bro her way to run a little bit more just a smidge more oh nothing too crazy like the fact you got that extra up in there after the up air coming in fra oh okay he said I got you homie the same snake the hammer I got the brush that back hair just ruined this entire game from Charizard that back hair came through took two stocks for the one that he got if what was an even game is now a a huge deficit for the red team oh my all right you know but that was the best thing that's that right there is the classified first time a nice back here you know I'm saying we put that in the files you know definition true nice back ears yeah we got to get like uh I've seen they made one for you guys like the commentary pairs like the big ones and fighting games like the true neutral the truth like chaotic like they need that for a back here the true back here and I'm saying the chaotic evil back here the lawful goodbye we need like one of those you know I'm saying man I'm actually I was that was just really good place right there not say that condoms can't win this but like he has a lot to make up he has to find out a way to get off big boy Charizard who's that 102 which isn't really much to scoff at yet and then have to worry about if he does get that stock off this is uh CSS will just run up in boost kicks that's right you know I I will say that there's ever careful to read to try to edge on it tunes when is certainly cosmos and this inkling you know say not not to take anything away from Meister but I'm just thinking of like how that it's gonna play an effect with Charizard and zss as well so with this it might nice you got to respect the ink Oh back row of course oh yeah I'm tripping for it didn't matter what was coming up he could have hit both of them they was gonna be gone anyway yeah so good stuff I mean yeah that back here really I think that back here wanted the game for sure like he was like y'all both standing over here I'm gonna throw it out both y'all gone now and now we're in a 2v1 situation where I don't have that much damage my teammates coming in a fresh shot like we're good that's right yeah and it kind of hurts ain't clean I feel like in to be ones when that character has to find kills out of setups because even if you get one bury the other one's gonna die son are you really trying to bury my boy right now like well alright I'm gonna say stick on pokémon trainer maybe that's a good sign right there sign a comfortability maybe just you know it worked made us what we needed to see in some of those previous games earlier when they played on stream maybe that one and he would have stayed Pokemon trigger but whatever the case may be it's actually working out very much in the blue team's favor not again it lays in Genesis still best of three if I'm not mistaken yes yeah losers quarter so yeah there's a you know so you got to kick it in high gear here pretty soon I mean this is like so after this we will be getting to the best-of-five territory for sure uh-huh but like it's gonna be yeah four matches best of five essentially five and another fake if there's a reset but we'll see how this one plays out man they're taking their sweet time to figure out what they need to do gonna keep the game watch going obviously I was like hold on man I mean you know what else what else my Steven please  yeah I know you have the pac-man though I think we saw him do squash strike it uh at Summit and I think now I remember him having a pacman or something like that but regardless here we are getting into our second game bankai and tarik taking that first one row nice yes most definitely definite are saying the severity of some of those situations knowing that you know what the percents are high my teammate has higher percent but I know if I hit him I might maybe hit the opponent too will be in a good spot so I mean that that type of split-second decision-making I think is what really won the game all jokes aside so listen mama here I feel like the retros got to play a little bit closer to the test we're here and I think that's what we're seeing you know understand I you know because we have the platform's here the CSS can go for a lot of for aerial shenanigans and I think my sister is very well aware of that and he's like yeah I see your there I see your Nair way up here in the in the magnifying glass and I raise you just Affairs on my own I'm not gonna let you land for free anymore okay short hop near floor is lava oh very very good yeah so that's just some great patience right there you know he's up there on that top platform he's hanging now obviously Charlie's a big body which way are you gonna lend Sunday don't even matter because Oh smash has me covered like what are you really doing right now okay smashes if we're gonna find his mark good stuff - Cosmo stares he finds himself another stop oh whoa I he lucky that was all the way to the right side man that could have been the stock off of him as well only at 103 - men literally - uh losing stocks here that's an Ivysaur combo right here just to run out and then turn around for smashes to get them off you you don't really see that a lot with char especially not in doubles because like what we've seen in the last game you just run the risk of something Charizard does just cleaning out everybody on the stage but regards whatever the case may be lilies let let him know to jump out yeah he's like you know what man just keep on charging so I can get out for free you know you're gonna be able to get oh okay that was super close to getting that up smash getting thrown over that's I like the team work that we're seeing from zss he says that definitely low altitude throw so it's probably easy for for chars are defined you know oh let me get up smash here or you know aren't any character be honest like I probably hit as those matches well I agree yeah I think it's just attached is that much easier with char just because I have a Spacey cover speech right yeah you're right okay hold on them and it's big stalling down low low high okay kind of gosh slipping right there yeah I literally got hit with the hammer I was really smart I'll give it up okay good man squirrel getting a job in an immediate switch right here over a to IB so I kind of like to switch a little bit more you know not not to say like the Charizard - squirtle was bad by any means necessary but I just like in terms of what this match up my ass for what it might bring I feel like you know ravely certainly plays a big effect here just keeping game and watch off of your case of course you know the abilities to combo very very low to the ground - like those back hair chains and stuff like that you know there's just a couple of times where I feel like squirtle and chars aren't really need the help with the teammate where Ivysaur is is kind of like so I don't really I mean if you want to get in here and do it you can but my uh parent down there and stuff like that has me covered you know all right hold on man how is gonna get back into a bit you see cosmos here trying to put the pressure on to the CSS but not able to do it Oh back throw get off my stage better watch out oh I like that was actually really smart to go high just just in case he's like you know what man if you try to do this double jump over me like this back here we'll definitely in this stop sweet or sour don't matter and then the spiked from below man I mean I like this you know even though he's just playing sorry he's playing such a big care of him he kind of has the mindset of playing like the nimble care just in charge like his reason where he can and can't go hey dash attack no up here very good of course he's like I'm just gonna be out there situation stop playing with me okay triple back here there on the ledge but he tried the roll pass oh that oh that should have been enough but it was not still living got a watch out - texture not gonna be enough either yeah you gotta also understand that you really can't just jump around a game and watch for free especially it says even though so much our nutri starts out a short hop something up smash isn't is a force to be reckoned I mean we've seen what it can do you land him properly I mean that's almost a stock every time depending on when he does it dude this game is it's really tight based off what could happen here man a bad straight back here hitting this game watch could be a real issue I mean while they're still gonna end up quite a bit damaged with the blue team just in general oh my god punished right behind him so he's got him off stage no way 42 I mean this will be super while he's able to do this man 1 1 55 to 60 3 steps away from that ok nice short hop nearing around old Kenseth over stens with the dash attack go ok he started out yeah oh my God he's actually smooth time look how much damaged Artie's been able to add up it looked like cosmos was looking for a Perry I'm actually a little shook for cosmos he's got to leave but he has nothing to land a single hit yet that one finally have a cross you gotta watch honey you know you got to watch how you play on that platform but wait a minute I'm a big boy wait a minute 170 my man's still living the eye of the gods but also that is a week back here apparently so in a minute neutral get up off the ledge row tickets to rapid to have a one hundred eighty nine percent in climbing get off ok he almost lost and so you saw he lost his whole life right there hey a lot of high respect oh my god why would you use good dog there's actually kill throw here you know he's good 2:05 Oh what the hell that's not what I was expecting to take the stock that's not what else that's not what I was taking this expecting to take the stock buy anything son what even splattered dog you just got splatted that is a well anticlimactic finish but we'll take him it's go ahead throw to the replay yeah he got the perfect angle for this look at this look at this look at the precision the fake-out old he say here's right over the edge perfect angle that was a lazy toss to here I say you've been begging all day here Wow alrighty cosmos cosmos showcasing now you know it there is some thought process that is put into playing from okay well I can be precise with stuff all right trust me let me show you how it goes and I've actually really smart too because if he would have jumped off and bumped into any part of that upbeat from Charizard that was it I just man yeah that was I mean I like the fact that he started off when he knew he's gonna he knew his teammate was gonna be punished so instead of going there for like the analysis paralysis oh let me just - attack him he went for a strong option of the eff smash just the case yeah I'm saying like got the big damage there did quite well on the one 1v1 just you know he basically can only take one hit and he finally took it and was off the stage as well two hits basically he was on 155 took that back here which I think about a shell poke I think so or he or he jumped and got hit out of his initial jump but still like you know he he kept it up kept the Longhorn everybody get gonna get on stage hold on empty or be ever stopped down for this I love this stage yeah probably not getting oh wait oh oh math always have you gone I thought well what is this a tournament I thought we were having fun wow that's OD well mr. Game & Watch of course as always inkling yes and we're gonna stick to the script right here no need to switch it up final a game right here man that one really came down to the wire God is saying so maybe uh you know usually what matches in like that they really go one in two ways either as I kind of demoralizing and it's really detrimental to how you want to play the next one or you just turn it up like that's literally it so let's see how it goes right here all right I like this both players kind of both sides of Scooby kind of fill in each other out but again you know there's typically you know just the inkling gameplay that finds the first blood being drawn I mean so here we are getting right into our third game and I'm just kind of interested to see how this one plays out cuz yeah I mean like I feel like the way that the first game played out is that pretty much cosmos on my serve been in control but I just had like a really big bad mishap right at the end of that last game and then it almost happen again in the second game so the come-from-behind wins from Vaughn Kyle's here I'm not saying they're like way out of out of the game either you know it's just you can feel like the pressure and the the flow of the game is basically on columns on mice they're brave oh yeah oh yeah well bonk on Terok find their ends like they you know they maximize it oh wait a minute chars are returned homing what are you doing maybe he doesn't have the right gym badges for Charizard to listen properly I didn't tell you the direction here doc I just told you to get back to the leads what are you doing okay I beasts are just charging up for dear life right there on the left side very good possibly expecting one of the players on the right side to kind of jump here just get a little bit too close right there man you touch any part of that body when up smash what's coming are you in for a bad time yeah back row four is very painful yes oh my that's in a packet alright yeah and I like this you know I feel like both players all players it's gonna be both sides understand kind of what's on the line here no just playing a little bit more tight now you know I mean obviously they're going for the composting or getting their damage but they're not going for anything too crazy what we've seen in the first two games like this can't really risk that here anymore rapid jab oh nice to cross something there it's big and so much off of that man this is like so rough for her for the for the blue team yet again man like just I think Lani against game watches so hard man like cuz I even when you air dodge passing you know air dodge passed out there he's like I'm still here bro stuff and I'm always here I think zss has the easier time obviously you know she has a flip jump you know let me get out of there real quick but regardless and if VSS just seems to be an issue for game watch in general as of late I don't know if you've been watching but a lot of people have actually been picking up CSS to try to play against Meister exclusively well what did he do I see your son was has been doing that too we've seen the CSS a couple times versus my sister rivals at the lab so are you doing down there I don't I don't maybe he was checking some stuff he was just checking the real estate out I mean just a nice town maybe was just I don't know whatever the case may be that definitely wasn't where he needed to be and uh well I mean obviously the stocks I certainly speak for themselves man I feel kind of bad form because I feel like he was doing fine like he was trying to keep the pressure up 100 no Meister and somehow you just missed that ledge and he was way too low to you know do anything about it uh-huh up here again oh oh nice clothes fit in there gets to uh pair of couple of times in a row again just being this anti-air problem the storm that might be the game yeah see ya Wow okay oh no way that might actually be the game so I just I don't know what else they can do on that one my charms are looking smothered in cover right here just slathered homie he's how about they soothe the 3ds yeah bye yeah I just I don't know man after that stock will drop for for absolutely no reason that I thought really couldn't seem to bring that one back you know like we're gonna this no man I'm not saying like you know it was impossible I just I really felt like that was like there was like eight air you know an aura that just lifted from there as I all right man you know let's go play singles now \"],\n",
       " ['Glitch 8 SSBU - Mekos & Puppeh Vs. ESAM & MVD - Smash Ultimate Tournament Winners Finals',\n",
       "  '2,733 views',\n",
       "  '61',\n",
       "  '1',\n",
       "  \"a snake and that's just minigame city at that point that's just Nikita you know whatever I'm in now just waiting for the action to start looks like one get the team sure expecting to see pug much Hannah Lucas Pikachu and snake bout to step up to the plate bars are smashed high for two coming soon a all right right there has actually hasn't been one man somebody I'm sure that's about that smashed out for two I know there's been like three Pokemon ciphers now right in time and I mean come on man it's about that time anyway alright well about that time to get into smash right here and with that in mind obviously we're switching focus here on puff a immediately again you know that's kind of like the e sama fashion right there Louie Sam so good at the pokémon trainer match understanding you know how to maneuver around all three characters punishing two pokemon switches you really gonna have to bring some just different to the table I hit a really throw ease Sam off here in this match as you see pull my another pokemon switch the drag down back here always it to the back row okay Chuck oh that he put up we came here I thought he put a sticky on him for a second that would have been actually kind of OD I think he actually might have highly died up there on the top but it's all good that's gonna be the first stop going away from pub a but you know honestly like you see the damage that ended up the east okay I was like it's not gonna be that long until one of the Green Team Falls is wet both of the Green Team fall like that little combination below in the for they're upbeat and then we got a bit a little bit of healing going on you got to watch how you approach and like I said before you know ease Sam I know you'd like the Thunder Jill is a really good like key you don't say in to like finding that access point on the opponent but well you gotta care that I can absorb trust me they're going to use it's not one of those things like reflector where like I have reflective I don't ever like reflect Thunder jolt like I'm definitely going to eat your your thunder and Luke is getting a lot to me you get the flamethrower for obviously Charizard from your own team you get the Thunder jolts and the thunder the hunter on Pikachu and you get any other explosions from snakes so I mean it is just yes there's a lot that he has to you know oh you can get his health back for he probably trying to keep the stock for as long as possible that's always kind of been make up something he's a perfect stock tank but also he's a great team player it makes plays happen oh oh yeah I thought they caught right there from ECM two men just understanding you know I got you off stage you're gonna take a long time to recover in the meantime he asked chars are right now I definitely need that I definitely gotta jump him I got a 2v1 them if it was squirt or Ivysaur maybe characters are a little small but I'd let them off the hook but right here alright man you looking magically delicious right now I mean I got I gotta jump you Oh up smash I like that we need to see a little bit more of that too man I seen Kate arcs we did about this up smash at the ledge it's a tough tough thing to do it covers jump I'm saying it covers neutral gebbs depending on how you get up if not you can get grabbed on main just come on hey meckel's again living up to what you talked about before a TK I mean just being that the alternate stock three stocks he's kind of just old Dean right Big O must have not seen it a little sneaky action right there I'm echoes finally was his first stock but either way there's a three stock lead for three stocks for two huh here on the green team and they already started to take a quite a bit of damage but Matt goes looking extra healthy as we kind of expect him to be only 16% you know trying to keep it as a 2v1 I feel like all he wants to do is do like you know many to be ones as much as he can um you know like I thought I've thrown this opponent away let's go ahead and get this teamwork going fossil fly to the mini tubing was kind of benefit I feel like the minute the mini to be ones benefit I feel like all four players you know I feel like probably more specifically East Ham and meadows and like you said meckel's office is gonna benefit also fighting the 2v1 now he can pinpoint where like either snakes like grenades are going in like where Thunder Joe is gonna land like this you know he's a little bit more precise oh quit him so MVD actually gonna lose that stock Oh gets the grab oh he was actually I thought he was facing the other way so he can go for the back here but instead now he turned around trying to get that for there okay you think you got the sweet spot though no okay nice okay his pk5 a little bit different hits them with the what are those good sir some shoes is whack yeah ain't like those well what's that headband bro right alright so yeah just like that the doubles got doing it again picking a good teammate to man puppy is actually pretty uh pretty got like a double as well artery all right well Michael definitely living up to that statement that Testament and I am a the doubles of God man look up the smash rules in a dictionary and they were originally written back in 1784 and you'll see a picture in me very first doubles tournament me versus me and one of my disciples versus a King Tut and his boys man we was running it I had to give him the hands with Lucas yeah man I just looking looking a little rough right now for NVD at the very least in that last match he just hey he wasn't really uh he wasn't really there you know a lot of that seemed to be on MVD on e Sam but you know let's see what happens in his next game evany obviously has the capability getting these uh chaos a little earlier on most people then e Sam but we'll see how they play this out the second game so far all these grenades just hit me Sam so that's not really the way you want to start on already at 42% yeah and again also two grenades really only benefits you and you're winning you know rob and more specifically in singles like if I guess the same could be said for doubles here though I mean you know you we got a little bit more room to work with I suppose so we've definitely gonna see the two 1v1 yeah this is it's inevitable about what I want to start right here for meadows and puffy yet again stock already gone from me Sam not too much percentage on on a pub a this time who's actually not the stock tank of his team which to us I mean that's plays even better because eventually he might be able to get around to healing you know healing meadows or make ups might just lose a stop right now rolls him oh why not up to lasted four goddamn Oh ever hold on east I'm gonna wet he touched him some way up there and that's why I think you got him without beer at the top that stuff definite needed that the up tilt into the up there lay them down on some Sam Smith right man now I'm thinking you know I felt like maybe the size of states can be beneficial but maybe also detrimental to depending on like how the tide shift for both sides on one end of the spectrum now you talked about the two 1v1 things I how that really works but then I'm fucked on the opposite side though two men you know so much space how can i really help out my teammate when I'm over here in Japan and you're right here on the other side of the world you know yeah oh okay what's it gonna be like I be sore can be kind of scary to deal with off stage here for Eastham and mvtv MVD nice holding down the fort understanding that I can actually apply my depression just at the lid I don't even really need to go offstage if I don't want to runs right up goes for the up Tillett is such a strange thing to see because it's not like Lucas is really jumping a lot a lot I mean Lucas can start the Nutri with his feet planted okay I wasn't saying anything he's making a pretty huge impact here on this game as far as keeping the lead on his side you know did got a nice amount of damage there kept the stock quite some time but II sent Marnie on this last stock that's a little a little scary uh-huh loose carry unless they can get when he stalks off sooner than later man you don't want to get in this situation when you have to steal it and I mean I can do the stealing now because it's not bad I mean they're both in uh where he's that very low percentage uh-huh and it kind of feels like he you know it almost feels like they've almost switched the focus a little bit yeah I'm sorry Thunder still like buffets a threat puppy is gonna be like the aggressor in the last game we know that but I think we're really hurt that was a lot the lowing of you know metals just be like kind of like this defensive tank you know I'm saying the stock tank of a healing now I'm a bro like four minutes 34 seconds in the last game II had three stocks now he has one what the hell okay yeah I guess we've got the last twice but doesn't actually need to do it drop the sticky oh that's me son bro that's man and yeah dude I looked right at him it was like I picked that red is still on his chest he's like I don't care yeah like somebody just a dime breathe the mission you're the last one mission report oh man all right but Lucas is out of here puppies all by his lonesome unfortunately but you know though Charles I can certainly make this magic happen if you get rid of you get rid of MVP and all you gotta do is just play very tight very close to chess here versus ECM okay mini-games break the targets this is break the targets right here oh my oh wait a minute get nimble oh he ain't got over it wait alright so whoa okay I still like it oh it's rated this time it's ready this time this one it's like literally on his nose yeah I'm gonna get it now I think it dropped off oh wait yeah okay so for dare oh no up here though a little late on the execution oh man they're just really fun everything plus the kitchen seeking it I don't even hi Oh son he was right there right there yes all he needed was to throw I thought he was honestly going to just uh smash okay the throw hold up oh oh you know who's gonna you know hey you gotta go out there oh no he did son what wait a minute hold of Sigma this could be a comeback okay so hop there again okay we see how well he played against versus a versus cosmos 9 he doesn't care how nimble the character is okay a lot of thunder chills right here being tossed out say your boys not here 2x or blue so you gotta hold these okay yeah get out of here these charges I'll come back to have been crazy today by the way this be this will be the second one if it's that was this one that was the first one that hang up my why would he do it oh okay you're facing wrong way goodbye unfortunate I was ready to say like that that was gonna be a crazy to come back if he's ever do it again 75 that was one back here yeah first year yes because they grabbed the wrong way it got scooped up and he was gone up throw doesn't matter Wow I gotta say man it's very strange to see you know I don't know how often puppy and Meadows team I don't know if this is the first time I'll know if this is like the 10th time I mean they're both from the same region just about it's always strange to see like these combinations or players who don't team as much I mean really just push the envelope you know that first game I mean I was definitely the meckel's and puppy show the ECM everybody just kind of tightened up and really tapped into something like that old man game that's like I say the same of our mech was to you guys a the old man prowess to him as well I don't know wherever the hell it is that you say man be be kind of dug from them and they dug deep and it worked so game at number three right here kick it off on everybody's favorite stage right Yoshi am i right no okay anyway my bad you're up there somewhere kind of up there so yeah I still like the stage but yeah the slants feel a little different this game didn't think you in melee so yeah it's like they're like more defined or something but either way let's see how this one plays off I mean we got the slants but hope to almost playing tilted that's all I'm saying no definitely not it's the last thing you need before a single is asked for sir oh come here okay no across it backer I talked about earlier I said get me a backer a very very strong option to spacing out the puns especially something I get a little bit handsy with you like snake and at times okay it's moving on them right now I think it's another one Oh okay look at the combo here that's being done on makeups finally gets it broken up by pop a yes oh he said no I see you're trying to I see you're trying to spike me home and you gotta respect my up being puppies to up be out of Schilt master I mean you can you can get it you can never get that spike on the later parts of it but yeah puppy actually delayed his up he I think he was probably spec to up a little earlier and so yeah but club baby ladies obviously therefore he wasn't able to line it up either way snake out of here up smash coming in from chars art get out of here that's right man puppy just lining up those up smashes ever so gracefully and I think we'll kind of happen right there was a MVP role probably anticipating like a reaction option and boom up till you just kind of beat them to the punch whoa okay we out yeah oh okay seem to matter I don't I think Makos might have popped off that ledge trying to do something aggressive pool yeah I feel like the slant definitely does not help out when you're trying to get away from snake down smash so definitely nice animation I still don't like but it's all good it's definitely like what the hell I'm not saying like proximity mine was any better but damn like we can't yeah can we just can we clean the animation up a little bit that's all I need yeah man I thought about it just don't feel right I don't know oh wait whoa the mini getting back okay I mean the kid in a neutral state I I mean I guess I mean the mortar or more up and he got the fourth or up smash the mortar very nice oh yeah let me get that back I'm a little hungry right - attack again yes and just as quick as he recovered that percent of course it gets taken away from him immediately there's a sticky dough I assume oh come here instill onii-sama on come here come I've got it so I just want to touch you homie oh oh I think dent is directly on my man fate gave gone right now the fingers that you had the right toe meckel's is at a position where he wasn't looking so he couldn't like you know drop off the walls or blow on it so and I would have been how dove into play right there yeah man Michael Scarn just played himself unfortunately yeah got a little bit too down be happy and fourth end up paying the ultimate price right there all okay can't lay with backer on shell forever man you know Ted the grab or not man you're gonna get you're gonna get tossed up here pretty soon all right Razor Leaf knives a really good trap right there those heard Rosalie's know that he's gonna have to try to jump out of that situation goes for the dare Wow great damage me and put it online here geez that back in her since home exile Oh to make it back make us now gonna be do it again and ice leaving it up to puff a finds an F smash from across the stage not gonna be enough yet this would be a crazy time I feel able to make this I mean the other one was definitely doable this one seems right damn puppy is movin he's kind of going in up till the gear we get one more I'm you know gonna better survive too many more it is yeah 120 trades it I don't know it's telling Pikachu mini-games yeah that's a lot of damage right there Nikita +4 smash yeah the minigame is very hard to escape you know you got NVD in the back playing Top Gun basically right and then and then you got a you know even the front just pressuring you oh man say oh this notice right here is Tom crisis I'm so sleep alright well I want to see how meadows and puppy are gonna kind of tighten up a little bit you know that first game playing at the Hat game number one definitely took ECM MVD by surprise like okay y'all y'all playing this game I'm saying like y'all can absorb you can absorb 75% everybody's metal on the stage and of course I mean on top of that you know meckel's and puffier just really really good but that absorbing stuff is what really kind of hurt them he survived for way too long now they've kind of switched the focus off on you know puff a to Lucas to meckel's and tore him up now it's like it's back in puffy and meckel's of course I yell what are you going to do to answer back I don't know man Mecca is like I think that's what they're basically doing is that you kind of focusing on Makos here cuz you know obviously make us whenever your team with that because I think the point is he's supposed to be the stock tank right yeah but if we can't stop tank then you know what else is there left mean I mean like he's still a good player for sure but like his whole point of being on the team is like oh I want to be out here stop taking I want to be mad annoying from afar but if everyone's just focusing on him and his teammates not doing a good enough job of like stopping them from focusing on him together like Pierre just doesn't really work out well for the for the blue team here oh it does not gonna have to tighten up here a little bit more me even as we see this nice I mean just ten thousand Perry's in a row right here you really got to switch up the pro toxins as well too of course in pop a horse you just already left the building this is not good by any means necessary right here you know to be in a deficit this early on this oh my god he's just a Ford smash cake I mean I'm tell you over extend just to it you're gonna eat a forest mash every time fun stuff oh that's me bro oh yeah I was not what I wanted to do me I was I kind of tossed him up over there east I'm headed with that four deer and they just end up showing up the other side you thought that was that was definitely the you thought down here oh you thought playing the day okay nice get off of my boy you're trippin Saints that type of party oh okay yeah and I'm liking these boob matches right here from puff a as well man you know this Charizard you know despite it being a big character a heavy you don't say whatever you want to call somebody's a bigger character the movement has certainly been crisp and if it's not as you know it's ever so evident when you look at you know the to be ones and like how well he moves that goes down those last not yet again but you can see MVD now looking like he's you know he's like you know it goes I like that stop taking stuff you doing let me try let oh let me try right living 134 I mean this hats how honestly some had always been - always have been MVD you know I that's the stock thing but um you know sometimes you know in MIDI gets jumped you know it scary that first game was just mad rough from oh my god he is out here okay every DVD don't like the idea was there because if he if he had traded yeah and he got the stock dope and if he didn't trade on the stock um he's losing his first stock so scared I guess the d stands for destruction in most valuable destruction right there oh don't roll into it sir oh they get up attack you're actually a madman I'll get tossed up okay okay oh no a smash for you the c4 put in fillets and it was on Pikachu there that time a little bit of friendly unfriendly fart whatever the case may be the percents in that dark red area right here for the blue team so you know man that doesn't mean any thing good not anything at all and there goes net goes out of this here uh out of here this year match let's say out of the tournament just yet but a lot that you're leaving up yep gone goodbye alright so now the turning by any means either they're just hitting losers finals so yeah that was a well he's tired see tight right back come on ma he said don't you know I invented doubles and got Jamie like this play double back 74 3 the \"],\n",
       " ['Glitch 8 SSBU - Dark Wizzy & Light Vs. Cosmos & Maister - Smash Ultimate Tournament Losers Semis',\n",
       "  '2,181 views',\n",
       "  '56',\n",
       "  '0',\n",
       "  \"inkling game watch uh-huh and she interesting spread of characters here you know but all four characters I feel like cobble into themselves pretty well so if they get caught in that tool only one they're certainly okay especially on the behalf of Meister you know everybody's kind of tiptoeing around how they want to kind of fight this guy man you know I'm saying you got to really show him some respect I'm saying not so much respect obviously you can't combat them properly but just enough to be like look man I know you got that up smash when you got back there I'm saying let's tangle I was going to get it man game number one here pokemon stadium of all places so fitting right here for glitz number eight minutes pokemon theme you already know what it is yeah I mean a lot of pokemon stadium I don't think really matters which bush it is so you know you're gonna see the stage quite a bit however you know great and just you see how this one plays out you see the Green Team starting off with a pretty solid lead here a lot of damage on it to onto my star already now he's sitting at 69 and now and actually look as I said that just like that Cosmo is also sitting up with some pretty decent damage too but looks like they've been able to find their footing started racking up here on the green team as well right oh wait am i old I like that nice and see I was missing mice to do that a lot you know you'll see somebody kind of come in super aggressive he actually just won't move he'll just stand there and be like look if I go in and I change my position I can't up smashing but I know that you think you're gonna approach me in a type of way to where you can hurt me only for you to find out that upsmash needs all the respect in the world put on his name by people he just walked up and did that yeah my man was charged up smash yeah I have no respect for your up smash none I'm walking up and grabbing you what's up hold that wasn't gonna be nice a waiter all right Meister is getting some work right now let's or that thumb is in trouble that C stick is getting maximum work right now okay like no stretch to the road yes I'm doing it bro he's just doing oh okay I guess there is a method to the madness it matters because you don't want to challenge it regardless it's like he's allowed to do it for free yeah goes for the 12th up smash in the rows and baits amount finally gets it why that's actually oldie alright well I like to start right here obviously the red team a trailing just a little bit ever so slightly you know and I say that because again you know still Meister in this game watch I still kind of approaching with this head scratcher type of mentality but you know saying that's not to take too much away from right here of course you know the red team we've seen them play they can switch the flow of just to any moment they're up there again get off don't even think about helping he'll move let me got way out of there uh-huh getting out of there again dropping the bullets on them not gonna get anything crazy now I'm loving how the refuge's has each other's back here Manny time somebody gets kind of hemmed up a type way to just come there and just break up the combo bro he said I got one of those too here oh stop playing watches clumping right now right he's just going oh man I just watched the rive documentary I'm out here you know upset alright so yeah just like that man even even a pumping her not like he's definitely finding the up smashing when he needs him all right 34% though man he needs to find himself oh my good man tree cover your percent obviously go ahead and take some from the opposing side wonderful stuff nice the floor is certainly still love but it you're not going to get some of those chains that Mario is so accustomed to getting and I don't think you know light will either but that's okay because again they still got some very strong finishing blow SS tactics you know but you have to respect the the up be there that gave me one she's gonna bring to the table you're an understanding well your compost should start and when you need to finish it so you can try the time in according to upbeat okay hold on man this game watch looking quite hurt stuff they don't find them oh okay wow that's actually really good yes a lot of damage being put out here on to the green team in that one little situation but wait this might be a stock could be hostile highly having a go well he was already dead oh yeah he's gone he's all the way with my bad bro is that she he he couldn't get back he could say Bow Wow how I was gonna get back he was stuck over their whole time he had to keep shining energy and hope hope that no one was coming out there or at least that light would be able to uh will be able to stop the pressure I was putting onto the left side so okay the last one I came was very interesting because I felt like the green team was in control until dark as he got put off stage and then after that it was like well we got a you know got a win condition see ya man and I'm really trying to like reassess the dam up smash this but I guess what it really is is like yes it's a tough move but I feel like every time he tossed out up smash he timed it differently every time no say like he'll charge it for a second then chocolate for two seconds and charge her for one second I mean even I mean just it's like a game of chicken you know I'm saying Meister yeah yeah I'm just like this weird he was definitely mixed up this time a little bit or how many times you throw it out like you thought like three times no charge and then he throw it out like two times half charge you know it was helping doing some cool stuff with it but I mean it just it just looks funny like yeah it doesn't fit on a stage is hahaha like family your controller plugged in properly okay you need some help and I saw him he say this song is a Bop my man listening to the baby honey I need some stuff with a pop in it watch me swerve and now without a cop in it all right man we're gonna see is gonna hop in it after they finish this show right here obviously my sister and Kajol is playing very well together but don't want to take anything away from light and dark Lizzy though [Music] all right so yeah men don't know what to tell you things from dark wizzy I've been doing quite well here in the doubles bracket obviously a top four so that's always great if you get top four that means you're poppin off that's right no matter how many people are in the bracket you know nope unless there's only four thing yeah you didn't really pop off but it is what it is okay nice pace it's gonna empty the clip on him very good I really I gave it up cosmos to you know the manageability physique is actually really strong because what we'll see even from like even still something like the more high level Inklings that somewhere throughout the course that match it just completely ran out of ink yeah we never quite see that they're from cosmos cosmos soul into his character he knows when he's almost out every mission see you later Fox man hurts you from space we'll go we'll take a trip up there yeah I really never see cosmos like I'm having an issue where he ran out of eight when he needed to do something like he'll run anything right after like he has like just enough pain to get that role door across the stage but yeah I think man is pretty eyes I'm saying got got about half a tank left hasn't been throw too many splat bombs so you don't have to worry about taking a huge chunk of his tank away right Oh does that define some time to get some more of it back though and offer me up here oh my goodness you didn't match any sizes up here from smash for this character we just ridiculous okay there's a dare okay gets clipped I know I might have been a ship or maybe he'll just a little too early not sure what the cases but you know when you get hit with there you know what the phone is looking for after that yeah love the punishes coming out here from our from each team to man one one person finally gets it oh that was not who he act oh and that's gonna be a mutiny kill into another stock off of light he did not want to throw that up smash obviously at dark whizzie well yeah isn't knocking them off and then end up getting rolled up smash as well man that's rough because I yeah the game was looking all right and tell that moment now they're down it's five stocks to three you know Coughlin's not looking so hurt right now i mean uh great di we still in there and they go for how much loss that one yeah he did he said i know like you see my ham skills you know Sam versus uh you know saying the chars out earlier but it's not that bro I'm playing a hot potato oh wow ain't no rapper jab the reflects okay doesn't get anything off they're very good I mean I'm telling me just the way that the red team is just kind of sandwich him the green team here man just really pinning them down and just being just very just almost oppressive in the neutral here yeah hey couldn't get Oh actually I'm kinda bout that all right I like it you know you know use in the air anyway is that it was up B already so if you were able to like capable for some reason that could have been it I left gate and watched how's that weird thing where he gets his up be back as well after getting cape because like you can't you can't make him and he gets up you back that's right yeah I don't know getting watched has the same properties advanced gimr must be nice if he does I forgot him replace his character what the hell he played him before he was good now give him now oh okay so I see you trying to spacey with dubsmash I'm here to hold that guy respecting I'm saying that tipper animation here on for smash from Mari alright okay with that sweet spot man you could kiss that stock goodbye oh no way okay stall it out very smart and also got that aired out just in case so I mean this looking like quite a bit of a comeback here for the Green Team if they're able to do that we'll try it drop with you in another cape trying to make sure you can keep yourself alive okay would have probably turned that chair around so nice morning oh okay nice directly air dodge is the way he knew that that up smash was coming here sooner or later very cool anti-air option oh oh oh and that's my stop now playa you want to take my stock is mine now frame one sure spike it he cut the announcer off he's like hey can I get it can I get it out very got barely got enough little sound yeah I'm saying so I won't word sheriff stuff right Oh smash okay very good okay they're swinging this thing back into high gear he's gonna have to go super deep gets the snap oh no doesn't get the snap and I don't snapping so now well ah Y could do this I see it got it he's gotta go out the Meister though or maybe that's the trick monster into thinking he's got it not going after him and get all this damage on the cosmos we'll see how it goes I mean nice it was it going for the star right there not getting back on to the stage I was gonna have to wait it out here play the slow game nice to throw Wow bad enough yes he's alright man I'm not getting a beat again what's up there is right say you as you were saying how does he land that's I think that's a real issue you know he's not allowed to drop stuff on to the game of watch shield he also doesn't want to get too overzealous and looking at cosmos because that way game wants you to sneak up behind him get up smash or down smash smash oh no just the raw F smash he tries tried it he tried it alright cuz you can catch catch people's initial - you can't block under this desk and initial dancers are way longer in this game so yeah it could've been an issue but unfortunately it was it was not yeah I don't know I was a punishment me you know up smash as I move that definitely demands a lot of respect I feel like for all they actually all the characters on their screens actually want enough this is like the team up smash match of doubles but yeah I feel like damn like you know even how he was space like there's no way he's gonna be the point it's just before smash and then my series I actually see stick homie my seats they could be moving right moving and grooving okay well I gotta you know I gotta say you know I expect this one to be a little bit closer I could certainly understand like why they are struggling you know game watch very very tricky character to get your hands on it by the time you actually get that right kill set up where you think you got gaming watch the corner you know console just comes there to cover them and cover you so next game potential final game - let's see how it all goes down yeah man so final game 3 cuz I yeah taught myself cop club - oh right now light and dark boys and I really bring this one back then one of these hands staying in this bracket but yeah there's teamwork between cosmos and Meister looking quite nice also you know you know compared to the fact that light was the end or light was the light and dark we post you know kod each other yes most certainly yeah man so Dark One's got that back here on a little later but yeah the house smash came out a little earlier from light and so you know that if that didn't happen it could have been a different game but that's just that's the power teams wait a minute up beam oh my god yeah well I think I think he might still be out yeah goodbye oh I haven't quite seen edgeguarding like this on a Mario and quite sometime tomorrow is a very difficult character to deal with off stage recovering and trying to outmaneuver him but god damn I mean they were just making dark was his life a living hell out there yeah I definitely would like try to do though he wanted to make sure he got past the elbe so he can go for the up Firefox and catch him in the fire but he's a little early on the draw and him getting hit by the FB I almost lost stuck off that as well that's right I'm kind of surprised that uh my surgeons didn't go for that down here Mike was really good oh nice gets running for anything again yeah false oh fuck to the green team they get so much awful like this short hop to you know I sure hot an air into something you know shower back or whatever the case may be I mean moving this seem like dark Lizzie gets some really strong compost rings like you know short hop near fire ball whatever but again up smash both players on the red team you got to respect it Oh goodbye oh wait a minute okay hold on the green team might be cooking with the right grease here oh okay Pietschmann hey got that Trump what's up piece me right there man get off of my legs yeah instead we voted you out that's right he said actually my homies got me so that's OD that's basically what he's saying yeah that's actually what he's actually saying but anyway posix oh yeah he's had to go for the Paris reanimation man out of a jump but very good right here lands on the platform purposely something rarely see here you know obviously when you see those platforms kind of taxi out they've claimed the lives of minion with that in mind you don't want to touch him but he's I gotta get my jump back homie look you gotta understand I don't want to do it Mario out here Oh Perry oh you can actually say that back all right cool I'm it just it just crashes into each other but oh you're not gonna touch that ledge though oh you know you'll go down smash metal edges rather twice no it's all good dark wizzy is I mean he's keeping my surat bay but I feel like he's not really you that keep mice in a bad position I think Meister plays pretty eye from the ledge so he's like I'm cool from being over here I'm honestly just wasting your time still finds the grabbed oh my suppressor role do they get the grab up smash and now a bit of a lead here for the Green Team actually I'm pretty solidly here for the Green Team make it this same little situation on - aw you got to be kidding me man I think they thinking it wait maybe that's what they talked about man between our lives I feel you need to use caifa more trust me oh wow okay was just tracking him down trying to read what he's gonna land along for that platform oh yeah trying to pass and maybe expecting to help smash but line up that back here perfectly huh should be a game here for the green team if they keep this one tight they play solid I'm saying but you definitely ought to you know take into consideration all the craziness that game watch brings and of course you know you can always find yourself getting 9 that's it will you definitely want to do with that okay what what the hell no way still livable how did that hit did you try to be or something I don't know jumping in neutral don't do that yeah please don't have oh okay I'm on state dark lose me you don't recover from now yeah you I'm gonna hang it up cuz you just having a bad day offstage there's the up smash right there finally with the point on the board there just look there tell our secrets in a five-minute class I think Shelly like me bro I think she kinda liked you too hey but she was talking to Jermaine during PE brah don't even know I'm just saying bro you ain't hear that from me bro well then who are here from Brown not me though I'm saying all right man I trust you bro if I hear about this bro I'm gonna be mad it's looking uh basically whispering they say hey oh can I even see him I guess I could look over to see him yeah I mean it's like they got like the Evo set up saying the Evo diamond so yeah you can definitely look over and see yo what's your ponies talking about I like the whisper to Amy you got some lunch money I must have left my stuff nah he's like a brain are no money for the clubs when we get to the front and the girls is up there bro you just cover me on some awesome real stuff every you gonna buy the bottle but I'm gonna carry it over here that's cool right oh god bro bro say less oh you my boy fist bump boom GG oh that's odd behavior yo wife why did he whisper that - hey brah don't you try to give you some tips but please don't talk directly into my face anymore thank you bro key you just actually put it on the Google Doc I'm actually ro just put it down here Dawg you tripping right now bro just relax that's funny all right all right all right we gotta get cement all right but listen all right Meister 89% here and at climbing but you know the great thing about this match here for him and the red team is that there are no I guess really for all four players out there are no platforms here now see I'm a firm believer in the Twitter chat she just changed I promise I was switching to flow up right here we go hey browser alright so lucky I'm saying that the thing I'm worried about here bro is that I feel like found estimation at times get my horse on see that feel like final destination at times can be looked at as a counter pick you feel me Terrence I use a regular cheese place where you're coming from final destination with no platforms leaves the opponent with not too many places to land and because of that it can cause a lot of people who have terrible landing options to be at a huge deficit on home the neutral game no or just it just an a huge deficit in their disadvantage game as well that's right in in a game like this you know is this all about how you give and take when it comes to being in the advantage right here right now what we're seeing here just right before our very eyes right here is strong gameplay stroller gameplay big life from the Green Team you have the green team definitely putting on edge as you can see man a lot of percentage here on to be called cosmos as inkling and of course there Mario but who will be losing that first doc I mean this is what you knew the King would like to call a tug of war type of deal yes Newton came to the legendary role by extraordinary himself obviously he has all the catchphrases in the world but I like this one even better TK and that one's called the nice back area oh yes the nice back I mean you never know when it's gonna come through but sometimes when it comes to it you just gotta call it what it is a nice back here okay here it is gets a nice nap as well but does actually get anything crazy off of that send me a percent to the 140 here on the Green Team what was I'm looking quite hurt but not out of it by any means absolutely not now see I'm not good at math man like I might think I am but you know with this in mind both players on the Greece we could certainly need some help right here anything to lower those numbers and just ease up low right there but just a little out of crazy a lot of ping-pong and of course a lot of confetti being traded across the stage here back and forth almost even game right here but dark wizzy holding on to that stock for dear life all right lazy somehow man becoming the true shark tank right here my boy has obviously taking a you know taking a page from the game World of Tanks if you will and he's like you know what I will oh never mind just as I said it already offer the stock doesn't mean that he's out by any means the pretty even game between our competitors I said for the red team started taking quite a bit of damage in comparison to the green team that's all right and again we got to talk about that that ink manageability there that inkling brings to the table you just cannot afford to run out of ammunition right here you working with a little bit of momentum but it's all about how nice you're gonna be when you finally find that final hit as you can see right here both players on the red team fire myself off stage I gotta tap into my inner peers hold on go find yourselves off stage here we go oh just wait okay I'm ready how about okay you you do the Pierce I'll do the DJ how about that is it always so like so like this OD like I think I feel like you know I'm saying like I'm here it is to match you up like yup yup that's a thing that's a thing yep that's definitely a thing tea day now as you can see we're getting into a nice back flow right there from the side that's the thing it's like you know I'm saying is actually OD like it's actually OD like how crispy is playing you know say cuz some people like the kick and I'm saying he likes to slice that's what I need oh the foot store that is are we going to gain 500 we might be going to Game five if he can't get the stock off of a dark wizzy yes yeah all improv aside right here man no jokes right here being told on this stage both of these guys are trying to pin point this man down but it's tough it's tough you know there's no oh my goodness yeah he can do it I just have to get the stock off wizzy and look at what you know he knows he's like this is what you're trying to do so I'm just gonna stand you can't get a crap either you cannot you're not his game watch getting watch these doors are definitely too slow so with you can just hold shield any time game watch is running out of take the grab you like it's cool huh oh nice Oh back to the ledge is gonna snap it again that down smash even if it doesn't connect the flight sometimes it's also used as like a bait in and I feel it at this point where the percents are really just kind of awkward live not high put threat like that percent where like they'll hit you off stage and not KO you but look this like throw you clear down to the magnifying glass regardless whatever the case may be right there yeah do the one-on-one if anyone knows that yeah if you get a grab like this point of this game and watch then whoever has the high percentage game watch does not have it like a kill ko throw until like 200% that's right so you're not really worried about him grabbing you you know because if he grabs you the other person is just gonna punish it that's right man all right what a turnaround that was right there I mean the first two games were just a complete slaughter but I you know II almost say he said but I seen him in the audience but dark wizzy and light I mean just really digging deep and is tying it back up and again whispering back into each other's ears hey bro here we go I got that gum for you Ava I'm good I don't need any more gum no no you need some peace is what I'm saying but I know you already got it please I need you to double up my do luck man if you don't want this gum I also got a couple minutes where you just don't feel like chilling like just do something yeah bro also sent a lifetime supply of Colgate and cress total back to your crib too so I mean I'm telling you bro invest invest into crass the baby okay cavity creep you got it as far as as far as alright they're getting right back into a man game Bob what's so crazy because the first two games look so well into Meister commas way huh and just like I you know Oh usually I bike don't we these one to tilt like he's definitely one to tell no first today he is well today in doubles he's definitely not tilting just just the high only the hat is tilted he's chilling though I like that man not grounded stuff and I think you know that type of mentality right there can really go the distance for him you know you just see it akley just run across stays with the roads are you Daggett listen was he after me who is he after I mean he's not going to get anybody a new tree just tossed it out yeah moving the minute you get buried I mean game a watched my sister's is there to clean up your slack and I love that Oh got the back here on time hold on that's right oh I like that you see notice he was like you know what I'm not gonna be able to do much all here as you're trying to recover so let me see if I get this to be one action going on it against Meister uh-huh oh nice using that flood right there to stop him and that back here coming I mean that backer comes out very quick obviously hits like a ton of bricks and again you know dark Lizzy so strong such a prominent player so proficient but off stage oh wait really been struggling here there's the school and the up smash yeah it's looking pretty bad here for the Green Team as you can see they're broke down to there to fourth well they have four thoughts all together not a crazy amount of damage here on to game and watch at the very least some decent damage here on the cosmos though and yet there it is that smash is gonna go ahead and take that stock so you can see yeah you can see my some kind of waiting out for comeback so we get on stage safely I like that very smart bright finds one finally Oh reflect that's yours on me alright oh whoa what the he might have still got hit by it so it keeps going like it doesn't stop so he might actually got hit like go went to the top it got carried off by it because a double reflect almost almost yell destruction like d1 I almost I almost did it okay my fault my fault wait ah nice and then the run oh my and I think I even forget to that you know the book it does reflect projectiles like that's actually kind of ridiculous yeah that's that's wild too because like yeah now if anyone reflects it back to you you actually get a better version of your upbeat or your uh your uh pair there's we reflected against that's right it's like how it should hit yeah oh good almost a goodbye oh down throw okay but Noah quiet in the right position follow look you know it is crazy to like this this stage I've always felt life our destination was a counter pick you know and I'll talk about why later on but obviously outside of the platforms this stage really just changes the entire meta all for care cuz it's double squash strike whatever the case may be in any case like that we throw a player in the air there's soul like they spend so much time off the ground like it's a mini game at that point yeah it's like dog like you know he's in there do something alright man well let me figure it out all right let me follow my taxes all right let me check the weather all right let's get it you know like you spent so much time in the air in this game okay hold on okay he would have got that up here I think it's down here might be the better choice but it's all good oh oh oh hi recovery off the legs covered is one of Chuck he's gonna try to hold this one out very smart not to up he wanted to do it for the legend jump first no get off me they're both out there we'll make it happen Oh didn't I don't think you needed to throw there I probably could have been a game just like that but into throwing them out the way it's all good my goodness dark with oh my goodness not having a great time as he's trying to make it back to stage somehow continues to make it back to stage all flat that was like a frame one point oh yeah I mean it was super fast too so it's kind of surprising that he was able to punish that so uh so easily so meister cosmos you know they got it to a game Fox Weston would definitely dominate that game five got to give it up to him \"],\n",
       " ['Glitch 8 SSBU - Mekos & Puppeh Vs. Cosmos & Maister - Smash Ultimate Tournament Losers Finals',\n",
       "  '2,276 views',\n",
       "  '56',\n",
       "  '1',\n",
       "  \"oh they fight an audience y'all better relax out there uncle rob don't like that keep your hands to yourself what y'all doing he likes me it's the never thought of it that way home definitely the feet bro my cosmos back ghost and puppy yeah here we are getting into our first game of losers finals now focus team you know them yeah then we got a nice little game plan going for both of them but I mean I guess it really depends on whose game plan is better who can adjust to it yes now I think that the biggest thing is yeah we need to focus on becos on the other side of things it's like we need to make sure that we can actually punish game a watch yeah I agree cuz I even know we're a little bit over 30 seconds in you know Meister only 25 percent 18 just shortly before that you know so obviously he knows how to outmaneuver the opponents but outmanoeuvred is up here homie got dang it just like that bringing this thing back into even footing that's the pup a special right there look don't get so caught up on the target a few different kind about the Ivysaur I was first that was actually perfect based on the F smash to notice that he didn't even hit he was getting jabbed at the ledge he ran up just to the point where the s smash is gonna hit Jess cosmos got the stock good stuff to him however it's not gonna be lost from puppy as well but and this is working out to the meckel's agenda you know he's the one that doesn't wanna lose the stocks puppet and loses main stock C 1 as long as Michaels got more than one I agree Oh razor leaf a nice oh wow you gotta watch how you get up versus Meissen you know you definitely eat it up smash for your troubles ok no half-stepping around him hold it down there ok there's anything off it but again another and they're good get off we attack the very strong option Ida's shield right there and of course a very strong combo starter if you synced up and doubles that type of way oh okay we out yeah actually that was very unfortunate for whatever happened to uh puppy there yeah look like you trying to recover its kind of guy hit by that uh that upbeat hole get back up homie oh okay Oh see I like that PK freeze right there I was actually kind of wondering why he wasn't electing to get close and kind of get into the battle with his teammate I think he understands Ivysaur so long no saying they got a respect so hot for time how I space this you know a bit of a bait to you getting something like that like if game watch like oh that's a PK freeze let me bucket that he done he's gonna get hit by August or now just standing there like what's up that's right they put their kind of synced up on the opposite sides of the stage I like that I was questioning it first but now I'm kind of I'm tapped in all right I'm speaking of thinking of it looking all right I have they're trying to get themselves back into this game as long as pop a can you know keep this stuff for quite so I just don't even need to keep stock it's really up to this mech owes being able to stop take and not take a crazy amount of damage on the currents all I know I'm one I don't even remember the game guy even saying anything he just came on like he just knew yeah nothing was set there rise all right stocks alright just get this guy's stock ah nice double back there can you get anything no nothing else oh I like that you know the fake little jump in probably trying to bait out down there you know obviously a lot of I don't want to say a lot of game watches but gamer watch times that type of move that can just you know you can kind of autopilot on it you know if you aren't careful you know that down there very very dangerous meckel's finally drawing some blood yeah I found that - attack there as he was trying to land on them onto the ground and oh I'm just gonna pan together they're very smart up from my said that he's gonna maybe try to mash buckets even get anything off that but uh huh flamethrower buck is probably not that nice nice back throw I want to see the blue team kind of combo into each other just be a little bit more I'm well aware of where each other are out sounded like the pika oh okay freeze god damn did he like safety by hitting him so he didn't go that far I mean I'm sure the match was probably nice too from my sister but that looked like it kind of slowed him down at least allowed him not to go too far off stage but after saying yeah I would like to see maybe down throw from that goes have no one's around him yeah yeah and I was definitely down to our situation oh that bucket right a respect that homie is coming that's like you sure he can get off of the characters things I he can bucket here in this game but you know a bucket is still a bucket regardless you know you've gotta respect it I mean if all your god yeah if he if he buckets the PK freeze like that's that's death it doesn't matter what else he gets okay it's the for dear another sister and this is like this the only issue with this team is that it puts a lot of pressure on puppy right like he has to me he has to make use of any stock of all of his toxins and on top of that he has to make use of the stolen stock that he gets from from Mecca great pretty much he's always in the front and if he's getting bodied in the front yeah meckel's is never gonna be like yo let me get front you know I'm saying that's not his style that's not what he wants to do right at the point of the team all right great so I mean it could be a little rough here just to be you know the person who has to play the front the entire time all right bacon gang take a little bit more than that to try to pinpoint puppy on that left side of stays in the core yeah yo whoa whoa the nicest thing I've ever seen in my life nah but that was very clean that was written maybe nothing nice but it's optech nicest nice parrys for sure look if he's happy to you I did that can't leave I'm on sponsor that's crazy my repairs OD cheese if you missed the parents I'll think he actually minded yeah if you miss appraised I think they were both dead wait a minute let me see yeah yeah they might have both died mr. Fairey because the the the the craziest thing about throws of this game is like whoever is not getting thrown but gets hit by the throw hitbox is always like super launched yeah they don't like really have a crazy one in smash 4 2 it was some ridiculous like that okay let's get it next game game number two strong something right there for Michael's in a puff a but actually I don't want to count out Meister & Kosmos by any means necessary man obviously just being able to close out that last game in a very dominant fashion no but in some of those matches earlier today you know there's a few areas where I feel like they could have capitalized a little bit better just in terms of team synergy let's see I was gonna go though ah birth do you gotta watch out man if that ledge what do we owe he had the private yet to prime it yeah I like it he only got a four though I like the fact that you know he had to wait it out see if he could prime it oh that's a low oh my god he just tosses our everything man yeah I like that you know he's a you know he's been dealing with meckel's pretty well the legend state which is actually strength because I'm thinking in this matchup it'd be like you know my star going off stage retarded like her ass with like uh pair ner back here every case maybe but he's actually just picking him down at the ledge forcing regrab attempts you know reading which way he's gonna roll into smash attacking them yeah let's assign us some precision right there out here bro uh-huh Oh back up dude chill oh okay good stuff it's another PK freeze for his troubles puppy I'm sure you got that stock off sooner than later so make us a puppy actually no the whatever that last match Meister Cosmo so I'm gonna put that joint up but yeah actually won oh my same cosmos they be trying to get themselves in the grand finals and potentially see eat MVP and II Sam huh what's good I feel like that might be the match that is a little harder for every day tease him to win but yeah see alright I certainly agree oh wow okay there's no certainty I was asking for min the four-day pilot to a possible backer but again another Perry man you know when you play these big characters okay I get it you know you know you want to use your great footwork you don't say your great neutral you don't seem to talk about some of these large hit by some of these large bodies but again a lot of those moves are very well telegraphed yeah I'm saying a lot of those approach office could be very linear at times man and Connells is wait for that I mean he just ran up and shielded was like yelled the minute you touch me you're dead so don't hold on hey Oh looking for another piece right there could not find it just get with man some echoes and uh that goes up up a you know a little a little behind yet again that's apart okay looking for the pique freezer at time to throw our good covers right there for my student get off my boy yeah actually that was a super huge save from puppy is like you want me to get this job out quickest option I got and now playing the front again hold on he's rolling and he's blinking that's not cool the scary thing about this too is that he keeps it throughout his stocks to man so he got that bucket it's time to turn it up man sometimes I want to see it yo sometimes I want to see like pup a actually challenge that lolis shoe oh okay well okay well it worked you know very spot look the bucket actually I mean it took out quite a bit right there so goodbye that's all right okay now you know better okay very I like this you know meckel's you know finally be able to showcase that great movement that he has you know Lucas kind of breeds that do that bucket was actually playing the game yeah okay hold up that goes oh you tried it get him set you got himself a spike here game watch it down which is really hard to do you know use a game watch like oh I'm just gonna I'm gonna be I'm out but yeah you know what you actually mad low I don't think you're gonna do it right now it's gonna take season that's right that's the one good thing out what oh my god what hold up a minute here yo all right that's the one descent even though I said you know make those doubles God or whatever like he knows how to do the two big ones as well like he just he's even powered up in the single part of doubles yes second just me it's cool I'm with the team Oh son now you know jumped into it yeah you know you doing more now you know that you just can't be short hot anything around me dawg are you crazy Wow a well then okay Meisner and Carlos well asked them actually wisconsin's I closed it out and that was my sister good stuff hi MA he's cooked he's got done he's done like what the hell what speaking a cook man looking like a Becca Zacks about to cook them for a second no that was a decent comeback he got it down to a once that game unfortunately Manning up against that uh you know ran up against that uh Nautilus type helmet what's up I'm out here bro sea diving deep sea man trey songz we're about to dive in it it was crazy I'm actually happy to see Mike I'm gonna set my becos you know on the main stage like this I feel like you know meckel's you know just like how people kind of perceive him sometimes like on socially beating and so on and so forth you know I'm sorry you know it's finally nice to see the legend actually play on a big stage I'm sure he plays obviously out here in this area a lot by fuller I want to see like that that run like I want to see this for him you know I don't want to see any more like memeing I want to see like yo Justin Makos unchanged I'm actually happy to see him feeling so well because notice behind representation Shane up that's also true yeah I mean like even though I got lived most of my like smash years and MVPA like I was from North Carolina front move here so like so like it's nice I always like to see the more under represented areas get their shine and you know Becca's definitely putting on from North Carolina right now or just the Carolinas in general here we go take your shirt off right spin around your head like I got it well okay hold on now Manny did you curse them what that way you hit up with the anthem and then he hasn't losing that stuff I'm a my bad with the PD Pablo Oh huh I've even realized we got to switch over to palutena now pal lieutenant we talked about a prescient session right here I mean it doesn't get much more impressive than this sometimes singles doubles fly sorry I don't care what the case is all right Paula Tina knows how to hurt you and you see how much practice pal Tina's been you know we always known puppy has as the pokemon trainer oh yeah you are you call gone yeah you're super did like Dragon Balls can't even wish you back like it oh yeah that was jab bucket so that's that's the biggest issue with with the bucket though even though yeah you can all have to trick him you know I'm saying who put the bucket out the way that he grabbed that bucket was so safe like he went oh he dropped off the ledge grab the the PK freeze from over the ledge that way didn't have to worry about puppy do anything like downhill you know or anything like that and then that just like that jab bucket what's up I did not even know that was a thing I'm sure that wasn't a maybe just maybe just caught him with the dish mix right okay rapid jab okay a little bit late on that dare you know the thing is sooo mad latina also is a good combo starter and a good combo finisher as well I mean sure yeah I mean we need to see a little bit more that you know I make of course he's probably taking the more reserved approach - it doesn't matter what type of approach he takes here at this point because we got the share spot okay there it is now tricky though easy come easy go yeah that was tricky I like the fact that yeah he was like you know what man I'm gonna let go this ledge you're gonna try to spike me I'm past you what's up hold up I'm just gonna empty the clip out man whatever he tried it you saw max try to get the uh yeah he's out throwing out the hammers oh come son now son not oh you know oh now you know that was that was alright attempt if he if he at the state a different way I think he might have been able to make that happen so dark plates for Meadows and puffs a still good showing right there but now we have our grand finals lined up it's gonna be meister and cosmos going up against a Sam and M B D yes this is going to be a battle for the ages right here man \"]]"
      ]
     },
     "execution_count": 32,
     "metadata": {},
     "output_type": "execute_result"
    }
   ],
   "source": [
    "all_vid_info"
   ]
  },
  {
   "cell_type": "code",
   "execution_count": 51,
   "metadata": {},
   "outputs": [],
   "source": [
    "def get_char_from_title(title: str):\n",
    "    \"\"\"\n",
    "        given the standard title of a VGBootcamp video, extracts only the characters, \n",
    "        which are located in the Parentheses\n",
    "        \n",
    "        @Params title as string in VGBootcamp format\n",
    "        @Returns list of characters\n",
    "    \"\"\"\n",
    "    \n",
    "    paren_re_exp = '\\((.*?)\\)'\n",
    "    chars = re.findall(paren_re_exp, test_title)\n",
    "    return chars\n",
    "\n",
    "def get_tourney_from_title(title: str):  \n",
    "    \"\"\"\n",
    "        given title in VGBootcamp format, returns the name of the tourney the video came from,\n",
    "        separated by the ' - '. NOTE: keeps the SSBM or SSBU categorizer\n",
    "        \n",
    "        @Params: title as str in VGBootcamp format\n",
    "        @Returns: String of the tourney name\n",
    "    \"\"\"\n",
    "    \n",
    "    return test_title.split(' - ')[0]\n",
    "\n",
    "def remove_vs(player: str):\n",
    "    \"\"\"\n",
    "        removes the vs from a player, given that vs is the first word in the player string\n",
    "    \"\"\"\n",
    "    return ' '.join(player.split()[1:])\n",
    "\n",
    "def get_players_from_player_details(player_details: str):\n",
    "    \"\"\"\n",
    "        given player details text, extracts only the players and returns them as a list\n",
    "    \"\"\"\n",
    "\n",
    "def get_players(title: str):\n",
    "    \"\"\"\n",
    "        Given VGBootcamp title format, returns only the player 1 and player 2 \n",
    "        as long as the char is denoted in parenthes and removes 'vs'\n",
    "        \n",
    "        @Params full VGbootcamp title as string\n",
    "        @returns list of players\n",
    "    \"\"\"\n",
    "    split_title = title.split(' - ')\n",
    "    \n",
    "    # for the singles formatting, when the title is split along '-', it should only have 2\n",
    "    singles = len(split_title)==2\n",
    "    tourney = split_title[0]\n",
    "    if singles:      \n",
    "        player_details = split_title[1]\n",
    "        game_details = split_title[-1]\n",
    "    \n",
    "#     player_infos = info.split(' vs. ')\n",
    "    #players info also contains the character \n",
    "    player_infos = info.split(')')[:2]\n",
    "    players = [player_info.split('(')[0] for player_info in player_infos]\n",
    "    players[1] = remove_vs(players[1])\n",
    "    players = [player.strip() for player in players]\n",
    "    return players\n",
    "\n",
    "def get_game_from_title(title: str):\n",
    "    return title.split(')')[-1].strip()"
   ]
  },
  {
   "cell_type": "code",
   "execution_count": 34,
   "metadata": {},
   "outputs": [
    {
     "ename": "IndexError",
     "evalue": "list index out of range",
     "output_type": "error",
     "traceback": [
      "\u001b[0;31m---------------------------------------------------------------------------\u001b[0m",
      "\u001b[0;31mIndexError\u001b[0m                                Traceback (most recent call last)",
      "\u001b[0;32m<ipython-input-34-c93256cac0d7>\u001b[0m in \u001b[0;36m<module>\u001b[0;34m\u001b[0m\n\u001b[0;32m----> 1\u001b[0;31m \u001b[0mplayers\u001b[0m \u001b[0;34m=\u001b[0m \u001b[0mget_players\u001b[0m\u001b[0;34m(\u001b[0m\u001b[0mtest_title\u001b[0m\u001b[0;34m)\u001b[0m\u001b[0;34m\u001b[0m\u001b[0;34m\u001b[0m\u001b[0m\n\u001b[0m\u001b[1;32m      2\u001b[0m \u001b[0mget_game_from_title\u001b[0m\u001b[0;34m(\u001b[0m\u001b[0mtest_title\u001b[0m\u001b[0;34m)\u001b[0m\u001b[0;34m\u001b[0m\u001b[0;34m\u001b[0m\u001b[0m\n",
      "\u001b[0;32m<ipython-input-33-4ae3b4e62ea1>\u001b[0m in \u001b[0;36mget_players\u001b[0;34m(title)\u001b[0m\n\u001b[1;32m     43\u001b[0m     \u001b[0mplayer_infos\u001b[0m \u001b[0;34m=\u001b[0m \u001b[0minfo\u001b[0m\u001b[0;34m.\u001b[0m\u001b[0msplit\u001b[0m\u001b[0;34m(\u001b[0m\u001b[0;34m')'\u001b[0m\u001b[0;34m)\u001b[0m\u001b[0;34m[\u001b[0m\u001b[0;34m:\u001b[0m\u001b[0;36m2\u001b[0m\u001b[0;34m]\u001b[0m\u001b[0;34m\u001b[0m\u001b[0;34m\u001b[0m\u001b[0m\n\u001b[1;32m     44\u001b[0m     \u001b[0mplayers\u001b[0m \u001b[0;34m=\u001b[0m \u001b[0;34m[\u001b[0m\u001b[0mplayer_info\u001b[0m\u001b[0;34m.\u001b[0m\u001b[0msplit\u001b[0m\u001b[0;34m(\u001b[0m\u001b[0;34m'('\u001b[0m\u001b[0;34m)\u001b[0m\u001b[0;34m[\u001b[0m\u001b[0;36m0\u001b[0m\u001b[0;34m]\u001b[0m \u001b[0;32mfor\u001b[0m \u001b[0mplayer_info\u001b[0m \u001b[0;32min\u001b[0m \u001b[0mplayer_infos\u001b[0m\u001b[0;34m]\u001b[0m\u001b[0;34m\u001b[0m\u001b[0;34m\u001b[0m\u001b[0m\n\u001b[0;32m---> 45\u001b[0;31m     \u001b[0mplayers\u001b[0m\u001b[0;34m[\u001b[0m\u001b[0;36m1\u001b[0m\u001b[0;34m]\u001b[0m \u001b[0;34m=\u001b[0m \u001b[0mremove_vs\u001b[0m\u001b[0;34m(\u001b[0m\u001b[0mplayers\u001b[0m\u001b[0;34m[\u001b[0m\u001b[0;36m1\u001b[0m\u001b[0;34m]\u001b[0m\u001b[0;34m)\u001b[0m\u001b[0;34m\u001b[0m\u001b[0;34m\u001b[0m\u001b[0m\n\u001b[0m\u001b[1;32m     46\u001b[0m     \u001b[0mplayers\u001b[0m \u001b[0;34m=\u001b[0m \u001b[0;34m[\u001b[0m\u001b[0mplayer\u001b[0m\u001b[0;34m.\u001b[0m\u001b[0mstrip\u001b[0m\u001b[0;34m(\u001b[0m\u001b[0;34m)\u001b[0m \u001b[0;32mfor\u001b[0m \u001b[0mplayer\u001b[0m \u001b[0;32min\u001b[0m \u001b[0mplayers\u001b[0m\u001b[0;34m]\u001b[0m\u001b[0;34m\u001b[0m\u001b[0;34m\u001b[0m\u001b[0m\n\u001b[1;32m     47\u001b[0m     \u001b[0;32mreturn\u001b[0m \u001b[0mplayers\u001b[0m\u001b[0;34m\u001b[0m\u001b[0;34m\u001b[0m\u001b[0m\n",
      "\u001b[0;31mIndexError\u001b[0m: list index out of range"
     ]
    }
   ],
   "source": [
    "players = get_players(test_title)\n",
    "get_game_from_title(test_title)"
   ]
  },
  {
   "cell_type": "code",
   "execution_count": 36,
   "metadata": {},
   "outputs": [
    {
     "data": {
      "text/plain": [
       "'glitch 8 ssbu - mekos & puppeh vs. esam & mvd - smash ultimate tournament winners finals'"
      ]
     },
     "execution_count": 36,
     "metadata": {},
     "output_type": "execute_result"
    }
   ],
   "source": [
    "test_title"
   ]
  },
  {
   "cell_type": "code",
   "execution_count": 35,
   "metadata": {},
   "outputs": [
    {
     "data": {
      "text/plain": [
       "'glitch 8 ssbu'"
      ]
     },
     "execution_count": 35,
     "metadata": {},
     "output_type": "execute_result"
    }
   ],
   "source": [
    "get_tourney_from_title(test_title)"
   ]
  },
  {
   "cell_type": "markdown",
   "metadata": {},
   "source": [
    "# Putting it all Together\n",
    "Run the script on all the playlist links and save it. "
   ]
  },
  {
   "cell_type": "code",
   "execution_count": null,
   "metadata": {},
   "outputs": [],
   "source": [
    "playlist_links[:5]"
   ]
  },
  {
   "cell_type": "code",
   "execution_count": null,
   "metadata": {},
   "outputs": [],
   "source": [
    "def get_all_vid_data_from_playlist(playlist: str):\n",
    "    \"\"\"\n",
    "        Given a string of the playlist url from VGBootcamp, \n",
    "        Retrieves all the info for each of those matches and returns them in 1 list\n",
    "        \n",
    "        The resulting data is structured with the following corresponding indeces:\n",
    "            [0] - Title\n",
    "            [1] - View Count\n",
    "            [2] - likes\n",
    "            [3] - dislikes\n",
    "            [4] - full text transcript\n",
    "        \n",
    "        @Returns a list containing lists of the video data for each as well as the title of that tourney\n",
    "    \"\"\"\n",
    "    \n",
    "    vid_urls = get_all_video_urls_from_playlist(playlist)\n",
    " \n",
    "    all_tourney_vid_data = []\n",
    "    for url in vid_urls:\n",
    "        url = get_yt_without_playlist(url)\n",
    "        vid_info = get_all_info_from_yt(url)\n",
    "\n",
    "        #if the get_info method ends up failing, it returns an empty array\n",
    "        if len(vid_info)!=0:\n",
    "            all_tourney_vid_data.append(vid_info)\n",
    "    tourney_name = get_tourney_from_title(all_tourney_vid_data[0][0])\n",
    "    return all_tourney_vid_data, tourney_name"
   ]
  },
  {
   "cell_type": "code",
   "execution_count": null,
   "metadata": {},
   "outputs": [],
   "source": [
    "# total vid data is dictionary with each key being the name of the tournament, and the value being the \n",
    "# data for each video in array format\n",
    "total_vid_data = {}\n",
    "\n",
    "for playlist in playlist_links:\n",
    "    tourney_data, tourney_name = get_all_vid_data_from_playlist(playlist)\n",
    "    total_vid_data[tourney_name] = tourney_data"
   ]
  },
  {
   "cell_type": "code",
   "execution_count": null,
   "metadata": {},
   "outputs": [],
   "source": [
    "total_vid_data"
   ]
  },
  {
   "cell_type": "code",
   "execution_count": null,
   "metadata": {},
   "outputs": [],
   "source": [
    "len(failed_urls)"
   ]
  },
  {
   "cell_type": "code",
   "execution_count": null,
   "metadata": {},
   "outputs": [],
   "source": [
    "total_vid_data.keys()"
   ]
  },
  {
   "cell_type": "code",
   "execution_count": null,
   "metadata": {},
   "outputs": [],
   "source": [
    "len(total_vid_data['play with heart ssbu'])"
   ]
  },
  {
   "cell_type": "code",
   "execution_count": null,
   "metadata": {},
   "outputs": [],
   "source": [
    "test_playlist = playlist_links[-1]\n",
    "test_playlist"
   ]
  },
  {
   "cell_type": "code",
   "execution_count": null,
   "metadata": {},
   "outputs": [],
   "source": [
    "get_all_vid_data_from_playlist(test_playlist)"
   ]
  },
  {
   "cell_type": "code",
   "execution_count": null,
   "metadata": {},
   "outputs": [],
   "source": [
    "test"
   ]
  },
  {
   "cell_type": "code",
   "execution_count": null,
   "metadata": {},
   "outputs": [],
   "source": [
    "pwh = total_vid_data['play with heart ssbu']"
   ]
  },
  {
   "cell_type": "code",
   "execution_count": null,
   "metadata": {},
   "outputs": [],
   "source": [
    "total_vid_data.keys()"
   ]
  },
  {
   "cell_type": "code",
   "execution_count": null,
   "metadata": {},
   "outputs": [],
   "source": []
  }
 ],
 "metadata": {
  "kernelspec": {
   "display_name": "Python 3",
   "language": "python",
   "name": "python3"
  },
  "language_info": {
   "codemirror_mode": {
    "name": "ipython",
    "version": 3
   },
   "file_extension": ".py",
   "mimetype": "text/x-python",
   "name": "python",
   "nbconvert_exporter": "python",
   "pygments_lexer": "ipython3",
   "version": "3.7.3"
  }
 },
 "nbformat": 4,
 "nbformat_minor": 2
}
