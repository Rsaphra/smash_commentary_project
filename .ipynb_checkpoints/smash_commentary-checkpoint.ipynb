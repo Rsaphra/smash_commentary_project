{
 "cells": [
  {
   "cell_type": "code",
   "execution_count": 1,
   "metadata": {},
   "outputs": [
    {
     "name": "stderr",
     "output_type": "stream",
     "text": [
      "[nltk_data] Downloading package punkt to /Users/dsaphra/nltk_data...\n",
      "[nltk_data]   Package punkt is already up-to-date!\n"
     ]
    },
    {
     "data": {
      "text/plain": [
       "True"
      ]
     },
     "execution_count": 1,
     "metadata": {},
     "output_type": "execute_result"
    }
   ],
   "source": [
    "import pandas as pd\n",
    "import numpy as np\n",
    "from youtube_transcript_api import YouTubeTranscriptApi as yttapi\n",
    "from selenium import webdriver\n",
    "from selenium.webdriver.support import expected_conditions as cond\n",
    "from selenium.webdriver.support.ui import WebDriverWait\n",
    "from selenium.webdriver.common.by import By\n",
    "import re\n",
    "import matplotlib.pyplot as plt\n",
    "%matplotlib inline\n",
    "import time \n",
    "import pickle\n",
    "\n",
    "\n",
    "import nltk\n",
    "nltk.download('punkt')"
   ]
  },
  {
   "cell_type": "code",
   "execution_count": 2,
   "metadata": {},
   "outputs": [],
   "source": [
    "test_script = yttapi.get_transcript('b82JR0k33Ho')"
   ]
  },
  {
   "cell_type": "code",
   "execution_count": 3,
   "metadata": {},
   "outputs": [],
   "source": [
    "def get_texts_from_transcript(text: list):\n",
    "    \"\"\"\n",
    "        The transcript returned by the transcript api is a list of dictionaries which contain irrelevant info \n",
    "        This method returns only the text of the entire transcript, returned as one concatonated string\n",
    "        \n",
    "        @Params: text as a list of dictionaries\n",
    "        @Returns: full text as a single string\n",
    "    \"\"\"\n",
    "    full_text = ''\n",
    "    for time_block in text:\n",
    "        # add whitespace at the end for concatonation later\n",
    "        text_block = time_block['text'] + ' '\n",
    "        full_text += text_block\n",
    "    return full_text"
   ]
  },
  {
   "cell_type": "code",
   "execution_count": 4,
   "metadata": {},
   "outputs": [
    {
     "data": {
      "text/plain": [
       "\"all right anyway next game is gonna be dark wizzy versus Marlow's my favorite teenagers yeah two good kids actually this season what's interesting is that Mars has the advantage they were both at big house and as you're gonna see in this head-to-head graphic displayed beautifully on this production number three versus number 31 so three times the rank but this tournament it doesn't necessarily matter because wizzy has the ability to eliminate mars but at big house wizzy of course DQ'd feeling personal reasons again not gonna hold it against them didn't suffer any penalties Mars got night shine it was v wizzy fourth Mars and it smash con it was 17th whizzie fourth bars but Evo was 65th wizzy and 13th Mars we're gonna go and I didn't jump into this game not dark blue zero so we got a red serious we won't have to pay attention that for the topographic I think that's for the that's for Breast Cancer Awareness Month which is October oh yeah this one yeah that is actually going back yeah that's what he said are you ever on Twitter bro come on do your job 54% on Dirk wizzy and what's interesting about this is that dark fizzy and Mars were actually projected to play earlier on in the tournament but Mars actually falling to larry lourve very early on what was that what saw bears no losing the Larry oh oh yeah did you see the set I never eat ours play like that that was god-awful but but I proud of Larry though okay no dude Larry played phenomenal don't get me wrong miss Mars brought it back you know he's here here the top please but when asked about resume what he would do take 300 him and he did just that through in a handshake so I think Mars is on a path of destruction this is clash of the pandas past the embarrassments again a guy who a panda literally no cap look ask Google ask Siri what I'm gonna look and then I will be embarrassed because I know your memeing was it sort of the biggie I to the DI a little questionable right turn around it's up smash I feel like I'm in round 2 again against Larry this is ridiculous stop lighting hate stop wasting a lot to prove though okay Lizzy's definitely playing next level for this tournament we can't even ignore me he'd be MVD he did beat Larry Laura's wall it's the deductr power of he got second at the last one this one he wants to turn that second jewel one potentially I mean come on like right now was just looking very impressive this season of course Mars I mean Mars is Martin baby super good Lizzie always comes the Thunder smash and shows up be surprised if he got picked up maybe sometime soon who knows yeah you never know I mean also having your banner in the stadium here is also just very nice feeling just being able to look around and see the buzz an epi deal on the banners from the last two thunders match events pretty hype owner Twizy refuses to parish up throw might do it know you're all annoying up throw but eventually he did take the KO right now Mars at a hundred and twenty three percent he's got to find a way back down to the ground he's boxed up in the corner and he uses down air and that's the Mars weirdness sort of the Mars factor that we see a bunch of his like that shouldn't have worked and yet oh we tape that trade for Mars wizzy though I know feeling a little upset but he'd even decided to contest that all right here we go - and just like that the momentum is just utterly shifted what was the story in the scent was dark was he just kind of running over Mars and Mars having trouble keeping pace now the opposite is happening is era Quincy is struggling to get this kale off of Mars who just consistently gets back off the ledge in the most creative ways possible I also feel like he just puts respect on his options his aggressive options that then I feel like it makes a lot of players just try to second-guess whether they really want to over extend in a way that they don't have to let's see if he's gonna get the first pick it's the up there of it nothing off it Mars playing with a little a little bit more confidence now he's like jumping into wizzy try to get these aerials the problem is if you're playing with Mario when you're that close to his hands you can't you grab was he able to get out of it though it gets a little bit of percent I like my spacing for Mars that's why you see not trying over fall on his shield we're gonna see a fourth Oh kids right back into the ledge avoiding that fair was he trying to go deep for that one yeah if the neutral air and Mars once again with the downer that should not be hitting so consistently but keeps getting away with it dark was you with the blue go upbeat not enough to KO though fireball flat out stage so great it does that beautiful big kick you have no reason to you actually have no reason to do that that's Marth babe we're talking to aggression man well sometimes when you want to go off safe like that paralyzer barely missing the mark 105 at 90 Mars here trying to close it out quickly so he doesn't have to deal with wizzy shenanigans now on stage please stop I do want to add that he is not in his default black Mario garb he's a true original yeah and 64 mario SNES well at sentient have clothes oh right I mean when were you born alright I'm actually disease lady net1 but no he usually plays a black color yes he does he does and this is the Breast Cancer Awareness Mario this no that's pink this is your you're not allowed to do that right now game to though town in cities Susan G Komen Mario here we go big Ford over there from Mars boxing the ledge you know I never noticed like you can't say it Mars but like when I look at in a certain way that I noticed today oh no the barre oh good and that was quite interesting because the camera looked a little wonky there it looked like he had fast fall and passed the stage and then had to flip pick to get back and just dark was he hadn't ran right into that to get grounded yeah both players are playing very clean the movement from both everything that they're doing the beer reversal is getting back to stage I really like her right now yeah well they're both so mobile like both these players are known for just sort of highlighting their character through all this danger and all these bad situations and they're so good at getting around it just very talented very evasive we saw it with dark Lindsey against MVD earlier but now Mars is cooking rare misstep though goes for the grab on a weird play gets punished a little bit but not too bad close for another down here I mean you were talking about that Kony you shouldn't be working as often as it does but whenever Maher starts to throw it out it sometimes works and undeniable ways yeah 20 percent neutral really quick each other's time lots of rows coming off on Mars here team rolling back to the legend will in the center stage unfortunately to get punished for that with an up smash yeah eventually I think the thing is Mars kind of shifts between these two styles one where he's just absolutely just always on you and then he just kind of backs up waits for you to come to him plays sort of like camps in your face a lot of people would say brush down camping yeah just two wolves living inside Mars it goes for the upbeat doesn't let okay two times three why not Mars is having a giggle - I don't know if you saw the K music I did that marvelous sir Mars definitely seems like one of the players that enjoys playing yes yeah in his high stress situations you see him crack smiles even when he's getting cheese that I really feel like it's just because the options that he decides you see very unorthodox so a lot of players that are usually just trying to look out for certain habits and I feel like it's difficult with Mars because you can't really predict well he's trying to go for a lot of times like the double LP that we saw coming in for him yeah of course they also the five empty hops and he just threw out in dark wizzy space well who is he just looked at him holding shield waiting for him to just do something first oh the last hit of the up smash getting here with that the other night Cody but yeah definitely active disjoints but now when to stocks and to one weight trend is happen it just keeps landing with these zeros I think he's trying to catch their cool is he jumping oh there we go finally catches him jumping and that's what Morris does he kind of like he pushes you to the edge over and over it keeps chasing you and then eventually he'll just like start backing up and you start chasing him and he just punishes you for holding forward they're moving so well to other spaces there too you don't want to overcome it right there inside just fell with our Twizy so that way you can extend and get extra percent such a prescient stuff 108 now big Wow 83 was he did the Morris jumps right into his face just waited to see what Mars are gonna do he didn't go for 5 ft up since I'm the only one for once held shield afterwards Oh owners really needs instead one boost kick but now Lizzy has sort of earned another shot here because if he does get that one throw combo or one up here he might be able to take this back if the tech in place tries to flood him off survive though this is doable yeah if he keeps like pushing Mars like boxing into the ledge it should be ok yes your suit definitely does great at the early-to-mid percents the later percents with less confers being available but the Rockhill power being on deck definitely not impossible but also right now Perris didn't get anything out of it into the grab jumped right into it managed to get back onto the stage the movement Mars doing that a lot to calling out their Twizy whenever he happens to just jump into him yeah you goddamn I love the foxtrot there I think he tried to Tek onto the ground and then he didn't fall as fast as he thought so he air dodge either way he was gonna get covered by that run-up good stuff by Mars getting the up smash very well done it's one one now high that goes honestly I'm just impressed with the way that both these players I've been moving and it's just the way that Mars at the very end there I feel like you just turned it up between him having fun at the very beginning till the very ends his movement I felt like just shifted and not only just a more aggressive way but patient way where he was literally waiting for dark wizzy to commit to something first before he felt confident enough to throw out the option that was actually gonna be able to beat that example very end there you saw how he went for the foxtrot on purpose to not just throw something that would could potentially be a read no instead he waited to see what was gonna happen in the moment he saw the window of opportunity he took advantage of that yeah there's definitely another flow right now both these players are showing and the movement the fluidity it's all working how and when it barely works out for whizzie I mean Mars was just there to take advantage again with this tight game I mean the set could honestly go either way take the jab not gonna Tek leave it'll land just fine oh is a pop right now yeah this is my trash Missa Bob you ever planned a stage here like I've never heard this song before in my life every day a good song with all the music that's in this game over 900 tracks is named $60 not all of the music Oh big SAP boom busca eat time quantity really okay Lizzie Lizzie's kind of surprised - he kind of reel back he's like wait what would have been a miss input on the DI but doubtful from someone as expert as wizzy right now though trying to fire back with some I bear commas with the platform resets both these players gaining so much advantage for the platforms yep not gonna I mean I'm not surprised that a Mario would pick this stage obviously you get the affairs into essentially that upbeat all the way at the top of the stage but Mars playing I threw it so adeptly all right here we go one up there yet but even scared to connect watch not downward facing forward smash I obviously look like Mars also was in the middle of trying to jump - oh he definitely jumped into that that was through the stage like yeah it was angled downwards but like definitely it doesn't leave Jones right here we go see if Dirk Boise can convert anything up this downer no and you can see he gives Martin so much respect like he hits it and he just ran to the other side of the stage grab a good dynamic matchup to watch I really enjoyed it when it was caused by some wizard it's also really interesting to see the way that Darko is he plays Mario since it's just not the type of gameplay that we're used to seeing from many Mario's I know prodigies out there playing you know getting results and playing really aggressive but I wouldn't say that Dirk was he's the only Mario that's been able to push the character as far as he has that was popular even Master Mario - I mean prodigy and was of course getting results but Master Mario was the one that beat dark wizzy the last time they met which is awkward he's waiting for the air dodge they're into the obsession didn't happen and Mario's again despite being a kill percent he would have died if he missed that grab but he still just throws it out why not I guess he figures he has a stock advantage so if you start to question Mars you're making your first mistake and I can shift up gameplay now for Mars you see used to actually slowing it down kind of doing what you were mentioning Konya came and literally in your face he's just baiting him with grabs no because remember he did the grab and then he started jabbing right after and was he's like re I'm I'm not gonna touch that that's gonna hurt Porter there Nick's app yeah wins he gets to use a little bit more discipline I think you can see like shades of it like when he's not going to grabs but no reason to be hit by some of these things good turnaround obsession finally getting that sock off 78% we are on battlefields we know that Mario can do some big stuff here this is the moment where the momentum definitely can shift into Izzy's favor but right now Mars is sitting with a very hefty lead you try to read that a tech roll out to hit that - tag this is the moment this is the shift I thought he was at least gonna be able to di into the state of tech it but that was not that was not allowed he won the game with an air dodge he felt through the platform air dodge through the attack and then got the grab like having the timing to do that and not just shielding on the platform is just expert level execution awesome stuff too dark wizzy just kind of stealing that game away from Mars that was super good rushing rows superhero name I mean imagine having a name with two letters they're the same first and last name that's crazy Stephen souls and sexy town and city again next town and city lots of platforms here so you're gonna see a lot of the same thing that we saw before this matchup is so dynamic it's so fun to watch very polished players making use of all of their ridiculous up tilton right now he's got the 75% on wizzy 87 now obviously trying to get back and Mars is probably not happy about that last one absolute I mean if he was winning the whole thing I feel like the momentum shift and dark was he actually trying to cope again by the ledge try to go for that falling fare Mars not having it jumping right over that getting back onto the stage I mean we know that mr. Rose has the powerup of doing well at these Thunder events but this is a clash of the pandas and Mars is just that so we're gonna see is going to be able to utilize that momentum or you're just gonna fade away from them I think Mars is trying to ice them out a little bit here play a little bit more evasive gets in with the whole whip not enough to KO though 131 what's the play another one great paddle so good on the rolls so good on the get up anything that happens it's just a disjoint in your face that has three separate head boxes so awesome play by bars total down there and he got away with it finally you got hit what is a save option twice just as a fact jacket if it doesn't work the second time that's one thing move on to the next move oh okay well hold on cuz there's a sub developments going on right now and bars is starting to run away they're out of here we're actually like a minute and a half in and the game is almost over this this is mad fast they're playing like with happy notes in between each like everything they're doing is one step ahead but also preparing for the next one it's so interesting to sleep of these players develop their style yeah like an arpeggio you know okay Adagio great DeSimone fortissimo okay we can speak Italian anyways back to the battery it's Mario bro it's true that's actual n64 palette version throw odors out here stop doing that it's giving away you don't need salt to himself I'm too far up man who's gonna react I love there it's a back arrow are it's so good on zero suit try relax oh yeah you tried to back your Trump I love that sound whoo it's the sound of a shell turtle there you go four there no no - Louis by the up here now 99 to 138 could be the moment where wizzy takes that Lisa stock down air shield poking right there all right there we go Mars is fishing I don't think was he wants to get caught and he holds down to get the upward Titan from that up yeah that diner takes it that move is so weirdly powerful yeah especially at like the top public catches you all the way at the top and the first thing that was he noticed when this game came out I mean it was good at the last game - it was just harder to hit at least like up there you know you needed like some rage but yeah the knock back though is what catches a lot of people off-guard Oh God was he a so dangerous playing in a lot of situations you would see this you'd be like alright Mars wrap it up but busy it's so dangerous especially at the ledge yeah that's why you saw mark over that spot dodge you cannot afford to take any more % otherwise the mental the mental games are tickets so here we're going hi oh no it's not no it's not no it's not he's fine daddy icons back 98 to 151 now Mars is back Darla's he throws pop stage 190 blast me through I think dark was he just has rage in real life 157 no he's he's coming back tried his happening he wants it so bad he needs to get away from the ledge Mars Needs the whole Center the warm that he's just kind of sitting around the ledge is just it's so dangerous gets the update is going Game five game 5 situation really Mars the dark wizard Rose Tyler Barnes this is the moment this is the moment where it's all made the sigh of relief - I mean that was a situation I feel like whenever dark woods he's on his last stalk some sort of power comes through that just is we cannot see and it's extra scary I mean I'd matter if you could play like that all three stalks that's true but now it's the fifth game so is that going to come into effect or did he just spend all his cash of the bank we'll see I mean it seemed like he was still in good spirits if you saw the end of that game at the can we saw the reaction from artists and he was just like I got you and it felt like was he was like yeah you caught me jumping just kind of that's what Moria does he's jumping in right so Marta's just kind of getting under him getting the up air and getting game five where I'm ps2 ps2 make the best games so I'm really excited to see this one here Oh a mediately with an air into up smash Mars game 37% on the board over throw into a tech change got an air instead like a patient from dark Boise - he's also just slowed down his gameplay in general I know we're watching of them throw out smash attacks twice in a row last game but if you see right now you see he's honest he's just trying to space out back here and if he doesn't get it he either walks away and that's another thing dirt boys he walks a lot as a player no and I feel like walking is very underrated it wasn't a read in this match for an I think he's also under reading all this game but as I said that jumped right into the paralyzer dashed right under him to get the opposite side of the up be taking that stock a little bit earlier he would have done down the original side he would not have killed him now went away to 6% 1527 Mars he's starting to rack it up here in this game 5 and actually the head on to that walking is also a great thing to do them realize it's an excellent way to burn calories and it's fun to get off the couch especially after eating that delicious Pizza Hut pizza which I'm sure you guys bought for $7.99 for a 3 topping carryout deal one night linnaeus 119 on Mars why don't you play that's an immaculate blessing that comes into a pool it's a play there's a real more yes in New England if you are 119 if you're part of the state you get blessed and the next hit will not kill you see right there yeah you didn't down the fourth row but not from New England and your hit at 119 it's 118 cursed in the will next it will kill you so I think the cons outweigh the pros of moving is a very expensive problem we have some chowder it requires a lot of coordination that just to another stat region mad cold wait Vicki I forgot you're from Florida so you think New England is a state transit with Mars about the three star at our Quincy here all right Rollo's god it's not gonna be a three stock release in stock here at least in the next one 150 coming back to stage regime takes it with a dash attack and flood that has actually dashed through now we're sitting at 105 the two stops also really surprised to find out that Mars doesn't doesn't speak with an English accent oh very very impressed but New England not the holding he probably spent a lot of time here 110 watch the UH ferries he's just got it he's gotta get down from over a dark wizzy but I feel like despite everything that we've seen this set despite seeing dark Lizzie's gumption is bigger oh wait a minute got him right out of the typical say that literally in the middle of the I got the past literally in the middle of my sentence was he might have earned another chance here we saw this happen in the last match well he needs a little bit more this cannot be it this would break Mars right now 131 it's 150 what no the DI didn't make it okay the whole venue can hear you applause from the crowd though give it up for dark wizzy exiting with a respectable placement here at thunder Spanish 3 Mars advancing clash of the Panda special \""
      ]
     },
     "execution_count": 4,
     "metadata": {},
     "output_type": "execute_result"
    }
   ],
   "source": [
    "get_texts_from_transcript(test_script)"
   ]
  },
  {
   "cell_type": "code",
   "execution_count": 5,
   "metadata": {},
   "outputs": [],
   "source": [
    "driver = webdriver.Chrome('/Users/dsaphra/Downloads/chromedriver')"
   ]
  },
  {
   "cell_type": "code",
   "execution_count": 6,
   "metadata": {},
   "outputs": [],
   "source": [
    "# driver.get('https://www.youtube.com/watch?index=2&t=0s&v=rjXcqJQGPXc&list=PLcMdMmtHkPpSa30s-FIWt4QdlGIgavbR_')\n",
    "# items_block = driver.find_element_by_id('items')\n",
    "\n",
    "# container = driver.find_element_by_id('container')\n",
    "# title = container.find_elements_by_class_name('title style-scope ytd-video-primary-info-renderer')"
   ]
  },
  {
   "cell_type": "code",
   "execution_count": 7,
   "metadata": {},
   "outputs": [],
   "source": [
    "\n",
    "\n",
    "\n",
    "# for vid in playlist:\n",
    "#     print(vid.text)\n",
    "\n",
    "# # ----------------------------------------------------------------------------------------------------\n",
    "\n",
    "# driver.get('https://www.youtube.com/user/VideoGameBootCamp/playlists?view=50&flow=grid&shelf_id=48')\n",
    "# items_block = driver.find_element_by_id('items')\n",
    "# playlist = items_block.find_elements_by_id('thumbnail')\n",
    "\n",
    "# for play in playlist:\n",
    "#     print(play.get_attribute('href'))"
   ]
  },
  {
   "cell_type": "code",
   "execution_count": 8,
   "metadata": {},
   "outputs": [],
   "source": [
    "\n",
    "# This is a global variable that will contain a list of all the urls that couldn't have info retrieved from them.\n",
    "failed_urls = []"
   ]
  },
  {
   "cell_type": "code",
   "execution_count": 9,
   "metadata": {},
   "outputs": [],
   "source": [
    "# driver.get('https://www.youtube.com/watch?v=d7RYtC1XsrQ')\n",
    "# title = driver.find_element_by_class_name('title')\n",
    "\n",
    "# info = driver.find_element_by_id('info-text')\n",
    "\n",
    "# view_count = info.find_element_by_id('count')"
   ]
  },
  {
   "cell_type": "code",
   "execution_count": 10,
   "metadata": {},
   "outputs": [],
   "source": [
    "# menu = driver.find_element_by_id('menu')\n",
    "\n",
    "# buttons = menu.find_elements_by_id('button')\n",
    "\n",
    "# like_buttons = driver.find_elements_by_class_name('yt-simple-endpoint')[:2]\n",
    "\n",
    "# like_buttons[0]"
   ]
  },
  {
   "cell_type": "code",
   "execution_count": 11,
   "metadata": {},
   "outputs": [],
   "source": [
    "vgbootcamp_playlists = 'https://www.youtube.com/user/VideoGameBootCamp/playlists?view=50&flow=grid&shelf_id=48'\n",
    "\n",
    "driver.get(vgbootcamp_playlists)"
   ]
  },
  {
   "cell_type": "markdown",
   "metadata": {},
   "source": [
    "# Getting Playlist Urls from YT List"
   ]
  },
  {
   "cell_type": "code",
   "execution_count": 12,
   "metadata": {},
   "outputs": [],
   "source": [
    "def convert_yt_endpoints_to_urls_lc(blocks):\n",
    "    \"\"\"\n",
    "        identical function to 'convert_yt_endpoints_to urls', but using list comprehension/\n",
    "    \"\"\"\n",
    "    \n",
    "    links = [block.find_element_by_class_name('yt-simple-endpoint').get_attribute('href') for block in blocks]\n",
    "    return links\n",
    "\n",
    "def convert_yt_endpoints_to_urls(blocks):\n",
    "    links = []\n",
    "    for block in blocks:\n",
    "        end = block.find_element_by_class_name('yt-simple-endpoint')\n",
    "        links.append(end.get_attribute('href'))\n",
    "#         print('i')\n",
    "    return links\n",
    "\n",
    "\n",
    "def get_all_yt_links_from_thumbnails(playlist_page):\n",
    "    \"\"\"\n",
    "        Given the selenium driver to a playlist from youtube, use the thumbnail id on the page to\n",
    "        get all the hrefs for all the videos contained in the playlist\n",
    "        \n",
    "        @Params the playlist page as a selenium driver\n",
    "        @returns: list of all youtube video urls as strings\n",
    "    \"\"\"\n",
    "    \n",
    "    thumbnails = playlist_page.find_elements_by_id('thumbnail')\n",
    "    \n",
    "    all_links = []\n",
    "    for thumbnail in thumbnails:\n",
    "#         img = thumbnail.find_element_by_class_name('')\n",
    "        all_links.append(thumbnail.get_attribute('href'))\n",
    "    return all_links\n",
    "\n",
    "def get_all_playlist_urls(playlist_page):\n",
    "    \"\"\"\n",
    "        given a Youtube page containing a bunch of playlists,\n",
    "        isolate the url links to each of those playlists and return it as a list\n",
    "    \"\"\"\n",
    "    view_mores = playlist_page.find_elements_by_id('view-more')\n",
    "        \n",
    "    links = convert_yt_endpoints_to_urls(view_mores)\n",
    "    return links"
   ]
  },
  {
   "cell_type": "code",
   "execution_count": 13,
   "metadata": {},
   "outputs": [],
   "source": [
    "playlist_links = get_all_playlist_urls(driver)"
   ]
  },
  {
   "cell_type": "code",
   "execution_count": 14,
   "metadata": {},
   "outputs": [],
   "source": [
    "test_playlist = playlist_links[-6]"
   ]
  },
  {
   "cell_type": "code",
   "execution_count": null,
   "metadata": {},
   "outputs": [],
   "source": []
  },
  {
   "cell_type": "code",
   "execution_count": 15,
   "metadata": {},
   "outputs": [],
   "source": [
    "driver.get(test_playlist)"
   ]
  },
  {
   "cell_type": "code",
   "execution_count": 16,
   "metadata": {},
   "outputs": [],
   "source": [
    "contents = driver.find_elements_by_id('content')"
   ]
  },
  {
   "cell_type": "code",
   "execution_count": 17,
   "metadata": {},
   "outputs": [],
   "source": [
    "# video_urls_from_playlist = get_all_yt_links_from_thumbnails(driver)\n",
    "# video_urls_from_playlist"
   ]
  },
  {
   "cell_type": "code",
   "execution_count": 18,
   "metadata": {},
   "outputs": [
    {
     "data": {
      "text/plain": [
       "['https://www.youtube.com/watch?v=eUyDHVgx7hU&list=PLcMdMmtHkPpQgrD5q4kHxmuqshRQ4ACcJ&index=2&t=0s',\n",
       " 'https://www.youtube.com/watch?v=uTU6X_axt6w&list=PLcMdMmtHkPpQgrD5q4kHxmuqshRQ4ACcJ&index=3&t=0s',\n",
       " 'https://www.youtube.com/watch?v=ky_kX8vlGZc&list=PLcMdMmtHkPpQgrD5q4kHxmuqshRQ4ACcJ&index=4&t=0s',\n",
       " 'https://www.youtube.com/watch?v=5mRzn2HrlVw&list=PLcMdMmtHkPpQgrD5q4kHxmuqshRQ4ACcJ&index=5&t=0s',\n",
       " 'https://www.youtube.com/watch?v=K7pVEamfuC4&list=PLcMdMmtHkPpQgrD5q4kHxmuqshRQ4ACcJ&index=6&t=0s']"
      ]
     },
     "execution_count": 18,
     "metadata": {},
     "output_type": "execute_result"
    }
   ],
   "source": [
    "#the first one was always none, so we just excise the index 0\n",
    "video_urls_from_playlist = convert_yt_endpoints_to_urls(contents)[1:]\n",
    "video_urls_from_playlist[:5]"
   ]
  },
  {
   "cell_type": "code",
   "execution_count": 19,
   "metadata": {},
   "outputs": [],
   "source": [
    "def get_yt_without_playlist(yt_url: str):\n",
    "    \"\"\"\n",
    "        given a yt video link that has the playlist embedded, extract only the base part of the url,\n",
    "        so that the link refers to the video sans playlist. Does so by splitting at the first '&'\n",
    "        \n",
    "        @Params: the youtube url as a string\n",
    "        @Returns: the substring of the url\n",
    "    \"\"\"\n",
    "    split_url = yt_url.split('&')\n",
    "    return split_url[0]\n",
    "\n",
    "def format_all_videos(yt_list: list):\n",
    "    \"\"\"\n",
    "        given a list of yt links, formats each url by truncated the url and removing the embedded playlist\n",
    "        \n",
    "        @params: list of youtube video urls\n",
    "        @returns: list of yt video urls, each without the extraneous part that embeds the playlist\n",
    "    \"\"\"\n",
    "    formatted_videos = [get_yt_without_playlist(yt_vid) for yt_vid in yt_list]\n",
    "    return formatted_videos"
   ]
  },
  {
   "cell_type": "code",
   "execution_count": 20,
   "metadata": {},
   "outputs": [
    {
     "data": {
      "text/plain": [
       "'https://www.youtube.com/watch?v=K7pVEamfuC4'"
      ]
     },
     "execution_count": 20,
     "metadata": {},
     "output_type": "execute_result"
    }
   ],
   "source": [
    "video_urls = format_all_videos(video_urls_from_playlist)\n",
    "test_video = video_urls[4]\n",
    "test_video"
   ]
  },
  {
   "cell_type": "code",
   "execution_count": 21,
   "metadata": {},
   "outputs": [
    {
     "data": {
      "text/plain": [
       "['https://www.youtube.com/watch?v=eUyDHVgx7hU',\n",
       " 'https://www.youtube.com/watch?v=uTU6X_axt6w',\n",
       " 'https://www.youtube.com/watch?v=ky_kX8vlGZc',\n",
       " 'https://www.youtube.com/watch?v=5mRzn2HrlVw',\n",
       " 'https://www.youtube.com/watch?v=K7pVEamfuC4']"
      ]
     },
     "execution_count": 21,
     "metadata": {},
     "output_type": "execute_result"
    }
   ],
   "source": [
    "video_urls[:5]"
   ]
  },
  {
   "cell_type": "code",
   "execution_count": 22,
   "metadata": {},
   "outputs": [],
   "source": [
    "def get_all_video_urls_from_playlist(playlist_url: str):\n",
    "    \"\"\"\n",
    "        given the url of a playlist, returns a list of all the urls for all the videos containing within\n",
    "        that playlist\n",
    "        \n",
    "        @params the playlist url as a string\n",
    "        @returns a list of strings of the youtube videos in that playlist\n",
    "    \"\"\"\n",
    "    time.sleep(.5)\n",
    "    driver.get(playlist_url)\n",
    "    contents = driver.find_elements_by_id('content')\n",
    "    \n",
    "    #the first one was always none, so we just excise the index 0\n",
    "    video_urls_from_playlist = convert_yt_endpoints_to_urls(contents)[1:]\n",
    "    return video_urls_from_playlist"
   ]
  },
  {
   "cell_type": "code",
   "execution_count": 23,
   "metadata": {},
   "outputs": [],
   "source": [
    "def get_youtube_id_from_url(url: str):\n",
    "    \"\"\"\n",
    "        given a youtube url from a playlist, isolate the unique id that can be used to get \n",
    "        the transcript from the youtubetranscrpt api\n",
    "        \n",
    "        @params the url as a string\n",
    "        @returns the substring of url that is the unique id\n",
    "    \"\"\"\n",
    "    \n",
    "    split_url = url.split('=')\n",
    "    return split_url[-1]\n",
    "    "
   ]
  },
  {
   "cell_type": "code",
   "execution_count": 24,
   "metadata": {},
   "outputs": [],
   "source": [
    "# def rand_time():\n",
    "#     \"\"\"\n",
    "#         generates a random float between the range of 2 and 4 to be as the time in the .sleep() function\n",
    "#         when scraping\n",
    "        \n",
    "#         @returns: random float btwn 2 and 4\n",
    "#     \"\"\"\n",
    "#     return np.random.uniform(3,5)\n",
    "\n",
    "# rand_time()"
   ]
  },
  {
   "cell_type": "markdown",
   "metadata": {},
   "source": [
    "### Methods used for debugging"
   ]
  },
  {
   "cell_type": "code",
   "execution_count": 25,
   "metadata": {},
   "outputs": [],
   "source": [
    "def display_all_children(webelement):\n",
    "    all_children_by_css = webelement.find_elements_by_css_selector(\"*\") \n",
    "    for child in all_children_by_css:\n",
    "        print(child.text)\n",
    "        \n",
    "def display_page_source(driver):\n",
    "    print(driver.page_source)\n",
    "\n",
    "def get_info_from_yt_no_except(yt_url):\n",
    "    \"\"\"\n",
    "        identical to get info from yt method, but does not have the try-except block. Meant to show where errors\n",
    "        are happening.\n",
    "        \n",
    "        @params: the url for the youtube video\n",
    "        @returns: all data encapsulated in a list\n",
    "    \"\"\"\n",
    "    \n",
    "    #sleep so that we don't get timed out\n",
    "    time.sleep(np.random.uniform(3,5))\n",
    "    driver.get(yt_url)\n",
    "    # We do an explicit wait until the element of the title is retrievable\n",
    "    title_xpath = '//*[@id=\"container\"]/h1'\n",
    "    WebDriverWait(driver, 10).until(cond.presence_of_element_located((By.XPATH, title_xpath)))\n",
    "    title = driver.find_element_by_class_name('title').text\n",
    "    \n",
    "    #if the title is an empty string, we can't get meaningful data, treat as error\n",
    "    if title == '':\n",
    "        failed_urls.append(yt_url)\n",
    "        print('No Title')\n",
    "        return []\n",
    "\n",
    "    view_count = driver.find_element_by_class_name('view-count').text\n",
    "\n",
    "    #getting the likes and dislikes\n",
    "    buttons = driver.find_element_by_id('top-level-buttons')\n",
    "    button_texts = buttons.find_elements_by_id('text')\n",
    "    likes = button_texts[0].text\n",
    "    dislikes = button_texts[1].text\n",
    "\n",
    "    #getting the transcript for the yt video from closed captioning\n",
    "    yt_id = get_youtube_id_from_url(yt_url)\n",
    "    vid_cc = yttapi.get_transcript(yt_id)\n",
    "    vid_script = get_texts_from_transcript(vid_cc)\n",
    "\n",
    "    return [title, view_count, likes, dislikes, vid_script]"
   ]
  },
  {
   "cell_type": "markdown",
   "metadata": {},
   "source": [
    "# Getting Data from Youtube Webpage"
   ]
  },
  {
   "cell_type": "code",
   "execution_count": 34,
   "metadata": {},
   "outputs": [],
   "source": [
    "\n",
    "def get_likes_dislikes(driver):\n",
    "    \"\"\"\n",
    "        get number of likes/dislikes from yt video\n",
    "        \n",
    "        @params webpage as a webdriver object of selenium\n",
    "        @returns a length 2 list, where first element is likes, and second is dislikes as ints\n",
    "    \"\"\"\n",
    "    buttons = driver.find_element_by_id('top-level-buttons')\n",
    "    button_texts = buttons.find_elements_by_id('text')\n",
    "    like_dislikes = [int(block.text) for block in button_texts[:2]]\n",
    "    return like_dislikes\n",
    "    \n",
    "def display_all_texts(ele_list):\n",
    "    \"\"\"\n",
    "        given a list of webelement objects, iterates through that list and displays the .text for each element\n",
    "    \"\"\"\n",
    "    for ele in ele_list:\n",
    "        print(ele.text)\n",
    "\n",
    "        \n",
    "def get_all_info_from_yt(yt_url):\n",
    "    \"\"\"\n",
    "        given the exact youtube page, save and store all the necessary data that we want to glean from it. \n",
    "        current data being extracted:\n",
    "            -Title\n",
    "            -view count\n",
    "            -Date\n",
    "            -yt transcript\n",
    "            -likes\n",
    "            -dislikes\n",
    "            \n",
    "        \n",
    "        @params: the url for the youtube video\n",
    "        @returns: all data encapsulated in a list\n",
    "    \"\"\"\n",
    "    try:\n",
    "        #sleep so that we don't get timed out\n",
    "        time.sleep(np.random.uniform(3,5))\n",
    "        driver.get(yt_url)\n",
    "        # We do an explicit wait until the element of the title is retrievable\n",
    "        title_xpath = '//*[@id=\"container\"]/h1'\n",
    "        WebDriverWait(driver, 10).until(cond.presence_of_element_located((By.XPATH, title_xpath)))\n",
    "        title = driver.find_element_by_class_name('title').text\n",
    "\n",
    "#         print(title_box.get_attribute('innerHTML'))\n",
    "        \n",
    "#         title = title_box.text\n",
    "        #if the title is an empty string, we can't get meaningful data, treat as error\n",
    "        if title == '':\n",
    "            failed_urls.append(yt_url)\n",
    "            return []\n",
    "        \n",
    "        view_count = driver.find_element_by_class_name('view-count').text\n",
    "\n",
    "        #getting the likes and dislikes\n",
    "        buttons = driver.find_element_by_id('top-level-buttons')\n",
    "        button_texts = buttons.find_elements_by_id('text')\n",
    "        likes = button_texts[0].text\n",
    "        dislikes = button_texts[1].text\n",
    "\n",
    "        #getting the transcript for the yt video from closed captioning\n",
    "        yt_id = get_youtube_id_from_url(yt_url)\n",
    "        vid_cc = yttapi.get_transcript(yt_id)\n",
    "        vid_script = get_texts_from_transcript(vid_cc)\n",
    "\n",
    "        return [title, view_count, likes, dislikes, vid_script]\n",
    "    except:\n",
    "#         print(f\"couldn't get info for: {yt_url}\")\n",
    "        failed_urls.append(yt_url)\n",
    "        return []"
   ]
  },
  {
   "cell_type": "code",
   "execution_count": 35,
   "metadata": {},
   "outputs": [
    {
     "data": {
      "text/plain": [
       "['SSC 2019 SSBM - GodTouch (Fox) VS ESKI Davemon (Captain Falcon) Smash Melee Round 1 Pools',\n",
       " '2,788 views',\n",
       " '17',\n",
       " '4',\n",
       " \"yeah box and Falcon and we're starting on F G it looks like we're going right into it yeah yeah getting my cool that's not like the semen I don't need to maybe we needed a blood check maybe we needed a butt check here I mean you know you know if someone's playing on a box that they're familiar with the game there's a reason why why they they bought this expensive equipment to play on and gave Mon showing that he's clearly at least a little bit familiar with the game already we'll see what God touch can do try to bring this back okay [Music] another phone another Falcon situational help before like you know we're still around one right I see something interesting here and he's on the smash box right like obviously cheating that's not fair but you know it is what it is a lot of other rules oh yeah nicely done yeah I mean as I described with Falco overs Falcon it's kind of the same deal here we're clearly Fox has the advantage in the neutral but if Falcon can make a lot off the openings he gets then it's it looks a lot closer to even at that point yeah this rock is definitely getting some good opening yeah okay and capitalizing quick that's what you want to see from Falcon a little s2j over here see you yeah s2j on the box oh we threw at the future is now alright yeah got shot again I realized why he tried to go for the high recovery but it's all good yeah it goes for the upper air there I think I would have preferred the back here just knock him back off stage yet another edge guard setup you know that uh pair is not gonna kill against Falcon so like last pixel yeah uh I've active frame of the video okay barely gets that killed off the top God touch got a lot of work to do he's gonna need the God touch right now most definitely okay oh this ledge - Damon like man that you wouldn't you wouldn't miss that on the box do you ever you're considered one of these paths it would box the box those off okay of it it bought some sweetie minute you're like it yeah like the little would cut finish okay yeah found the classic counter pick against Falcons because the platforms definitely make it difficult for Falcon sometimes but I think Falcons get taken to the stage so often these days that they're pretty good at it for the most part if you're a falcon main chances are you're pretty comfortable with fountain at this point cuz you're always getting kind of a feel that like you got you got to learn at some point right but a great first stock from God touch oh really like that follow up off the traded up smash down here mr. back here as well let's see what it get off it all right I mean it's Lightman's way back on stage I like it yeah yeah God touch leaving the edge open they're generally versus Falcon if you get on the edge it really limits his options if he's not that close to the stage but God touch has been kind of leaving it open but that time he gets that shine nicely done so you mean even with him you know coming here and obviously I'm having a deal with the counter pick I mean it's literally working out for God touch right now so you know as these either this time around right yeah that helps a lot okay up throw up smash no Tech chase there but still got the pressure going thank you for back there and let's see a nice angle to get the edge Oh Dave mom ready for that nicely done honey mother better axe that tech it's possible yeah but that was still good stuff it look like he was he was doing that regardless but yeah yeah could have been a quick reaction is okay Oh mice outdoorsy out here regardless oh and the UPS man is gonna kill off the side so yeah this counterpick working out it's super nicely for God's out so far but still gotta be careful Falcon honestly one of the scariest characters like momentum base wise game because if he gets stuff like this going imagine he gets a grab on this next stock it's a couple tech chases all of a sudden you're sweating yeah Oh doesn't get the tech say stone yeah not going Ronnie oh and Mike from the heavens all my yeah notice that God says is now set for Braille I said a gamer the gamer I'm trying I'm trying stance like hey oh no and the reactions coming out now Dave Mon but I'll stage and there's the shine that I may bring that back yeah that was a close one on the power of the box baby the box won't let me Gary starts I got it I got to get down to Lisa a close game so yeah what do you think my first outfit first game three I think battlefield 2 fine counter pick for Falcon I'm a little surprised I imagine that God touch probably band Dreamland okay cuz generally that's you would want a bigger stage as Falcon so sometimes you go like stadium or Dream Land so you can I live forever generally the go-to but Stadium again against Fox is always scary because you're gonna die a little bit sooner off the top which is a big deal for Falcon especially well yeah either way it got touch with a amazing first stock and this this stage isn't gonna offer you a huge advantage for either way so it's kind of like the true neutral in this matchup so he's kind of just betting on the skill more so than the counter pick basically well it's not working out so far that down smash the second Oh could he couldíve like trying to like let's check that yeah okay it's possible it depends on how far away you are from the stage okay sometimes you can also like smash di into the state of the air okay miss she'll drop from date Mon Paul tee box ooh oh man I feel like he'd fast felt that me and he didn't need to if he had just done the full hop me he wouldn't actually connect this okay he's still looking for these knees right here he's gotta get the stock off sooner or later get this off me oh no the turn around he's gone yeah so a little risky there from Dave Monta not paying off and he's got a big deficit to try to overcome now God touch we're getting a lot truer to his namesake in these past couple games Oh bad spot yeah you might have you might have said a little prayer which me wanted to he's looking this is looking way better for all okay I never want to count out my game on them because again know he was down around the same amount of like of like game last game yeah they brought it back like in a big way and again that's that's the scary thing about Falcon is once it gets that momentum in his favor then all of a sudden you're a little bit shook it's it's hard not to get should against Falcon II yeah all right my man still trying to land with these knees but like nothing really connecting good anti air as I hear from God shots oh to blow it off here okay and that'll be dog smash that is rough now for Dave Mon God touch coming alive in these past couple games on Dave ma you got to believe in the power of the Box man the Box knows you're losing faith it senses it it's got a heart rate monitor on there you seem nervous and this is getting ugly yeah de menthe has not been able to get anything he's got a single hit on this gone sour verse bear now smash good conversion from God touching ya God touch really looking like a different player putting his shoes back damn ok channel he's at home like that you got home real comfy are those divas I can't even tell them China I'm trying to get \"]"
      ]
     },
     "execution_count": 35,
     "metadata": {},
     "output_type": "execute_result"
    }
   ],
   "source": [
    "get_all_info_from_yt('https://www.youtube.com/watch?v=eUyDHVgx7hU')"
   ]
  },
  {
   "cell_type": "code",
   "execution_count": 36,
   "metadata": {},
   "outputs": [
    {
     "name": "stdout",
     "output_type": "stream",
     "text": [
      "https://www.youtube.com/watch?v=eUyDHVgx7hU\n",
      "https://www.youtube.com/watch?v=uTU6X_axt6w\n",
      "https://www.youtube.com/watch?v=ky_kX8vlGZc\n",
      "https://www.youtube.com/watch?v=5mRzn2HrlVw\n",
      "https://www.youtube.com/watch?v=K7pVEamfuC4\n",
      "https://www.youtube.com/watch?v=CmWBDZ9u4s4\n",
      "https://www.youtube.com/watch?v=KUGnQ0JUJuY\n",
      "https://www.youtube.com/watch?v=iuP2aAXoTS0\n",
      "https://www.youtube.com/watch?v=swT7-FycG64\n",
      "https://www.youtube.com/watch?v=hBgFkTU9zuY\n",
      "https://www.youtube.com/watch?v=QuKFcHCyZ2U\n",
      "https://www.youtube.com/watch?v=ilu_lu3vU68\n",
      "https://www.youtube.com/watch?v=JWq0Rmdllm8\n",
      "https://www.youtube.com/watch?v=UlOCsrJAOYo\n",
      "https://www.youtube.com/watch?v=I3ZQaQh0QP4\n",
      "https://www.youtube.com/watch?v=ff-Uc531dqI\n",
      "https://www.youtube.com/watch?v=SFTgxe9_PBM\n",
      "https://www.youtube.com/watch?v=bY8wQ--Bifg\n",
      "https://www.youtube.com/watch?v=q16za7OTEMg\n",
      "https://www.youtube.com/watch?v=b_-bBs5yPAQ\n",
      "https://www.youtube.com/watch?v=k4MZ7Kp4u58\n",
      "https://www.youtube.com/watch?v=Te9nlKrinFM\n",
      "https://www.youtube.com/watch?v=KHMao_BzhBw\n",
      "https://www.youtube.com/watch?v=jwYaGWrLT24\n",
      "https://www.youtube.com/watch?v=AAo-o6J834s\n",
      "https://www.youtube.com/watch?v=_4Qq_wgkSas\n",
      "https://www.youtube.com/watch?v=1Wdu7ODvTPU\n",
      "https://www.youtube.com/watch?v=kFWjkjQsP1I\n",
      "https://www.youtube.com/watch?v=BOUEauRf9oQ\n",
      "https://www.youtube.com/watch?v=yeURCKYDaBk\n",
      "https://www.youtube.com/watch?v=nUeY5CeWTAg\n",
      "https://www.youtube.com/watch?v=pDPyNpOXrFA\n",
      "https://www.youtube.com/watch?v=NlF2NN3zObE\n",
      "https://www.youtube.com/watch?v=MCZwq3EIvY0\n",
      "https://www.youtube.com/watch?v=6pVzZL1DRCA\n",
      "https://www.youtube.com/watch?v=hn19fIPLVLo\n",
      "https://www.youtube.com/watch?v=OyvC6ofL-TA\n",
      "https://www.youtube.com/watch?v=8gVd-eTjmTk\n",
      "https://www.youtube.com/watch?v=WoECZgMQ-rc\n",
      "https://www.youtube.com/watch?v=AgFsQlAtluc\n",
      "https://www.youtube.com/watch?v=AFSUsQgd1NQ\n",
      "https://www.youtube.com/watch?v=quVdlEtxm2Y\n",
      "https://www.youtube.com/watch?v=9CpiHNl1yJE\n",
      "https://www.youtube.com/watch?v=Qwhg6mFuybM\n",
      "https://www.youtube.com/watch?v=UlUQKxRWpqE\n",
      "https://www.youtube.com/watch?v=hm58ORjPfr8\n",
      "https://www.youtube.com/watch?v=Hs8X01OfPB8\n",
      "https://www.youtube.com/watch?v=WT_IcNF7AZM\n",
      "https://www.youtube.com/watch?v=ScM0sOa6UYI\n",
      "https://www.youtube.com/watch?v=l5bHSQip_xE\n",
      "https://www.youtube.com/watch?v=xLuUMOS8X-8\n",
      "https://www.youtube.com/watch?v=AcdXZ0TTBo0\n",
      "https://www.youtube.com/watch?v=Yns_t2E5tEo\n",
      "https://www.youtube.com/watch?v=HAXd9jwHtj4\n",
      "https://www.youtube.com/watch?v=0RiCpqifNtg\n",
      "https://www.youtube.com/watch?v=g3ehsdhabzE\n",
      "https://www.youtube.com/watch?v=6QQ-jeUMowA\n",
      "https://www.youtube.com/watch?v=eKSZwSwwGqs\n",
      "https://www.youtube.com/watch?v=nAM4l1PDnGw\n",
      "https://www.youtube.com/watch?v=7uHE8naKN-8\n",
      "https://www.youtube.com/watch?v=vIru0apy5Qs\n",
      "https://www.youtube.com/watch?v=lXFnjRtHJ7I\n",
      "https://www.youtube.com/watch?v=O-bwri7hAKY\n",
      "https://www.youtube.com/watch?v=skFyww9ZHEo\n",
      "https://www.youtube.com/watch?v=Q618RIlmopU\n",
      "https://www.youtube.com/watch?v=no2UlkkL2sA\n",
      "https://www.youtube.com/watch?v=oBbTDlgbCZI\n",
      "https://www.youtube.com/watch?v=tHsi4iQXspA\n",
      "https://www.youtube.com/watch?v=R6s7qD6g7SU\n",
      "https://www.youtube.com/watch?v=p3ByV2DMXG0\n",
      "https://www.youtube.com/watch?v=kETDHpAOQv4\n",
      "https://www.youtube.com/watch?v=0_qJ46zBSqE\n",
      "https://www.youtube.com/watch?v=ZvgQbzpX-Jc\n",
      "https://www.youtube.com/watch?v=iuftvTY8RXo\n",
      "https://www.youtube.com/watch?v=5t3kvcKLo1o\n",
      "https://www.youtube.com/watch?v=qPwVrg_n-wk\n",
      "https://www.youtube.com/watch?v=z9lsS9X-WJo\n",
      "https://www.youtube.com/watch?v=oAgHmMjGzLo\n",
      "https://www.youtube.com/watch?v=w2BckO0CTos\n",
      "https://www.youtube.com/watch?v=d2TBQ7f6ujo\n",
      "https://www.youtube.com/watch?v=pExGfeFiHaU\n",
      "https://www.youtube.com/watch?v=u6qFwOdqQNQ\n",
      "https://www.youtube.com/watch?v=0Gf6X-c-cCo\n",
      "https://www.youtube.com/watch?v=VGTv_ibAp9s\n",
      "https://www.youtube.com/watch?v=2VqKFWQu6Uc\n",
      "https://www.youtube.com/watch?v=sSUEz6FoOmc\n",
      "https://www.youtube.com/watch?v=xS0vCD0YDSQ\n",
      "https://www.youtube.com/watch?v=Dy8Rq49MmN0\n",
      "https://www.youtube.com/watch?v=e_UHyYTK7UY\n",
      "https://www.youtube.com/watch?v=v-gkWO_384I\n",
      "https://www.youtube.com/watch?v=gKUoy7E52SI\n",
      "https://www.youtube.com/watch?v=K7pzLHk_Iu4\n",
      "https://www.youtube.com/watch?v=cpihlvJQkIs\n",
      "https://www.youtube.com/watch?v=G-l52tzqgVo\n",
      "https://www.youtube.com/watch?v=lCE0fx0eQLI\n",
      "https://www.youtube.com/watch?v=1ArbQX34NdE\n",
      "https://www.youtube.com/watch?v=voEHFgpooKQ\n",
      "https://www.youtube.com/watch?v=e3SIwEyne_A\n",
      "https://www.youtube.com/watch?v=1qulYUO8jp8\n",
      "https://www.youtube.com/watch?v=oxKYdYbye7w\n",
      "91\n"
     ]
    }
   ],
   "source": [
    "failed_urls = []\n",
    "i = 0\n",
    "all_vid_info = []\n",
    "for url in video_urls:\n",
    "    print(url)\n",
    "    vid_info = get_all_info_from_yt(url)\n",
    "\n",
    "    #if the get_info method ends up failing, it returns an empty array\n",
    "    if len(vid_info)==0:\n",
    "        i += 1\n",
    "    else:\n",
    "        all_vid_info.append(vid_info)\n",
    "        \n",
    "print(i)"
   ]
  },
  {
   "cell_type": "code",
   "execution_count": 37,
   "metadata": {},
   "outputs": [
    {
     "data": {
      "text/plain": [
       "[['SSC 2019 SSBM - GodTouch (Fox) VS ESKI Davemon (Captain Falcon) Smash Melee Round 1 Pools',\n",
       "  '2,788 views',\n",
       "  '17',\n",
       "  '4',\n",
       "  \"yeah box and Falcon and we're starting on F G it looks like we're going right into it yeah yeah getting my cool that's not like the semen I don't need to maybe we needed a blood check maybe we needed a butt check here I mean you know you know if someone's playing on a box that they're familiar with the game there's a reason why why they they bought this expensive equipment to play on and gave Mon showing that he's clearly at least a little bit familiar with the game already we'll see what God touch can do try to bring this back okay [Music] another phone another Falcon situational help before like you know we're still around one right I see something interesting here and he's on the smash box right like obviously cheating that's not fair but you know it is what it is a lot of other rules oh yeah nicely done yeah I mean as I described with Falco overs Falcon it's kind of the same deal here we're clearly Fox has the advantage in the neutral but if Falcon can make a lot off the openings he gets then it's it looks a lot closer to even at that point yeah this rock is definitely getting some good opening yeah okay and capitalizing quick that's what you want to see from Falcon a little s2j over here see you yeah s2j on the box oh we threw at the future is now alright yeah got shot again I realized why he tried to go for the high recovery but it's all good yeah it goes for the upper air there I think I would have preferred the back here just knock him back off stage yet another edge guard setup you know that uh pair is not gonna kill against Falcon so like last pixel yeah uh I've active frame of the video okay barely gets that killed off the top God touch got a lot of work to do he's gonna need the God touch right now most definitely okay oh this ledge - Damon like man that you wouldn't you wouldn't miss that on the box do you ever you're considered one of these paths it would box the box those off okay of it it bought some sweetie minute you're like it yeah like the little would cut finish okay yeah found the classic counter pick against Falcons because the platforms definitely make it difficult for Falcon sometimes but I think Falcons get taken to the stage so often these days that they're pretty good at it for the most part if you're a falcon main chances are you're pretty comfortable with fountain at this point cuz you're always getting kind of a feel that like you got you got to learn at some point right but a great first stock from God touch oh really like that follow up off the traded up smash down here mr. back here as well let's see what it get off it all right I mean it's Lightman's way back on stage I like it yeah yeah God touch leaving the edge open they're generally versus Falcon if you get on the edge it really limits his options if he's not that close to the stage but God touch has been kind of leaving it open but that time he gets that shine nicely done so you mean even with him you know coming here and obviously I'm having a deal with the counter pick I mean it's literally working out for God touch right now so you know as these either this time around right yeah that helps a lot okay up throw up smash no Tech chase there but still got the pressure going thank you for back there and let's see a nice angle to get the edge Oh Dave mom ready for that nicely done honey mother better axe that tech it's possible yeah but that was still good stuff it look like he was he was doing that regardless but yeah yeah could have been a quick reaction is okay Oh mice outdoorsy out here regardless oh and the UPS man is gonna kill off the side so yeah this counterpick working out it's super nicely for God's out so far but still gotta be careful Falcon honestly one of the scariest characters like momentum base wise game because if he gets stuff like this going imagine he gets a grab on this next stock it's a couple tech chases all of a sudden you're sweating yeah Oh doesn't get the tech say stone yeah not going Ronnie oh and Mike from the heavens all my yeah notice that God says is now set for Braille I said a gamer the gamer I'm trying I'm trying stance like hey oh no and the reactions coming out now Dave Mon but I'll stage and there's the shine that I may bring that back yeah that was a close one on the power of the box baby the box won't let me Gary starts I got it I got to get down to Lisa a close game so yeah what do you think my first outfit first game three I think battlefield 2 fine counter pick for Falcon I'm a little surprised I imagine that God touch probably band Dreamland okay cuz generally that's you would want a bigger stage as Falcon so sometimes you go like stadium or Dream Land so you can I live forever generally the go-to but Stadium again against Fox is always scary because you're gonna die a little bit sooner off the top which is a big deal for Falcon especially well yeah either way it got touch with a amazing first stock and this this stage isn't gonna offer you a huge advantage for either way so it's kind of like the true neutral in this matchup so he's kind of just betting on the skill more so than the counter pick basically well it's not working out so far that down smash the second Oh could he couldíve like trying to like let's check that yeah okay it's possible it depends on how far away you are from the stage okay sometimes you can also like smash di into the state of the air okay miss she'll drop from date Mon Paul tee box ooh oh man I feel like he'd fast felt that me and he didn't need to if he had just done the full hop me he wouldn't actually connect this okay he's still looking for these knees right here he's gotta get the stock off sooner or later get this off me oh no the turn around he's gone yeah so a little risky there from Dave Monta not paying off and he's got a big deficit to try to overcome now God touch we're getting a lot truer to his namesake in these past couple games Oh bad spot yeah you might have you might have said a little prayer which me wanted to he's looking this is looking way better for all okay I never want to count out my game on them because again know he was down around the same amount of like of like game last game yeah they brought it back like in a big way and again that's that's the scary thing about Falcon is once it gets that momentum in his favor then all of a sudden you're a little bit shook it's it's hard not to get should against Falcon II yeah all right my man still trying to land with these knees but like nothing really connecting good anti air as I hear from God shots oh to blow it off here okay and that'll be dog smash that is rough now for Dave Mon God touch coming alive in these past couple games on Dave ma you got to believe in the power of the Box man the Box knows you're losing faith it senses it it's got a heart rate monitor on there you seem nervous and this is getting ugly yeah de menthe has not been able to get anything he's got a single hit on this gone sour verse bear now smash good conversion from God touching ya God touch really looking like a different player putting his shoes back damn ok channel he's at home like that you got home real comfy are those divas I can't even tell them China I'm trying to get \"],\n",
       " ['SSC 2019 SSBM - Hutch (Peach) VS Proxfrd (Pikachu) Smash Melee Round 1 Pools',\n",
       "  '1,136 views',\n",
       "  '9',\n",
       "  '1',\n",
       "  \"I hope I hope we see just how strong the tool like a quick back there can be in this magic because you can shut it down it's either gonna trade or be positive in almost every scenario well that's exactly it and if it hits on shields can be really hard to punish as well yeah and of course you know it's easy to say oh well PB tsuki just out there peach the float is just way too good yeah - attacking peaches shields just to start the match I want to say he's a little lucky you didn't get screwed by that but Wow okay wait oh okay we'll see what kind of that was a really quick mare looks like we have a fairly technically proficient peach as well it's gonna be quite a match I think come on it early let me sit for this one okay I like marrying high like that the idea is try to catch the peach going for a flow like on take off so that's just somewhat advanced concept goes for a down smash very laggy move gets it hits with that hit were they downfield Oh fairs the recovery it is very difficult to edge karthika trip oh hey mr. Sandin play I just it's on the cloud oh wait it's on Randall hey buddy I would definitely go do it ah he's gone I wish you went under the stage with Brad organized oh yeah a little too high called out by procs furred with the forward smash me but even game - attacker is kind of lunging at Pikachu the double slap really scary on shield actually because you have a mix up there between the double slap or slap grab right or nothing and debate a defensive option yeah nothing to just reset back off yeah it's a strong strong mix-up a lot of times we'll see a float cancel aerial into that type of setup with a double jab or grab yep the turn up so another thing to mention is the turnips are just so important for this matchup right because I mean it's important for pretty much every matchup you can safely say that peach wins neutral with the turnip in some matchups where she might not yeah but he or she wins anyway so it kind of is just an insult to injury but I'm starting to wonder if the turnip is a good thing or not because of like I mentioned with the aerials trading so well with Pikachu hey da Dai how reliable it is to use that step yeah well the nice thing is you can hold a turnip into a flow Council aerial widget well I find the crazy thing about peach is it's the only character aside from the links with items also probably the best character with items because of that ability to still use aerials you have more options than most other characters do exactly you know I saw that up he kind of delay a little bit there was a shy guy yeah but yeah that is sad we have a very very close game looks like Pikachu's along with the balance match this time I like the immediate jump recognizing that a Crouch camp with down smash probably about to come out from hutch okay it's actually a crazy game yeah the UH pears are really clean so far but he catches it down smash that lift definitely not helping Pikachu there and Pikachu's grabber inches so stubby I'm actually surprised that these grabs are landing yeah it's actually kind of sad tee box arms for it's definitely like a peach spacing issue more than a Pikachu playing well issue in my opinion down throw up smash not able to get the strongest hit on down throw until I think quite a bit higher percent oh no dr peach has a little bit of lead here for Hutch a couple uh pairs and thunder that's gonna do it we still have a one stock game we said how difficulty sometimes abyss rocks for it is certainly playing it fairly well yeah that's for sure alright comes down the platform and he's gonna go straight to ledge as Petey shoes do oh whoa whoa hey what okay we're good how you get down there wasn't that's weird anyway he is going to be able to recover that that could have been the joke of the year when I could sigh of relief now that you've lived and stay on stage kind of camping out a hundred for damage on Pikachu right now that is a game one big smile from Prague spurred I need to know for my own curiosity my own selfish curiosity I have the chat open these guys t-shirt games are both are really strong I need you to give me a 1/4 hutches t-shirt or a 2/4 procs Bert's t-shirt you actually think the t-shirt games are strong I haven't seen them we've got this crying face and Fred Flintstone winning and yelling wrong they're both a statement for sure and I don't know you know I admit speaks more science I don't I don't want to influence them I agree with you I know what you're about to say back to game 2 we we run it back to Yoshi's Story for the second game here so basically another run back by the way add it to the list I think we're on like 4 by now at least we got mostly twos by the way there's grab down throat going for a up smash right afterwards I don't know I feel it oh wait he's knitting he's knitting that's sick I does you know about that yeah I do know about knitting I was kind of slower if you could do it faster but the fact that he's able to get it down that consistently it's kind of cool it's totally it is still better than just pulling and throwing yeah so he still did the efficient way of pulling turnips in between stops and I mean it could mean a lot we talked to mo each matchup about just how much like playing the RNG is in your favor as the rng character and you're getting out one or two extra turnips you know one of those could be a valuable one I mean you quite literally increase increase your odds yeah and he has pulled a dot so far the set already I don't think we've seen anything else Oh a Saturn Saturn - yeah that was the highway yeah our Randall buddy a strong fair looks like Hutch really has his under control I mean procs Burke came out super strong at the beginning right yeah he certainly did but now that we're looking at this a little bit deeper you're starting to see where peaches and neutral advantages come into play I think hutches found the places where he can trade more reliably and look he's doing the damage and a lot of the times he's not even getting hit exactly yeah super cool he's getting either like up like what peach does best you get either a positive result or a neutral one you rinse and repeat over and over before you know it you've won the game yeah this is kind of bread-and-butter stuff just like you said I mean this is gonna come down to sticking to the plan yeah sticking to the book doing what's easy okay now that I've seen that twice I think that works yeah yeah the strong one right yeah there's yeah I mean so you can di behind peach to make it either more difficult or orders to not get hit by in general I think you're also lower when you do Maya it I mean down throws definitely doable well you can't you can't okay so so I think he honestly needs some stronger reaction times if he didn't hold the correct direction for down there twice cuz that's that throws not fast it's not like a puff up there it might actually just be kind of a knowledge or like preparedness thing because yeah it's definitely slow enough you can react to you right yeah I'm wondering if that's good deal-breaker for this match - dance up smash nice you know there's still a shot from Oxford he's able to get some pretty fast chaos before enemy non Yoshi's we already saw an au pair ko rather early for procs for the last time yeah if it's a stage for him to get some early chaos here it might be this one we're gonna see if there's anything available that nares probably gonna do it after one more exchange yeah Faribault's that's a 2-0 or a boy hutch here playing peach yeah beating out Pikachu you saw the bread \"],\n",
       " ['SSC 2019 SSBM - Glasper (Fox) VS Kevin M (Fox) Smash Melee Round 1 Pools',\n",
       "  '906 views',\n",
       "  '8',\n",
       "  '0',\n",
       "  \"Kevin em had a big win at pound I wish I could remember what it is that's my other weaknesses remembering previous said sometimes that's fine to you I'm actually pretty bad with the stats myself talks to those there's an interesting thing that happens in fox dittos we're usually foxes the character is harder to hit because he's so quick rather small hitbox some elusive moves now they're both that character and the sort of interesting effect on the matchup where the fox who is less committal often ends up on top that is true unless the the fox that is more committal is clearly better yes yep and then you eat then you went hard yes and it also makes this matchup more consistent right because this is one of those matchups people say it's like kind of coin flip I don't think it's that random thanks Randall but there is a sort of volatility to it as people like to say the only thing that could make this quote-unquote random but not freely is when you're holding down a lot in this matchup or you know just get shine when you're holding down and you kind of like just slide off the stage you do something dumb and you can't just die losing a stock in 5 seconds and a 5 so those five players were used to it they fully expect it would you see the heaven em significantly ahead so far yeah looks like just his a perch control his game plan is stronger so far I'm wondering if he missed that uh pair or if he actually got out of it it's always so hard to tell if you run a back slow motion you can see whether it's one or both yeah because the way that uh pair went through it looked like it was supposed to hit but they just totally went out and I don't know if he just missed anyway maybe a little STI yeah at least a little there's an air catch them with a down tilt from knowing he's gonna come back on the ground because a lot of players will attend instead of jumping backwards they'll just come straight down that's what he did and he read that and was able to capitalize on some nice shine early edge guard misses the armadas change and you know what's also so funny about these folks that is there's just so many reversals yes Oh like he might die you might not yeah like he didn't you weren't sure they could turn it around like Fox he'll fight on the ledge but doing the same thing where they go to ledge find ledge and then shine yeah then the other guy makes it and they just like rinse repeat go and back and forth shining until something happens and that's why perhaps one of the biggest influencers on you winning this matchup is tightening up your conversion so that there's no reversal opportunities yeah yeah yeah that's for sure and Game three one final destination somebody likes to chain grab but this was not Kevin ends Kevin ends counter pick however he is the one touch of death thing right now Oh goodbye 101 damage just at the get-go that is the first stun yup Glasper goes you know what I can chain grout let me take you there and classes and Kevin says you know what meets you buddy maybe you felt like evening out the punish differential was the only way that maybe win the game but if you if you don't feel confident in you're punished in comparison to the Fox that just took Game one off of you relatively convincingly yeah not sure if that's a good call maybe not I mean at this point the real problem seems like you can't get the grab this is it right away you know that happens sometimes even if you are a strong chain grabber when you've been Shane grabbed a few times and you're like losing momentum of the set you just like don't actually expect to get the grab you're not quite ready to succeed in your game plan and that's a big mentality but this is also the essence of like what top players will say to you for advice focus on your punishment specifically our motto that says this you focus on your punished came neutral will happen on its own you can see Glasper is opening up neutral exchanges but what Kevin M touches him it's over yeah and that's all that matters so because it's so much more difficult to practice neutral game than it is to practice Punisher exactly so I mean that's only trial and error that's only as the game goes on the more you play but I mean you just see it allows you have someone like ppmd who talks about shadowboxing right yeah I have we have another punish see he's even after he drops it he's ready to pick it back up again yeah with the up tilts which is really nice and I mean at this point we're looking at a four stock again that's gonna be the week poor job he didn't have to do that it was impressive that is cool that was a really nice uh pair read on the double jumps take Southie - oh and yeah Kevin have made that quick for us \"],\n",
       " ['SSC 2019 SSBM - Jorge (Sheik) VS Lana Del Krey (Peach) Smash Melee Round 1 Pools',\n",
       "  '818 views',\n",
       "  '7',\n",
       "  '1',\n",
       "  \"so it'll be interesting to see and this type of peach is a different monster from like the lower level one you're probably used to watching right well exactly these really quick ones yep all right getting in a game one back on battlefield lots of battlefield starts this tournament I mean you're on the East Coast it's gonna happen starting off now Pete's can crouch cancel a lot of cheek stuff the same can go the other way however she doesn't really want to be holding down here that lunch was unfortunate for Sheik because she likes to hold down oh yeah that first exchange allotted though Crais went for the fare on shield to nothing which is sort of a comment we see the slaps all the time sometimes we'll see grab that time nothing see how that evolves throughout the set right you see come up a lot because Sheik will find herself stuck in shield because the Sheik has a difficult time coming forwards in a useful way you can see right there Sheik tries to come in with an aerial kind of get stuffed yep again he's stuck on the top platform here so that's going to make things a little easier for him Oh first the turf straight up gets able to forward her in retaliation thanks yeah that's a nice forward air catching peach getting the first stock for Jorge so far yeah more negatives pick up his first stock he's gonna yup exactly what he's doing right now he's gonna try and go for a fade back for there Oh okay hey is this a setup lightning we've got a lot of s DS everybody okay I think it's just forget it wobble - what's going on here I think it's just the nerves from flying offspring yeah I think that's so the down smash from chic very risky especially with such a controlled move but I guess it's peach was in like a hit stun scenario she was okay to run it very difficult to edge guard peach brain still goes for a fair I'm staying up here maybe Wow really dives out there Jorge seems like a deep-sea diver he also looks like he takes full advantage of a riyals he's not looking to snuff out any approaches with forward tilt or up tilt I don't see any of those I'm just looking for only aerials like Foley yeah we're getting fair in there and bear a lot of it yep it's a setup it's a setup so we figured out it's just cuz it pools or hey what's going on I like the little fair - regrab this is almost a huge stock where I'm really turning it all coming back so far yeah that that shane st was kind of rough so he was able to bring it back that's awesome it's oh hello hello beautiful nope goodbye it was nice while it lasted hold a bomb on stream better to love than applause that's right a pair was well spaced yeah for his like amazing I feel like we're hey probably must have tried to put out an aerial or something I think he try to forward it he's straight-up lost yeah because the way he came in at that diagonal approach that's where sheikhs corridor goes so a few time the beach up there properly I was very concerned about this situation and you know mama though Cray playing that's why we're talking about playing the lead getting those trades and even though this stock is gone already ninety percent on Jorge in an excellent position to close out the match still pulling turnips kinda supporters around the shield he's only gonna get a new chiller out of it too scared to kind of go for like anything crazy old letch wow look back he could have probably read that but also people tend to go high on their last stock so it's also safe to just kind of reset anyway because the advantage you're at I don't think I'm thinking about what you said people tend to go high on the last stock I think you're right yeah yeah I never like actually thought that like I noticed I never said those words yeah people people tend to go high on their last night that's for sure because true if you're like playing fox Tudors for example and you're about to get back throw shine you're gonna go high you're just scared yeah also people tend to do this they just double jump air dodge instantly after getting thrown off I do that on every stock yeah so don't know if air dodge is like a big thing people do too but anyway back to game two again run back battlefield monster lana del creating the first game a lot of s DS from jorge and just rough play I do think Jorge has what it takes to win this set no problem just gonna take a little bit cosier yeah and you know he's started off this game very well proving your point even more a lot of poker has not a platform and I'm able to hold on to that position too long now he should be just fine holding it right here waits for the neutral air almost gets them at the back here I'm not quite there Wow Bermuda Triangle di that is the semi spiked hits straight to the side a sheik that's hard to hit is almost impossible to play against sometimes oh yeah trying to make themselves very hard to hit then the second they get an opening they're carrying you with a beautiful knock back on their on her moves and it's so nice - baggage wrap just gets a free upper 29% kind of jumped aggressively therefore no true reason a little bit of overly zealous behavior but I just thought he had something that he didn't but just fine that's what this game is all about every single time you get put you put yourself in a situation you tend to recognize it when it doesn't work out yeah like oh hey that thing doesn't work cool no no and discipline it's actually learning from it or not speaking of that for stocks to to definitely turn horrace conversions have been very strong a lot of a Fralick kind of hasn't really landed very often after getting head initially and now that I'm thinking about it I don't think we've seen a game 3x oh no ooh that's hard to think about yeah I think we've only seen 20s but we're in round 3 now so we are much farther along in the Brad people actually closer skill yeah yeah I like the idea the jab us take a jab down smash but nice fade actually by lana don't pray there expertly avoided skillfully dodged and that's the kind of very micro style each floating is necessary to be a strong each player yeah you need to be in a range where it's like the other player is tricky going oh I hit that you don't hit that not too many players can master that he just hitbox was nice even a little better when floating right because with the likes tuck up a little bit and everything yeah and that turnip hill was very overzealous on the platform ie saw it the second the turn up cane or hey was like oh cool free fare yeah a lot of peaches like you said earlier on on our block today a matchup that they might not win neutral in was a turnip they probably do yeah big dangers peaches really want to pull that turnip you're too close to your opponent they're looking for it they could be punished yeah that's a big part of the strategy for a lot of different players a lot of matchups that's absurd so now we're looking at our first game 3 for 1 game 3 I don't know if we're gonna run it up battlefield the whole set we are gonna go found in dreams this is a counter pick after all yeah meaning it's safe to say that maybe dream levels been high I would assume sorry still a higher ceiling here should be a little bit more survivability for peach but not much because that forward here does hit straight to the side that's where a lot of the caio's are they're coming from yeah but you also don't wanna go to stadium for that same reason because the side glass notes are shorter so you haven't really want to get slapped in the face before this it's an old I'll smash the platform meet that's pretty nice there's a neutral beast all happening in the Mac find last year back here doesn't do it yet but it's not peach cards go you have to rinse them repeat many times over yep but you'll eventually get it yep just gotta stick to it even if they do get back look at all that damage you racked up don't get tilted it'll be okay but still more hit close it out okay so we are noticing the early double jumps before hey because well a lot of them ferry hasn't been punishing them very hard there it was a call out nothing short of a call though and I could definitely turn the tide of this last match on the entire set we'll see though it's gonna depend on what before Hayes decision-making is especially if he brings this to a three star to two scenario right now with the add the advantageous guy yeah there was a slight mistake before on that edge guard peach is really weak on the ledge so if you're gonna do an edge guard you want it either to land on the ledge or be taken out fare to do the trick if not just yet still a very high percent he just needs one more clean aerial there it is it's gonna do it right out of shields close to the platform and that's three stocks to chew a in cheese favor - dance with the grabbed I smash yeah actually gets himself a little punish out of it but not really enough to go crazy for and you know each stock quarry is progressively pulling a little bit farther ahead yeah and that's the that's the beauty of neutral exchanges there's gonna push Corey off the stage can he make it back goes up to the platform backers gonna send him back off again the left side hanging in the corner a roll from peach actually saying hey here have stage it's yours I'm take it like a lot of Smashing iron that actually helped beret continue that punish I might put on accident yeah oh I assume it's on accident yeah yeah okay there's the UH pears it's still doable for Lana McRae no problem oh there's a jump guy yeah making a barracks gonna be very important answers of this game does make it back into the center of the stage don't ill has a good amount of trajectory on where it sends you for that forwarder to come out and she goes fast enough to cover it oh come back air dodge is popular option for pizza man what does long ago creek do here just keep trying to come back it must be really frustrating coming back again again worried able to finish off the edge guard after quite a long strength down smash big damage we need a lot of damage to a lot of those very fast in order to bring this back and that's exactly what we're getting and that's the technical play that I was looking for three games ago is it too late I'm unsure dad punished was amazing I mean that's that's what you're looking for on the top peach butters game oh wow loses the jump as the jump is gonna do it to point for our friend Jorge and he's gonna advance in round two pools I actually like that match a lot it was my first game three you see long ago ferry opening up very early on \"],\n",
       " ['SSC 2019 SSBM - Soap (Fox) VS C Bass (Luigi) Smash Melee Round 1 Pools',\n",
       "  '1,171 views',\n",
       "  '11',\n",
       "  '0',\n",
       "  \"eating his lunch distance to get meaningful hits back to battlefield we've seen a lot of this I'm telling you man even all over the place you know what it is cup noodles has a lot of sodium in them and there's a lot of salt on top so we have a lot of salt Iman packs yeah try being young adults playing esports we know what ramen tastes like lots of us college kids you know so starting out game to same stage same style same game now that was a nice like final wave back wave land back to punish yes difficult top platform follow-up to get from sea bass puts him in the lead yeah that's for sure I get a little bit of percentile now he is coming around on the platform's the tournament winner definitely not the best spot forum again with another turret winner not sure if they're Tex loves or futures buffering inputs trying to get back on the level well you know what the reason why that's good is now there's a higher percent chance and next time he's recovering that should do it down B for your next charge and all of a sudden this is looking pretty good luigi does have the happed chance of the misfire coming out now there's a chain graph ruff get up attack from soap probably again a buffer or trying to hit a tech missing it and then buffering again up attack which happens a lot on anybody I know it happens to me one thing I kind of like to see from sea bass a little bit more is he's actually doing a fairly good job at lunging in I realize we're like holding his ground and I want to see this a little more like some faints some in and then out again debate some sort of move from soap because it looks like when soap gets like sort of nicked with something small to sort of go for an overshot aerial extension like you talked about the first camp and if you just back out long enough with another far lunge you may be able to punish that that's what I'm thinking ah treasure go for the shine he might have actually okay not like it matters but he probably just got really just a straight-up back area just let it fall down and then recover back on stage but the miss Ledge - Luigi doesn't make it really knick knacks got a head guard situation and he misses that wave - why he got clipped by the side beat he might have been able to snuff it out with something definitely could have been a stock instead he takes a little bit of damage because in a bad spot all the way ssib yeah yeah I was all the way up to 60 70 % no double drill and then there Treach go for no smash hopefully Luigi holds and could have held the ledge there not gonna happen so much going on up special shield and yeah only it wasn't invisible ceiling good sir sea bass looks a little dejected to be honest but I think he can pull it back together it's really like you mentioned you didn't miss that edge great opportunity on the side platform at the Miss wave land this would be a very close game he has it in them but not as this continues okay so now we have still won't start leave for soap I mean this is gonna be the stuff that kind of takes it all for him so if you could just play to trade shit Oh another game where the second game just ends today's s Steve's by the chillindude set happened just the same way almost yeah nice job by soap to get a 2-0 \"],\n",
       " ['SSC 2019 SSBM - El Nino (Luigi) VS Brimp (Marth) Smash Melee Round 1 Pools',\n",
       "  '884 views',\n",
       "  '14',\n",
       "  '0',\n",
       "  \"oh maybe not maybe they're not other no they're fighting alright radio commentary okay well you know versus grip I believe we have figured out which port is on which tag so we will be going off with that that is an early start on a dreamland stroke I noticed that a lot of Martha luigi's typically go to Yoshi's first because both of them are fine at the stage but I guess and these two guys want to go to three-month a lot of the times it's the Mars who does not want to go to dream land so that might say something about primps play style that's what I would say Lily yeah so this matchup I mean mostly Ouija matchups really for me it's characterized by Luigi's unique mobility he's dangerous right in front of him and a whole wave - length away and everything in between is fairly safe so it'll be more stop to navigate to that sort of mid-range and it'll be Luigi's job to either get into like a range where you can lunge at you or be up close in your face because as Martha's also quite weak there you know this is a side comment how many mid tears if we had today its pools but many many matches yeah like pretty much won a set almost yeah anyway that aside so Luigi's looking for exactly what you just saw he's looking to kind of uses ground movement choose bait out something from Mars like a lucky move like a fork smash and then come right through with an up smash the head is invincible on it and he is able to get a nice punish game off of it so that's why you see Oh a nice tech a cleanly right now thank you money oh yeah that's the other thing that's frustrating eventually they'll get a pacifier eventually yeah you give them enough times to give enough opportunities he will crow this fire out this is gonna happen the one thing is some advice about Luigi is you just have to be prepared for it you just need to be ready for the misfire don't go okay well I hope he doesn't miss fire cuz it's the option of going for him yep you ready yeah I agree and I think if you have the choice there like maybe instead of the down tilt you like grab the ledge or then dare or something like just don't even allow the misfire to come into play exit the more you play with RNG the more you're likely to lose the lottery right that's fair yeah and the more opportunities they get you know odds show yep sometimes it pops and you can see now a thing I've ever seen Luigi four five five yeah it's not that common I mean so Luigi does actually hit Mars kind of hard and Mars has a somewhat difficult time doing meaningful combos to Luigi but usually you can kind of control the pace of the match what's on is like we've kind of seen Brent able to successfully navigate that mid-range but he kind of just doesn't do anything threatening and then El Nino is able to work his way at El Nino El Nino there's no any I over the honestly say El Nino just because yeah I see exactly because the coloration upbeat is going to hit him it's gonna cause a trade there's literally nothing in this Luigi's game plan anymore it is just respawn walk around get a forward tilt you know get get some sort of opening close this game out and with the game attack again doesn't really matter to him as agendas pretty much set in stone even if Marc does start a double string which you can just neutral they're right out of it and this might even just be the game we see El Nino just zooming around the center of the stage is it down smash this is a wave Wham so not exactly the cleanest movement from either side no that is definitely the first game for the new John to stock it was for stocks to 1 so it felt very you just kind of take a deep breath keep cool you don't let him come back on you you'll be fine and now the question is will we be able to carry over some of that momentum that burn pad later on to the game to the next one I guess we'll find out I you'll find out for sure now for the bands for Marth Luigi because this guy started dreamland I'm wondering what he's going for us we're hovering stating I guess he just likes long stages I assume he has some sort of like history of being in close range with Luigi and he just kind of got destroyed so maybe like the band maybe he wanted that for your dreamland and El Nino picked stream my last time I mean yeah I bet final destination was banned here yeah prefer the more linear light and linearised of a matchup you can make Luigi the harder it is to win as Luigi so if you're some characters will benefit off of being as linear as possible but mid-tier specifically and low tears now that their approach options aren't being varied by platforms anymore it makes things a lot harder so final destination is often the band for a lot of these players now Mantid to see uh Brent try to do something to keep El Nino out cuz it'll feels like he just kind of has free room to the stage in the leaves yeah sort of like incremental movement one of those few characters that has like I guess this games equivalent of a step - alright okay so like I'd love to see like a little bit of like shield stop pare action like we saw from one of our Mars earlier or a couple of our marks earlier yeah I don't know try to think about what I love how you can miss it down here and just throw another one out yeah I mean - two moves a lot of short hops Luigi I'd love to see what ramp is going to be able to do to sort of like shut down El Nino because at this point I don't even think it's about like scoring meaningful hits I think he needs to like get some sort of like defensive play going it might be too late honestly yeah Luigi's in such a nice spot right now that okay we've got a shield didn't come out in time oh that up tilt traded so Luigi's looking for traits that's all yeah you're looking for traits the game is as good as done for you all you need to do every single time he hits you take something back whether it's positional or whether it's damage related whether it's even an edge going yeah just take something back and as long as you trade even you should be but really wacky up tilt yeah he bounced off the tree there she was okay but that's gonna be the first doc me down for a good friend here I mean I'm not quite able to punish me actually it's a Luigi has such low traction that a lot of the times when you hit his shield he goes so far away he can't punish you truly that time he just goes for a jump and able to get his shield out first it looks like winners bracket stock here for our poor friend that is getting kinda picked apart by this Luigi player winners finals pools I wonder if there was an upset from one of these players over someone else or not saying that they're not capable players but usually just a lot of winners bottles into it very somebody right that you recognized the tag of for this it might just be a regional thing that maybe we just don't know the players from the region and maybe this Luigi player is power ranked and like Kentucky or something I don't know right sure you never know actually never know I'll buy it I found a ranked player from Washington State today I don't know the P R Washington State yeah I'm on the East Coast and that's the kind of stuff we're looking for these pools yep just outer agent talent ok comes through with the down smash and like you're saying he's just trading out slowly building up the damage of brim until he ends up too far off the stage that he can't come back that's gonna do it to zero that was a to stock in a three stock very convincing yeah I think that was more than anything that was a quiet match for Brett I think there was several I think there are a few steps for him to beat even get in contention for that game first you have to shut down what El Nino wanted \"],\n",
       " ['SSC 2019 SSBM - Vortex (Fox) VS Psych (Falco) Smash Melee Round 1 Pools',\n",
       "  '653 views',\n",
       "  '5',\n",
       "  '1',\n",
       "  \"I got that mark okay well I do know that vortex is also capable Fox let's see I've seen the Fox before - yeah I've seen it hold out against two same things like that and of course you've got a Marth and another one coming from sink so it's like just the hand warmer to start off it's a good way to start when you get on the new TV yep so WV you actually don't know what the acronym for that school is like just assume US University West Virginia University that's my guess but it could be something else right pretty sure that's it I've been there I was there for a mountain of dreams - okay fun tournament maybe some there it's a nice squat out there you know there's a chance I did I'll admit players blend again of my commentator weaknesses the main one is like knowing lots and lots of players don't know well the point I am pretty good oh yeah yeah yeah just from being in the scene for long enough and I just building a lot of like personal dishes people just walking up talking for a little while sometimes you'd be like hey let's talk how's everything going hey what's your tag oh yeah cool I'm arisen nice to meet you and then 20 minutes later hey who was that guy I don't know yeah have you seen my second time that it sticks for me for me and this is gonna sound horrible I'm just like oh yeah that's that peach that bounce matches a lot Oh like I long to talk about a style wolf because I don't like I don't always from a lot of the times their names like a bright smile it's so loud yeah it could be something like that it's so loud around here to that you know all right let's just given up the math pesky to the next word before I start bad talking so we've got Marth Fox going on a battlefield Fox already has Marth in a horrible spot Martha's not want to be here that is a backyard with a side B already burned there is no double jump and the ledge hug was nice a really clean stock price s around two pools we're in round two yeah I think we have just evolved from winners finals of gremlin pools we are now in round two pools it's probably still winner's bracket and we've got vortex sitting on still his Fox it looks better than I remember actually yeah so at this point of all the players are somewhat high level these are all good players now we weeded out the rest of the competition that we're gonna see nothing but good melee from this point sank made it out of his pool in winners then if that's the case which means we must have either pulled a nice upset or he just had a really good seat yeah maybe he's just real good maybe he's just be yard in WVU and that's what makes him so good oh but for stocks to one it's gonna have to start sore mounting some control over the match here starting to lose it yeah vortex is actually just looks so clean so like methodical so far so for Tex has top 100 before yeah hundred did is that it know it something but he has been on top 100 before okay I could tell you that for stocks to one that is again the side be burned nice and early there's the shine of course stock in a minute and 20 seconds that's not how you want to start round 2 pools it actually is a four stock that's a great way to start to pulse I'll just take the perspective yes that is not how you want it that is not how you want to start round two pools even like the high up be a little sloppy you know leaves a lot of room for vortex to secure the edge guard and gonna need to tighten up because vortex just looked so solid you need to have a nice tight game plan if you want to be able to make it a contest right for sure switching characters oh we've whipped out the bird okay so he probably had the hunch that the Fox was coming out had a Marth for it probably doesn't like Falco versus Fox but hey maybe the Falco was the second we don't know starting the game off there isn't even percent vortex does have an opening here especially to get a Patek on that platform chill traits yeah controlling center stage just put up a couple up tilts trying to like beat the shield drop or run off platform gets one my little one it's hard I thought that was that was actually almost a Pixlr to off of sliding him under and actually sdn him there oh yeah it was close I was almost surprised that it hit the ledge it was a pretty high down error a nice drift to make it safe huh I'll smash the shield it tries to punish it the down air doesn't work there and a shield on the up be way too early he's Sykes laughing I don't think he's convinced he's playing well right now it's gonna be a shine yeah drill really nice if you got sort of an awkward angle like that it'll put them straight down that he can go down to get an easier shine the next time I'm starting to want to root for psych here cuz I do not want my man to get eight studs it's talking around two pools as an extra ruff you know this is what the point where you don't expect that anymore I don't know roasts yeah maybe you know was another thing that is actually very worth pointing out because I am a player that is run into this myself it's called tournament stamina it happens to a lot of us yeah if you pull an upset sometimes that took a lot of energy out of you sometimes it took so much that all of a sudden you're not able to piece together as many things and you start to have this contention with yourself like I'm extremely content I did this thing I beat X player now that I feel like I've done that thing that I wanted to do like that big upset I don't care what happens next and that feeling of carelessness for a big competitor that's looking to dream big in the future it's not gonna be running into that mindset but somebody that's kind of like hey I did it awesome that's a milestone yeah you know shoot for the moon in laying on stars that whole thing that might be what we're dealing with you yeah it could be really tough like orgy lazy fools I've done already like we talked at the beginning of our round one fools block about how victory can mean so many different things exactly like you've won before you have yeah maybe you'll you've selling yourself short like the days already over um psyche does not get a hit stock so that's he gets in his own way right so you know he's probably happy with whatever he's happy with I'm sure he's just happy to be here cuz smash gun \"],\n",
       " ['SSC 2019 SSBM - TheSwooper (Samus) VS Churze (Fox) Smash Melee Round 1 Pools',\n",
       "  '962 views',\n",
       "  '12',\n",
       "  '0',\n",
       "  \"Wooper used to go by Ozymandias up hidden boss I'm actually so surprised to see him at a major this guy is fast he is technical he is crazy and he is against someone else who's kind of plays a crazy style samus this is the swooper yeah the swooper inspired by minty himself on the long island samus and of course definitely a strong samus player coming through new jersey top five multiple times one of the strongest players in the local teachers you see I will call this now as being the closest match and probably the most impenetrable yeah this should be winners finals at the pool like it says up top and it's gonna be one of those where it's sort of like the overall tournament seeds it's closer to the two middle ones rather than being yeah like very far apart yeah okay you know only 50% put on by churros so far gun not able to punish it yep I really like my salmon since fall through the platform like that it's sort of like a mix-up they have I was doing that yeah yeah I would've been home oh wow the perfect shield actually helps a lot with the positive frames for the upbeat pendulum it's just slightly less puncture factor neutral samus has all the time in the world all mission e in the world to do whatever she wants here procedures playing the platforms a lot the first charge talk we've seen hit today always good at bowling which is sometimes you don't let that full shock rip and it definitely catches people off guard when you don't even see that indicator yeah oh wow i swayed on-the-spot touch oh we've tried to let it go bomb might have helped nobody did not it's gonna be the second stock not quite yet sure is able to find his way back on the stage Wow super place so much in your face while also being able to bait you he's scaring you into thinking that he's gonna do an aggressive option by just overextending he doesn't he waits there yeah because he's expecting you to try to get away right away jurors held his ground able to get the stock but he is still down by a one life deficit yeah also he's probably painting an over extension at that point oh yeah call the story of the match so far jerseys trying to play the platforms and the swooper is just kind of like winning the yen of the yin-yang just barely avoiding him as he comes off the platforms to try to challenge yeah how about seeing oh I wanted to talk about the punish game but then I saw that up there yeah what a juggle overall sure is able to really bring it back only take him 24 percent after an entire stock couldn't get the grab after the shine same as sliding a little bit too far or the wavedash disposal practices and it looks like the adjustment from chairs is actually to play more on the ground fine if you find an opening in any matchup do it yeah there's no reason to never abuse something that goes very high could be difficult for samus to reach those Heights looks like an ATT shield gets hold by the forward smash yep and that is a charge stuck on deck as long as Oh Oh get some back I'll be honest he was really close it was hard to react to it but I was kind of surprised he got hit by that yeah even though oh wow what a trade Crouch cancels walked up up smash yeah if you are not hit by the initial grab box of the the beam grapple you can just walk right up like that get a punish yeah definitely a wacky grapple there's a lot of unique properties you won't see with other characters that's for sure we'll see the punish goes for the down air we have a really tight last stock game yeah I'm actually really intrigued to see what could happen here we can't let super lose so super doing addition he cannot lose these understand to the ground oh that has air dodge double cost thanks yeah catches a three-quarter shorten with a forward smash Luis looks very unimpressed he usually looks like that we're like slightly upset yeah one of the two right yeah but depends on if you're sweating or losing it so there nothing or huh yes upset outside of the game very pleasant yeah Yoshi's okay I was kind of expected to see like more of a long flat like FD type thing just because of the way that end of the game was going I'm assuming that final destination was off the table probably I think that's safe to say at stadiums a little scary with the double missile setups and things like that yeah missiles Samus has so much pressure with the double missiles on sides of those platforms with Heights and of course we've got founded dreams a little bit for samus dream land survivability which only leaves this guy yeah so here we are it's here double missile it came out just a second too late another uh pair he's going for probably single hit or at least more difficult to smash the other Wow impressive grab by super with the up tilting started let it rip no problem super is a charge shot her he does not hold you know how some say missus hold it he does do okay that was it's just one of those shield scramble situations you sort of call at the time a come on your opponents gonna make an action right yeah but not only that like samus couldn't really do much there when the up smashing on the shield the worst thing it was gonna do is just hit the shield and reset yeah pretty smart yeah I just like back off maybe yeah okay it could be a big punish goes for the down air okay actually a big win for sweeper they're just finding his way back down to the main platform of the stage because that was a somewhat dangerous situation as a risen and I held our breath as he tried to find his way back yeah that's for sure alright that grab is not gonna work specially to get wave shot across the bottom of Yoshi's Story yeah we see a super get one of his first dragon punches of this game so to speak yes oh I've had a little baby shot they are taking the center stage back once again catch the roll there's another early air dodge up high gets it to the forward air small punish finds his way down those shields and time that's the thing about sweeper not afraid to grab yeah I mean I think it's uh Sammis that's a big benefit because otherwise they can just run up and shield right in front of you right but he's also a no-stress range too so imagine the risk Oh the shot guys stalled him too yeah my super up by two stocks now super holding a very comfortable lead for himself here he's gonna get out of that nice bomb you have waits for the spot dodge gets the grab he's gonna be at a shield if he could but no he's gonna get shield hook will be falling up air from jurors nice job oh man the down air tech chases if you can keep the guy on the platform they're like foxes and people in there yeah keep the strangling for at least two or three more Downers and we see the swoop we're employing it looks like he's harassing him what he's actually doing in my opinion is just gradually putting on damage so that if it even does come down to last talk it's only one hit away yeah he feels very comfortable here so should be playing the lead fairly well trade damage is just good damage at this point you can do whatever you want nice missile that's another one there's the narrow especially it was lagged out because of the shy guy actually helps him connected has an up throwback here it is in fact a soft hit will and match no yeah not here just that's based you have dodging all the projectiles look like a some eight persons from tourists that is a very much fade back there and that's a big ledge hog Randall just comes out not enough to save our friend chairs here but that is a 2-0 victory before they school I like the way the swooper plays that final edge guard he has a choice to either drop and then like hit him with a move or something or grab the edge so it sort of like a 50/50 one whether he thinks fox is going to the edge or going to the stage so pretty \"],\n",
       " ['SSC 2019 SSBM - Liquid Chillindude (Fox) VS Pudgy Panda (Ice Climbers) Smash Melee Round 1 Pools',\n",
       "  '1,909 views',\n",
       "  '31',\n",
       "  '4',\n",
       "  \"in the ice bomber matchup not only does he have practice teaming with you and he's literally his practice partner from 2001 to something like that yeah that's enough being a veteran to do this yes she owns a plane I seize longer than somebody that she had have been alive a pudgy panda though really smart player I'll be happy to see how he punishes chewed at for trying to kill Nana yes so that is a possibility just like in teams and look at that he knows that Nana's already Kayode and that's the awareness that's a couple versus I sees that he can start to occupy Popo so that Nana dies on her own yeah you have to have the awareness as to when you know for a 100% fact that Hannah will not be coming back unless Popo does something about it and then he can start snuffing out the approaches because he's gonna start forcing himself forward to try to enough be saved that's the first time yeah that is a smart shine I usually go for an airy oh they're stolen yeah okay double hammers nice to start Obie is gonna throw a grip that is I'm gonna be the first wobble till next gonna grab here all right another thing about playing against I sees a lot is you get used to getting wobbled a little bit so you're like oh yeah they grabbed me you know it's fine I died that's that's how the matchup goes you sort of come to accept it yeah that is a stark a witch panic goes for a double jump up air oh nice blizzard and that's an app attack yeah that's the punch we were talking about he sees chillin trying to go Fernanda ends up being able to punish [Music] Nana with the kept intact that's a jabber set wobble hey that was a sick that have reset off finna get protect beautiful awareness my pudgy he probably actually just reacted because I'm I'm not sure I know that the AI when they're split up is thanks to BBB for this I'm is dependent up of those percent yeah however is this they were so far apart I didn't know like maybe he knows when she got protects maybe it's random I don't know that's a blizzard that's going to get me punished wow that's much complaints with Ashley okay have you di in on the ice CS down throw even so posed they can get it down smash her Kirk nice feedback by children boom nice and down here oh yeah a combo breaker well usually it doesn't work out for us public players when they throw that down a route usually oversell us here oh wow he had assists between losing and falling into that I think the sweet spot was to get hit by the weekend of the up stretch but I don't even know if that would have saved him here we've seen that chilling a few times kind of missing the shine on Nana and it's costing him so far it drills behind them you know it's even better than the drill shining to split up they cease drilling behind them so they can't grab you and then you're gonna bake the grab I'm thinking he went in front of the shield instead of behind and you can punish portly might still be able to take the stock up especially the DI on that nice punishing him for K owing Nana that is what you have to do in this matchup against someone who's so savvy at getting banana kale so we'll see what pleasure to do it this Popo he gets for damage yeah of course again if you're someone new to the game he takes a little bit of time for Nana to get back in position for the wobble so there is when she's far away often a little chance pudgy panda able to take the first game a beaut it punches Penna wins and consider him upset I would believe so only because of the experience that Schilling has the ice climbers plus I think pudgy Panna definitely has a good chance to win this I agree but I would favor chillindude here so I guess yes you could say I call it minor upset I would say minor just like I just saw her pinkie no phobia he lost to him at bounds he beat him this was just now that is middie upset it was like you know he could do it right yeah oh no that's really that's Oh grabs Nana see you can't get hit so my favorite thing is he shooting attitude he still your moose the most optimal oh the growl and then there's that jab recent oh nice I really respect fudgy Canada knowing that he's not gonna be able to get the wobble goes for a down throw setup instead this time he does get the wobble budgie wobbling the first stock away after getting shine so early percent could you imagine if you didn't go down like that yeah this could be a crazy lead but now we're just gonna go ahead and be even I always like it when there's a firework where it is the person like good start makes you feel just a little bit better about getting fuckin slapped my net is off the table however it still and do it off the table he's off the stage downer is not a bad idea it was quite a good angle otherwise I'm gonna head approaching with forward air also it's the bear get down till the super good versus so pro for sure and that wave dashing up till it's actually pretty good soap oh I thought I was dealing person that's trouble this sofa so Poe is more dangerous than you expect this is another rose mattress order like Ganon it's more about what they can't do right yeah also the nerves of killing man going okay all I have to do is kill Bobo without taking damage and then while you're thinking that in your head you get down smash yeah or you get grabbed and there's a 10 yeah there are many ways to actually die to poco even game there's a blizzard into a wobble you get 1% right a punching Panda is gonna take this to the last stock he could beat chillindude here in a pulse and this must be something like wanders finals right this is definitely worse finals the pool because we actually pledging iron we were talking about it if he wins this he has acts with the first round in tow round 2 please so this is when there's funnels no matter what these guys aren't making it out one is winners one is losers Netta able to catapult and we do have a so PO to try and get some damage tacked on before the last document actually missed nice there's a wizard it didn't stay long enough to catch the side me out I liked the risk he's like if I get this blizzard it could very well be what he just falls off the stage what he just left he married off the stage that was it it just fell I bet you he missed the jump or something are you that budgie panda wins 2-0 a little way a little deflating honest \"]]"
      ]
     },
     "execution_count": 37,
     "metadata": {},
     "output_type": "execute_result"
    }
   ],
   "source": [
    "all_vid_info"
   ]
  },
  {
   "cell_type": "code",
   "execution_count": null,
   "metadata": {},
   "outputs": [],
   "source": [
    "np.random.uniform(3,5)"
   ]
  },
  {
   "cell_type": "code",
   "execution_count": 30,
   "metadata": {},
   "outputs": [
    {
     "name": "stdout",
     "output_type": "stream",
     "text": [
      "0\n"
     ]
    }
   ],
   "source": [
    "j = 0\n",
    "for vid_info in all_vid_info:\n",
    "    if vid_info[0] == '':\n",
    "        j += 1\n",
    "print(len(all_vid_info))"
   ]
  },
  {
   "cell_type": "markdown",
   "metadata": {},
   "source": [
    "# Getting info from Title"
   ]
  },
  {
   "cell_type": "code",
   "execution_count": 31,
   "metadata": {},
   "outputs": [
    {
     "ename": "IndexError",
     "evalue": "list index out of range",
     "output_type": "error",
     "traceback": [
      "\u001b[0;31m---------------------------------------------------------------------------\u001b[0m",
      "\u001b[0;31mIndexError\u001b[0m                                Traceback (most recent call last)",
      "\u001b[0;32m<ipython-input-31-b91862ef1039>\u001b[0m in \u001b[0;36m<module>\u001b[0;34m\u001b[0m\n\u001b[0;32m----> 1\u001b[0;31m \u001b[0mtest_vid\u001b[0m \u001b[0;34m=\u001b[0m \u001b[0mall_vid_info\u001b[0m\u001b[0;34m[\u001b[0m\u001b[0;36m4\u001b[0m\u001b[0;34m]\u001b[0m\u001b[0;34m\u001b[0m\u001b[0;34m\u001b[0m\u001b[0m\n\u001b[0m\u001b[1;32m      2\u001b[0m \u001b[0mtest_title\u001b[0m \u001b[0;34m=\u001b[0m \u001b[0mtest_vid\u001b[0m\u001b[0;34m[\u001b[0m\u001b[0;36m0\u001b[0m\u001b[0;34m]\u001b[0m\u001b[0;34m.\u001b[0m\u001b[0mlower\u001b[0m\u001b[0;34m(\u001b[0m\u001b[0;34m)\u001b[0m\u001b[0;34m\u001b[0m\u001b[0;34m\u001b[0m\u001b[0m\n",
      "\u001b[0;31mIndexError\u001b[0m: list index out of range"
     ]
    }
   ],
   "source": [
    "test_vid = all_vid_info[4]\n",
    "test_title = test_vid[0].lower()"
   ]
  },
  {
   "cell_type": "code",
   "execution_count": 33,
   "metadata": {},
   "outputs": [
    {
     "data": {
      "text/plain": [
       "[]"
      ]
     },
     "execution_count": 33,
     "metadata": {},
     "output_type": "execute_result"
    }
   ],
   "source": [
    "all_vid_info"
   ]
  },
  {
   "cell_type": "code",
   "execution_count": null,
   "metadata": {},
   "outputs": [],
   "source": [
    "def get_char_from_title(title: str):\n",
    "    \"\"\"\n",
    "        given the standard title of a VGBootcamp video, extracts only the characters, \n",
    "        which are located in the Parentheses\n",
    "        \n",
    "        @Params title as string in VGBootcamp format\n",
    "        @Returns list of characters\n",
    "    \"\"\"\n",
    "    \n",
    "    paren_re_exp = '\\((.*?)\\)'\n",
    "    chars = re.findall(paren_re_exp, test_title)\n",
    "    return chars\n",
    "\n",
    "def get_tourney_from_title(title: str):  \n",
    "    \"\"\"\n",
    "        given title in VGBootcamp format, returns the name of the tourney the video came from,\n",
    "        separated by the ' - '. NOTE: keeps the SSBM or SSBU categorizer\n",
    "        \n",
    "        @Params: title as str in VGBootcamp format\n",
    "        @Returns: String of the tourney name\n",
    "    \"\"\"\n",
    "    \n",
    "    return title.split(' - ')[0]\n",
    "\n",
    "def remove_vs(player: str):\n",
    "    \"\"\"\n",
    "        removes the vs from a player, given that vs is the first word in the player string\n",
    "    \"\"\"\n",
    "    return ' '.join(player.split()[1:])\n",
    "\n",
    "def get_players_from_player_details(player_details: str):\n",
    "    \"\"\"\n",
    "        given player details text, extracts only the players and returns them as a list\n",
    "    \"\"\"\n",
    "\n",
    "def get_players(title: str):\n",
    "    \"\"\"\n",
    "        Given VGBootcamp title format, returns only the player 1 and player 2 \n",
    "        as long as the char is denoted in parenthes and removes 'vs'\n",
    "        \n",
    "        @Params full VGbootcamp title as string\n",
    "        @returns list of players\n",
    "    \"\"\"\n",
    "    split_title = title.split(' - ')\n",
    "    # for the singles formatting, when the title is split along '-', it should only have 2\n",
    "    singles = len(split_title)==2\n",
    "    tourney = split_title[0]\n",
    "    if singles:      \n",
    "        player_details = split_title[1]\n",
    "        game_details = split_title[-1]\n",
    "    info = split_title[1]\n",
    "#     player_infos = info.split(' vs. ')\n",
    "    #players info also contains the character \n",
    "    player_infos = info.split(')')[:-1]\n",
    "    players = [player_info.split('(')[0] for player_info in player_infos]\n",
    "    players[1] = remove_vs(players[1])\n",
    "    players = [player.strip() for player in players]\n",
    "    return players\n",
    "\n",
    "def get_game_from_title(title: str):\n",
    "    return title.split(')')[-1].strip()"
   ]
  },
  {
   "cell_type": "code",
   "execution_count": null,
   "metadata": {},
   "outputs": [],
   "source": [
    "players = get_players(test_title)\n",
    "print(players)\n",
    "get_game_from_title(test_title)"
   ]
  },
  {
   "cell_type": "code",
   "execution_count": null,
   "metadata": {},
   "outputs": [],
   "source": [
    "test_title"
   ]
  },
  {
   "cell_type": "code",
   "execution_count": null,
   "metadata": {},
   "outputs": [],
   "source": [
    "get_tourney_from_title(test_title)"
   ]
  },
  {
   "cell_type": "markdown",
   "metadata": {},
   "source": [
    "# Putting it all Together\n",
    "Run the script on all the playlist links and save it. "
   ]
  },
  {
   "cell_type": "code",
   "execution_count": null,
   "metadata": {},
   "outputs": [],
   "source": [
    "playlist_links[:5]"
   ]
  },
  {
   "cell_type": "code",
   "execution_count": null,
   "metadata": {},
   "outputs": [],
   "source": [
    "def get_all_vid_data_from_playlist(playlist: str):\n",
    "    \"\"\"\n",
    "        Given a string of the playlist url from VGBootcamp, \n",
    "        Retrieves all the info for each of those matches and returns them in 1 list\n",
    "        \n",
    "        The resulting data is structured with the following corresponding indeces:\n",
    "            [0] - Title\n",
    "            [1] - View Count\n",
    "            [2] - likes\n",
    "            [3] - dislikes\n",
    "            [4] - full text transcript\n",
    "        \n",
    "        @Returns a list containing lists of the video data for each as well as the title of that tourney\n",
    "    \"\"\"\n",
    "    \n",
    "    vid_urls = get_all_video_urls_from_playlist(playlist)\n",
    " \n",
    "    all_tourney_vid_data = []\n",
    "    i = 0\n",
    "    for url in vid_urls:\n",
    "        i += 1\n",
    "        if i%50==0:\n",
    "            print(url)\n",
    "        url = get_yt_without_playlist(url)\n",
    "        vid_info = get_all_info_from_yt(url)\n",
    "\n",
    "\n",
    "        #if the get_info method ends up failing, it returns an empty array\n",
    "        if len(vid_info)!=0:\n",
    "            all_tourney_vid_data.append(vid_info)\n",
    "    tourney_name = get_tourney_from_title(all_tourney_vid_data[0][0])\n",
    "    pickle.dump(all_tourney_vid_data, open(f\"playlist_data_{i}.p\", \"wb\" ) )\n",
    "    return all_tourney_vid_data, tourney_name"
   ]
  },
  {
   "cell_type": "code",
   "execution_count": null,
   "metadata": {},
   "outputs": [],
   "source": []
  },
  {
   "cell_type": "code",
   "execution_count": null,
   "metadata": {},
   "outputs": [],
   "source": [
    "# total vid data is dictionary with each key being the name of the tournament, and the value being the \n",
    "# data for each video in array format\n",
    "total_vid_data = {}\n",
    "failed_urls = []\n",
    "for playlist in playlist_links:\n",
    "    tourney_data, tourney_name = get_all_vid_data_from_playlist(playlist)\n",
    "    total_vid_data[tourney_name] = tourney_data\n",
    "    pickle.dump( total_vid_data, open( \"playlist_data.p\", \"wb\" ) )\n",
    "    "
   ]
  },
  {
   "cell_type": "code",
   "execution_count": null,
   "metadata": {},
   "outputs": [],
   "source": [
    "total_vid_data"
   ]
  },
  {
   "cell_type": "code",
   "execution_count": null,
   "metadata": {},
   "outputs": [],
   "source": [
    "len(failed_urls)"
   ]
  },
  {
   "cell_type": "code",
   "execution_count": null,
   "metadata": {},
   "outputs": [],
   "source": [
    "total_vid_data.keys()"
   ]
  },
  {
   "cell_type": "code",
   "execution_count": null,
   "metadata": {},
   "outputs": [],
   "source": [
    "len(total_vid_data['play with heart ssbu'])"
   ]
  },
  {
   "cell_type": "code",
   "execution_count": null,
   "metadata": {},
   "outputs": [],
   "source": [
    "test_playlist = playlist_links[-1]\n",
    "test_playlist"
   ]
  },
  {
   "cell_type": "code",
   "execution_count": null,
   "metadata": {},
   "outputs": [],
   "source": [
    "get_all_vid_data_from_playlist(test_playlist)"
   ]
  },
  {
   "cell_type": "code",
   "execution_count": null,
   "metadata": {},
   "outputs": [],
   "source": [
    "test"
   ]
  },
  {
   "cell_type": "code",
   "execution_count": null,
   "metadata": {},
   "outputs": [],
   "source": [
    "pwh = total_vid_data['play with heart ssbu']"
   ]
  },
  {
   "cell_type": "code",
   "execution_count": null,
   "metadata": {},
   "outputs": [],
   "source": [
    "total_vid_data.keys()"
   ]
  },
  {
   "cell_type": "code",
   "execution_count": null,
   "metadata": {},
   "outputs": [],
   "source": []
  }
 ],
 "metadata": {
  "kernelspec": {
   "display_name": "Python 3",
   "language": "python",
   "name": "python3"
  },
  "language_info": {
   "codemirror_mode": {
    "name": "ipython",
    "version": 3
   },
   "file_extension": ".py",
   "mimetype": "text/x-python",
   "name": "python",
   "nbconvert_exporter": "python",
   "pygments_lexer": "ipython3",
   "version": "3.7.3"
  }
 },
 "nbformat": 4,
 "nbformat_minor": 2
}
